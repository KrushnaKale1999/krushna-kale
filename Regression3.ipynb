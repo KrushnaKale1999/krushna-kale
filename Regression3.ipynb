{
 "cells": [
  {
   "cell_type": "code",
   "execution_count": 2,
   "id": "f90ec950-93ad-4b7a-b5b8-8197eb33f507",
   "metadata": {},
   "outputs": [],
   "source": [
    "\n",
    "### Q1. What is Ridge Regression, and how does it differ from ordinary least squares regression?\n",
    "\n",
    "#**Ridge Regression**: A linear regression technique that includes a regularization term (penalty) to shrink the coefficients towards zero to prevent overfitting.\n",
    "#The regularization term is the L2 norm (squared sum of coefficients).\n",
    "#**Difference from OLS**: Ordinary Least Squares (OLS) minimizes the sum of squared residuals, while Ridge Regression adds a penalty proportional to the sum of the squares of the coefficients (λ∑β²).\n",
    "\n",
    "### Q2. What are the assumptions of Ridge Regression?\n",
    "\n",
    "#- Linearity: The relationship between the independent and dependent variables is linear.\n",
    "#- Independence: Observations are independent.\n",
    "#- Homoscedasticity: Constant variance of errors.\n",
    "#- Normality: Errors are normally distributed (especially important for small samples).\n",
    "\n",
    "### Q3. How do you select the value of the tuning parameter (lambda) in Ridge Regression?\n",
    "\n",
    "#Lambda (λ) is typically selected using cross-validation. The value that minimizes the cross-validation error is chosen.\n",
    "\n",
    "### Q4. Can Ridge Regression be used for feature selection? If yes, how?\n",
    "\n",
    "#Ridge Regression is not typically used for feature selection because it shrinks coefficients but does not set them exactly to zero.\n",
    "#For feature selection, Lasso Regression (which uses L1 regularization) is more appropriate.\n",
    "\n",
    "### Q5. How does the Ridge Regression model perform in the presence of multicollinearity?\n",
    "\n",
    "\n",
    "#Ridge Regression performs well in the presence of multicollinearity because it adds a penalty to the size of the coefficients,\n",
    "#which helps to stabilize their values and reduce variance.\n",
    "\n",
    "### Q6. Can Ridge Regression handle both categorical and continuous independent variables?\n",
    "\n",
    "#Yes, Ridge Regression can handle both categorical and continuous independent variables. \n",
    "#Categorical variables need to be properly encoded (e.g., one-hot encoding).\n",
    "\n",
    "### Q7. How do you interpret the coefficients of Ridge Regression?\n",
    "\n",
    "#The coefficients in Ridge Regression are interpreted similarly to OLS regression, indicating the change in the dependent variable for a one-unit change in the predictor. \n",
    "#However, they are shrunk towards zero due to regularization, making them smaller than in OLS.\n",
    "\n",
    "### Q8. Can Ridge Regression be used for time-series data analysis? If yes, how?\n",
    "\n",
    "#Yes, Ridge Regression can be used for time-series data analysis. However, it is important to include lagged variables and ensure that the data is stationary.\n",
    "#Additionally, proper cross-validation techniques like time-series split should be used to avoid data leakage."
   ]
  },
  {
   "cell_type": "code",
   "execution_count": null,
   "id": "53b8aa6b-0042-4d7a-9d18-1928c93282ae",
   "metadata": {},
   "outputs": [],
   "source": []
  }
 ],
 "metadata": {
  "kernelspec": {
   "display_name": "Python 3 (ipykernel)",
   "language": "python",
   "name": "python3"
  },
  "language_info": {
   "codemirror_mode": {
    "name": "ipython",
    "version": 3
   },
   "file_extension": ".py",
   "mimetype": "text/x-python",
   "name": "python",
   "nbconvert_exporter": "python",
   "pygments_lexer": "ipython3",
   "version": "3.10.8"
  }
 },
 "nbformat": 4,
 "nbformat_minor": 5
}
