{
 "cells": [
  {
   "cell_type": "code",
   "execution_count": 11,
   "id": "035635b2-55a1-4339-84de-4d6934bc8560",
   "metadata": {},
   "outputs": [],
   "source": [
    "import abc\n",
    "class enginnering :\n",
    "    \n",
    "    @abc.abstractmethod\n",
    "    def car_name(self):\n",
    "        pass\n",
    "    \n",
    "    @abc.abstractmethod\n",
    "    def car_assy(self):\n",
    "        pass\n",
    "    "
   ]
  },
  {
   "cell_type": "code",
   "execution_count": 12,
   "id": "75e0dd04-0e5b-4b01-9f48-d56f10b00669",
   "metadata": {},
   "outputs": [],
   "source": [
    "class tata(enginnering):\n",
    "    def car_name(self):\n",
    "        return \" nexon ev \"\n",
    "    def car_assy(self):\n",
    "        return 2022"
   ]
  },
  {
   "cell_type": "code",
   "execution_count": 13,
   "id": "2468e5cc-29a1-4c5a-a170-32d0e143f111",
   "metadata": {},
   "outputs": [],
   "source": [
    "class mahindra(enginnering):\n",
    "    def car_name(self):\n",
    "        return \" mahindra xuv400 \"\n",
    "    def car_assy(self):\n",
    "        return 2000"
   ]
  },
  {
   "cell_type": "code",
   "execution_count": 14,
   "id": "d64a25fd-1de1-4ce7-a62c-7c12759e1d83",
   "metadata": {},
   "outputs": [],
   "source": [
    "car = mahindra()"
   ]
  },
  {
   "cell_type": "code",
   "execution_count": 15,
   "id": "29a69dbc-d303-4387-9dad-0b29854f4f28",
   "metadata": {},
   "outputs": [
    {
     "data": {
      "text/plain": [
       "2000"
      ]
     },
     "execution_count": 15,
     "metadata": {},
     "output_type": "execute_result"
    }
   ],
   "source": [
    "car.car_assy()"
   ]
  },
  {
   "cell_type": "code",
   "execution_count": 16,
   "id": "277ddf9e-552c-491c-b54d-a5d7a41ca8a7",
   "metadata": {},
   "outputs": [
    {
     "data": {
      "text/plain": [
       "' mahindra xuv400 '"
      ]
     },
     "execution_count": 16,
     "metadata": {},
     "output_type": "execute_result"
    }
   ],
   "source": [
    "car.car_name()"
   ]
  },
  {
   "cell_type": "code",
   "execution_count": 18,
   "id": "c2655eaf-538a-4f19-81c9-0f6a526a05fa",
   "metadata": {},
   "outputs": [],
   "source": [
    "#above is eample of abstract.\n",
    " # abstract is open to user\n",
    "#below is example of Encapsulation.\n",
    " # Encapsulation is hide to user"
   ]
  },
  {
   "cell_type": "code",
   "execution_count": 25,
   "id": "49c3039c-4f01-4b79-9210-6b326b3b53ad",
   "metadata": {},
   "outputs": [],
   "source": [
    "class car :\n",
    "    def __init__(self , year , make , model ) : \n",
    "        \n",
    "        self.__year = year \n",
    "        self.__make = make\n",
    "        self.__model = model\n",
    "    "
   ]
  },
  {
   "cell_type": "code",
   "execution_count": 26,
   "id": "7fe3fa7a-9d32-4d21-a62e-ccfcbcf90e0c",
   "metadata": {},
   "outputs": [],
   "source": [
    "m = car( 2023 , \"ford\" , \"gtmustang\" )"
   ]
  },
  {
   "cell_type": "code",
   "execution_count": 27,
   "id": "f126558e-7b37-4123-8cec-4ae83e4df1ce",
   "metadata": {},
   "outputs": [
    {
     "data": {
      "text/plain": [
       "2023"
      ]
     },
     "execution_count": 27,
     "metadata": {},
     "output_type": "execute_result"
    }
   ],
   "source": [
    "m._car__year"
   ]
  },
  {
   "cell_type": "code",
   "execution_count": 28,
   "id": "39ea2eca-23e8-484f-9c1e-9cf5a780ba99",
   "metadata": {},
   "outputs": [
    {
     "data": {
      "text/plain": [
       "'ford'"
      ]
     },
     "execution_count": 28,
     "metadata": {},
     "output_type": "execute_result"
    }
   ],
   "source": [
    "m._car__make"
   ]
  },
  {
   "cell_type": "code",
   "execution_count": 29,
   "id": "31a2249d-ca60-4c3b-8255-ce563988d082",
   "metadata": {},
   "outputs": [
    {
     "data": {
      "text/plain": [
       "'gtmustang'"
      ]
     },
     "execution_count": 29,
     "metadata": {},
     "output_type": "execute_result"
    }
   ],
   "source": [
    "m._car__model"
   ]
  },
  {
   "cell_type": "code",
   "execution_count": 32,
   "id": "e2c277fe-f5a5-4039-b921-55497c058df2",
   "metadata": {},
   "outputs": [],
   "source": [
    "#The abc module is used to define abstract base classes that enforce a specific interface and ensure that subclasses implement required methods. \n",
    "#t Helps in achieving code modularity, polymorphism ."
   ]
  },
  {
   "cell_type": "code",
   "execution_count": 33,
   "id": "4fd3821f-85c4-4cff-b122-438bda5d9f60",
   "metadata": {},
   "outputs": [],
   "source": [
    "# we achieve data abstraction # in class , in Encapasolution , in Inheritance"
   ]
  },
  {
   "cell_type": "code",
   "execution_count": null,
   "id": "2d5a6d1b-d879-4a77-b1c5-eefaa2c923ef",
   "metadata": {},
   "outputs": [],
   "source": [
    "# No, we cannot create an instance of an abstract class in Python.\n"
   ]
  }
 ],
 "metadata": {
  "kernelspec": {
   "display_name": "Python 3 (ipykernel)",
   "language": "python",
   "name": "python3"
  },
  "language_info": {
   "codemirror_mode": {
    "name": "ipython",
    "version": 3
   },
   "file_extension": ".py",
   "mimetype": "text/x-python",
   "name": "python",
   "nbconvert_exporter": "python",
   "pygments_lexer": "ipython3",
   "version": "3.10.8"
  }
 },
 "nbformat": 4,
 "nbformat_minor": 5
}
