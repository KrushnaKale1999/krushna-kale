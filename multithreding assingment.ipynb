{
 "cells": [
  {
   "cell_type": "code",
   "execution_count": 1,
   "id": "ac796d82-cfe3-4cf4-8b78-c753dd113953",
   "metadata": {},
   "outputs": [],
   "source": [
    "# Multithreading in Python refers to the capability of a program to have multiple threads of execution running concurrently within the same process. Each thread represents an independent flow of control and can perform tasks simultaneously with other threads.\n",
    "#The module used to handle threads in Python is called threading. "
   ]
  },
  {
   "cell_type": "code",
   "execution_count": 1,
   "id": "77b8cf15-f430-45da-bfcd-a2d1d217ecc5",
   "metadata": {},
   "outputs": [],
   "source": [
    "#The threading module is used in Python to create and manage threads. It provides a high-level interface for working with threads, allowing you to implement concurrent execution of tasks and leverage multiple CPU cores (in the case of I/O-bound tasks) to improve performance.\n",
    "#activeCount(): Returns the number of currently active threads, including the main thread.\n",
    "#currentThread(): Returns the currently executing thread object.\n",
    "#enumerate(): Returns a list of all currently active thread objects, including the main thread."
   ]
  },
  {
   "cell_type": "code",
   "execution_count": 2,
   "id": "d7756c4b-8ad1-4151-a86d-ab598aac7900",
   "metadata": {},
   "outputs": [],
   "source": [
    "#run(): Method that defines the behavior of the thread when it's started using start(). Override it in a custom Thread subclass to specify the thread's task.\n",
    "\n",
    "#start(): Method to start the execution of the thread by calling its run() method.\n",
    "\n",
    "#join(): Method that blocks the program until the thread finishes its task.\n",
    "\n",
    "#isAlive(): Method to check if the thread is currently running (True) or has completed its execution (False)."
   ]
  },
  {
   "cell_type": "code",
   "execution_count": 3,
   "id": "97f28063-b72a-4810-a203-fcedd7fe3bca",
   "metadata": {},
   "outputs": [
    {
     "name": "stdout",
     "output_type": "stream",
     "text": [
      "Square: 1\n",
      "Square: 4\n",
      "Square: 9\n",
      "Square: 16\n",
      "Square: 25\n",
      "Cube: 1\n",
      "Cube: 8\n",
      "Cube: 27\n",
      "Cube: 64\n",
      "Cube: 125\n"
     ]
    }
   ],
   "source": [
    "import threading\n",
    "\n",
    "def print_squares(numbers):\n",
    "    for num in numbers:\n",
    "        print(f\"Square: {num ** 2}\")\n",
    "\n",
    "def print_cubes(numbers):\n",
    "    for num in numbers:\n",
    "        print(f\"Cube: {num ** 3}\")\n",
    "\n",
    "if __name__ == \"__main__\":\n",
    "    numbers_list = [1, 2, 3, 4, 5]\n",
    "\n",
    "    thread1 = threading.Thread(target=print_squares, args=(numbers_list,))\n",
    "    thread2 = threading.Thread(target=print_cubes, args=(numbers_list,))\n",
    "    thread1.start()\n",
    "    thread2.start()\n",
    "    thread1.join()\n",
    "    thread2.join()\n",
    "\n"
   ]
  },
  {
   "cell_type": "code",
   "execution_count": 4,
   "id": "678be60c-e9ac-4722-8416-1a11541a1489",
   "metadata": {},
   "outputs": [],
   "source": [
    "#Advantages of Multithreading:\n",
    "\n",
    "#Concurrent Execution - Perform multiple tasks simultaneously.\n",
    "#Resource Sharing - Efficiently share data between threads.\n",
    "#Responsiveness - Main thread remains responsive to user interactions.\n",
    "#Parallelism - Speed up I/O-bound tasks.\n",
    "\n",
    "#Disadvantages of Multithreading:\n",
    "\n",
    "#Complexity - Synchronization and race condition handling.\n",
    "#Race Conditions - Conflicts in shared resource access.\n",
    "#Deadlocks - Threads waiting for each other's resources.\n",
    "#GIL Limitations - Restricted parallelism in Python.\n",
    "#Debugging - Complex debugging process.\n",
    "#Memory Overhead - Increased memory usage.\n"
   ]
  },
  {
   "cell_type": "code",
   "execution_count": null,
   "id": "b0995b65-dac4-47bf-b550-bc51ce289bfa",
   "metadata": {},
   "outputs": [],
   "source": [
    "#Deadlocks:\n",
    "\n",
    "#Deadlock occurs when multiple threads are waiting for resources held by each other.\n",
    "#Threads are stuck in a circular dependency and cannot proceed.\n",
    "#Can lead to system freeze or unresponsiveness.\n",
    "#Requires careful programming and resource allocation to avoid.\n",
    "#Race Conditions:\n",
    "\n",
    "Race condition occurs when multiple threads access and modify shared resources simultaneously without proper synchronization.\n",
    "The outcome becomes unpredictable or incorrect.\n",
    "Can lead to inconsistent program behavior.\n",
    "Prevented by using synchronization mechanisms like locks or semaphores."
   ]
  }
 ],
 "metadata": {
  "kernelspec": {
   "display_name": "Python 3 (ipykernel)",
   "language": "python",
   "name": "python3"
  },
  "language_info": {
   "codemirror_mode": {
    "name": "ipython",
    "version": 3
   },
   "file_extension": ".py",
   "mimetype": "text/x-python",
   "name": "python",
   "nbconvert_exporter": "python",
   "pygments_lexer": "ipython3",
   "version": "3.10.8"
  }
 },
 "nbformat": 4,
 "nbformat_minor": 5
}
