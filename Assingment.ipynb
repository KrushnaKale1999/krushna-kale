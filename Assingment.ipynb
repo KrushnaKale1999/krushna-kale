{
 "cells": [
  {
   "cell_type": "code",
   "execution_count": 12,
   "id": "baa9c892-f302-456f-a3ce-bc42d4a9d352",
   "metadata": {},
   "outputs": [],
   "source": [
    "a = \"krushna\""
   ]
  },
  {
   "cell_type": "code",
   "execution_count": 13,
   "id": "e237d181-ff5d-4661-a02e-66d5d32cada5",
   "metadata": {},
   "outputs": [
    {
     "data": {
      "text/plain": [
       "str"
      ]
     },
     "execution_count": 13,
     "metadata": {},
     "output_type": "execute_result"
    }
   ],
   "source": [
    "type(a)"
   ]
  },
  {
   "cell_type": "code",
   "execution_count": 14,
   "id": "7f8bc974-407b-4ba5-9097-4b20a9e1a8b3",
   "metadata": {},
   "outputs": [],
   "source": [
    "b = [ 2,3,55,663.2,5+6j,True ]"
   ]
  },
  {
   "cell_type": "code",
   "execution_count": 15,
   "id": "529715ed-a298-4b86-9007-fbf3b9ea93a1",
   "metadata": {},
   "outputs": [
    {
     "data": {
      "text/plain": [
       "list"
      ]
     },
     "execution_count": 15,
     "metadata": {},
     "output_type": "execute_result"
    }
   ],
   "source": [
    "type(b)"
   ]
  },
  {
   "cell_type": "code",
   "execution_count": 16,
   "id": "0831ee13-ad88-40a0-ade3-92ff72f014cc",
   "metadata": {},
   "outputs": [],
   "source": [
    "c=8872.25"
   ]
  },
  {
   "cell_type": "code",
   "execution_count": 17,
   "id": "c12157b8-7e58-4d9e-949b-672fbe60f2cd",
   "metadata": {},
   "outputs": [
    {
     "data": {
      "text/plain": [
       "float"
      ]
     },
     "execution_count": 17,
     "metadata": {},
     "output_type": "execute_result"
    }
   ],
   "source": [
    "type (c)"
   ]
  },
  {
   "cell_type": "code",
   "execution_count": 18,
   "id": "99202879-d423-4ea3-b86a-6096267b65af",
   "metadata": {},
   "outputs": [],
   "source": [
    "d = ( 2.2,556,\"kk\")"
   ]
  },
  {
   "cell_type": "code",
   "execution_count": 19,
   "id": "59c71cbe-f0ff-453a-8bbd-e084fc02c865",
   "metadata": {},
   "outputs": [
    {
     "data": {
      "text/plain": [
       "tuple"
      ]
     },
     "execution_count": 19,
     "metadata": {},
     "output_type": "execute_result"
    }
   ],
   "source": [
    "type (d)"
   ]
  },
  {
   "cell_type": "code",
   "execution_count": 40,
   "id": "31797da5-c0e5-4429-8b17-bf2e8b8b92f9",
   "metadata": {},
   "outputs": [],
   "source": [
    "var1 ='kk'"
   ]
  },
  {
   "cell_type": "code",
   "execution_count": 42,
   "id": "3534403b-55e2-4011-ba73-9b725bf31596",
   "metadata": {},
   "outputs": [
    {
     "data": {
      "text/plain": [
       "str"
      ]
     },
     "execution_count": 42,
     "metadata": {},
     "output_type": "execute_result"
    }
   ],
   "source": [
    "type(var1)"
   ]
  },
  {
   "cell_type": "code",
   "execution_count": 26,
   "id": "dd25b9f3-53e3-4e66-b914-6b4fe210ab21",
   "metadata": {},
   "outputs": [],
   "source": [
    "var2 = [ 'DS' , 'ML' , 'Python']"
   ]
  },
  {
   "cell_type": "code",
   "execution_count": 29,
   "id": "1f2d088d-96a1-4f94-a3d4-39164f2a2016",
   "metadata": {},
   "outputs": [
    {
     "data": {
      "text/plain": [
       "list"
      ]
     },
     "execution_count": 29,
     "metadata": {},
     "output_type": "execute_result"
    }
   ],
   "source": [
    "type (var2)"
   ]
  },
  {
   "cell_type": "code",
   "execution_count": 31,
   "id": "7a77ea3c-e8d0-4ec7-9f78-60dd8f0e40a4",
   "metadata": {},
   "outputs": [],
   "source": [
    "var3 = [ 'DS','ML','PYTHON' ]"
   ]
  },
  {
   "cell_type": "code",
   "execution_count": 32,
   "id": "07283419-00c1-432c-a63a-884b03c72677",
   "metadata": {},
   "outputs": [
    {
     "data": {
      "text/plain": [
       "list"
      ]
     },
     "execution_count": 32,
     "metadata": {},
     "output_type": "execute_result"
    }
   ],
   "source": [
    "type(var3)"
   ]
  },
  {
   "cell_type": "code",
   "execution_count": 37,
   "id": "15153d0c-7333-4a4e-89a1-10e50380c59d",
   "metadata": {},
   "outputs": [],
   "source": [
    "var4 = 1."
   ]
  },
  {
   "cell_type": "code",
   "execution_count": 38,
   "id": "94077d68-c2a8-4e30-892b-2dfad188a3f1",
   "metadata": {},
   "outputs": [
    {
     "data": {
      "text/plain": [
       "float"
      ]
     },
     "execution_count": 38,
     "metadata": {},
     "output_type": "execute_result"
    }
   ],
   "source": [
    "type(var4)"
   ]
  },
  {
   "cell_type": "code",
   "execution_count": null,
   "id": "23404071-3a36-46a8-8e23-5c0044878c3b",
   "metadata": {},
   "outputs": [],
   "source": []
  }
 ],
 "metadata": {
  "kernelspec": {
   "display_name": "Python 3 (ipykernel)",
   "language": "python",
   "name": "python3"
  },
  "language_info": {
   "codemirror_mode": {
    "name": "ipython",
    "version": 3
   },
   "file_extension": ".py",
   "mimetype": "text/x-python",
   "name": "python",
   "nbconvert_exporter": "python",
   "pygments_lexer": "ipython3",
   "version": "3.10.8"
  }
 },
 "nbformat": 4,
 "nbformat_minor": 5
}
