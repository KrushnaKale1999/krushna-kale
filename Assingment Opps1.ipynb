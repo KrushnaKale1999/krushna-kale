{
 "cells": [
  {
   "cell_type": "code",
   "execution_count": 4,
   "id": "5d5f307e-90a6-4c12-acc1-f7414188b545",
   "metadata": {},
   "outputs": [],
   "source": [
    "class pwskill :\n",
    "    def __init__(self , name , birth_year ,roll_num ):\n",
    "        self.name= name\n",
    "        self.birth_year = birth_year\n",
    "        self.roll_num = roll_num\n",
    "    def student_num (self , roll_num ):\n",
    "        return roll_num"
   ]
  },
  {
   "cell_type": "code",
   "execution_count": 5,
   "id": "8890a61e-59f1-4a2e-879a-6a08085bea35",
   "metadata": {},
   "outputs": [],
   "source": [
    "pw = pwskill( \"krish\" , 1999 , 85 )"
   ]
  },
  {
   "cell_type": "code",
   "execution_count": 6,
   "id": "8981841f-953f-451b-b2ad-75800eb1d4ea",
   "metadata": {},
   "outputs": [
    {
     "data": {
      "text/plain": [
       "1999"
      ]
     },
     "execution_count": 6,
     "metadata": {},
     "output_type": "execute_result"
    }
   ],
   "source": [
    "pw.birth_year"
   ]
  },
  {
   "cell_type": "code",
   "execution_count": 7,
   "id": "aaa439c4-f431-4614-9403-fcf943e0d6f2",
   "metadata": {},
   "outputs": [
    {
     "data": {
      "text/plain": [
       "'krish'"
      ]
     },
     "execution_count": 7,
     "metadata": {},
     "output_type": "execute_result"
    }
   ],
   "source": [
    "pw.name"
   ]
  },
  {
   "cell_type": "code",
   "execution_count": 8,
   "id": "4bde01e8-8730-41d6-ac5e-1bb5970e5f3b",
   "metadata": {},
   "outputs": [
    {
     "data": {
      "text/plain": [
       "85"
      ]
     },
     "execution_count": 8,
     "metadata": {},
     "output_type": "execute_result"
    }
   ],
   "source": [
    "pw.roll_num"
   ]
  },
  {
   "cell_type": "code",
   "execution_count": 9,
   "id": "c63f0cfa-4851-4690-9314-58dd0decb149",
   "metadata": {},
   "outputs": [
    {
     "data": {
      "text/plain": [
       "99"
      ]
     },
     "execution_count": 9,
     "metadata": {},
     "output_type": "execute_result"
    }
   ],
   "source": [
    "pw.student_num(99)"
   ]
  },
  {
   "cell_type": "code",
   "execution_count": 11,
   "id": "bc1f707c-3b66-49ec-9e42-9bf6a1802da0",
   "metadata": {},
   "outputs": [
    {
     "data": {
      "text/plain": [
       "4.0"
      ]
     },
     "execution_count": 11,
     "metadata": {},
     "output_type": "execute_result"
    }
   ],
   "source": [
    "# Name of four pillers od Oops :\n",
    "1. #Encapsulation\n",
    "2. #Imheritance\n",
    "3. #Polymorphism\n",
    "4. #Abstration"
   ]
  },
  {
   "cell_type": "code",
   "execution_count": 12,
   "id": "7d086483-2956-428d-9690-780eb67e79c7",
   "metadata": {},
   "outputs": [],
   "source": [
    "#The __init__ function is a special method in Python classes that is automatically called when an object of the class is created. It is used to initialize the attributes  of the object with the provided values."
   ]
  },
  {
   "cell_type": "code",
   "execution_count": 41,
   "id": "bacc9490-20b1-4132-a1c2-3efe83980253",
   "metadata": {},
   "outputs": [],
   "source": [
    "class pwskills1 :\n",
    "    def __init__(self , name , birth_year ,roll_num ):\n",
    "        self.name= name\n",
    "        self.birth_year = birth_year\n",
    "        self.roll_num = roll_num\n",
    "    \n",
    "    def return_details(self, name , birth_year , roll_num):\n",
    "        return(self.return_details)"
   ]
  },
  {
   "cell_type": "code",
   "execution_count": 42,
   "id": "84c68949-0245-4090-99ec-e6b4c4880f1f",
   "metadata": {},
   "outputs": [],
   "source": [
    "pw = pwskills1( \"krish\" , 1998 , 65)"
   ]
  },
  {
   "cell_type": "code",
   "execution_count": 44,
   "id": "a5f1ee74-c7d2-4c64-b3f7-4be9705f7dbf",
   "metadata": {},
   "outputs": [
    {
     "data": {
      "text/plain": [
       "'krish'"
      ]
     },
     "execution_count": 44,
     "metadata": {},
     "output_type": "execute_result"
    }
   ],
   "source": [
    "pw.name"
   ]
  },
  {
   "cell_type": "code",
   "execution_count": 45,
   "id": "99916890-ec83-4921-a30d-c946b5ae95fc",
   "metadata": {},
   "outputs": [
    {
     "data": {
      "text/plain": [
       "65"
      ]
     },
     "execution_count": 45,
     "metadata": {},
     "output_type": "execute_result"
    }
   ],
   "source": [
    "pw.roll_num"
   ]
  },
  {
   "cell_type": "code",
   "execution_count": 46,
   "id": "dd729f85-7380-42c8-9c14-3d0ba96d7ae6",
   "metadata": {},
   "outputs": [
    {
     "data": {
      "text/plain": [
       "1998"
      ]
     },
     "execution_count": 46,
     "metadata": {},
     "output_type": "execute_result"
    }
   ],
   "source": [
    "pw.birth_year"
   ]
  },
  {
   "cell_type": "code",
   "execution_count": 47,
   "id": "17a46cf2-8a4a-49af-8ac5-cea932e1d501",
   "metadata": {},
   "outputs": [],
   "source": [
    "#self is used in OOP to reference the current instance of the class and enables the object to access and modify its own attributes and invoke its own methods."
   ]
  },
  {
   "cell_type": "code",
   "execution_count": 48,
   "id": "c68a1a82-a9a0-4dcf-999f-b79b872dbaf8",
   "metadata": {},
   "outputs": [],
   "source": [
    "#Inheritance is a fundamental concept in object-oriented programming (OOP) that allows for the creation of new classes (derived classes) based on existing classes (base or parent classes)"
   ]
  },
  {
   "cell_type": "code",
   "execution_count": 62,
   "id": "0afb10d6-bd05-4cea-8a62-af30ba323f4a",
   "metadata": {},
   "outputs": [],
   "source": [
    "#single inheritance\n",
    "class class1 :\n",
    "    def test_class1(self) : \n",
    "        print(\"this is my class1 \" )"
   ]
  },
  {
   "cell_type": "code",
   "execution_count": 63,
   "id": "c2319ecb-957b-4c8b-8834-b27923ff774e",
   "metadata": {},
   "outputs": [],
   "source": [
    "class class2(class1) : \n",
    "    def test_class2(self) : \n",
    "        print(\"this is my class2\" )\n",
    "        "
   ]
  },
  {
   "cell_type": "code",
   "execution_count": 64,
   "id": "418938be-22f8-400f-a263-274d1c948b8c",
   "metadata": {},
   "outputs": [],
   "source": [
    "class class3(class2) : \n",
    "    def test_class3(self) : \n",
    "        print(\"this is my class3 \")"
   ]
  },
  {
   "cell_type": "code",
   "execution_count": 65,
   "id": "7cb505b0-4670-4ed9-af5b-9a61cce2145a",
   "metadata": {},
   "outputs": [],
   "source": [
    "obj_class3 = class3()"
   ]
  },
  {
   "cell_type": "code",
   "execution_count": 66,
   "id": "523c8551-868d-464f-94f0-c113f2812e45",
   "metadata": {},
   "outputs": [
    {
     "name": "stdout",
     "output_type": "stream",
     "text": [
      "this is my class1 \n"
     ]
    }
   ],
   "source": [
    "obj_class3.test_class1()"
   ]
  },
  {
   "cell_type": "code",
   "execution_count": 67,
   "id": "aae28a87-2892-4142-a907-105a088bedee",
   "metadata": {},
   "outputs": [
    {
     "name": "stdout",
     "output_type": "stream",
     "text": [
      "this is my class2\n"
     ]
    }
   ],
   "source": [
    "obj_class3.test_class2()"
   ]
  },
  {
   "cell_type": "code",
   "execution_count": 68,
   "id": "cfaca6b5-0eaf-47cf-8039-835ab4349c5d",
   "metadata": {},
   "outputs": [
    {
     "name": "stdout",
     "output_type": "stream",
     "text": [
      "this is my class3 \n"
     ]
    }
   ],
   "source": [
    "obj_class3.test_class3()"
   ]
  },
  {
   "cell_type": "code",
   "execution_count": 69,
   "id": "43db937b-2a99-4ff1-a737-8aac0f646cc2",
   "metadata": {},
   "outputs": [],
   "source": [
    "# multiple inheritance\n",
    "class class1:\n",
    "    def test_class1(self) : \n",
    "        print(\"this is my class 1\" )"
   ]
  },
  {
   "cell_type": "code",
   "execution_count": 70,
   "id": "72330df8-4b7e-47e5-8791-788e8b90257e",
   "metadata": {},
   "outputs": [],
   "source": [
    "class class2 :\n",
    "    def test_class2(self) : \n",
    "        print(\"this is my class 2\")"
   ]
  },
  {
   "cell_type": "code",
   "execution_count": 71,
   "id": "0de7ff5c-d68f-446d-b769-7285a9acd2fd",
   "metadata": {},
   "outputs": [],
   "source": [
    "class class3 ( class1 , class2 ):\n",
    "    pass"
   ]
  },
  {
   "cell_type": "code",
   "execution_count": 72,
   "id": "9679bf0c-dff2-4041-a9c6-3384a783edcb",
   "metadata": {},
   "outputs": [],
   "source": [
    "obj_class3 = class3()"
   ]
  },
  {
   "cell_type": "code",
   "execution_count": 73,
   "id": "c57c7780-7e4a-4b60-a5d0-91e14a106401",
   "metadata": {},
   "outputs": [
    {
     "name": "stdout",
     "output_type": "stream",
     "text": [
      "this is my class 1\n"
     ]
    }
   ],
   "source": [
    "obj_class3.test_class1()"
   ]
  },
  {
   "cell_type": "code",
   "execution_count": 74,
   "id": "5e1db746-f067-4db2-a2eb-67d90d735140",
   "metadata": {},
   "outputs": [
    {
     "name": "stdout",
     "output_type": "stream",
     "text": [
      "this is my class 2\n"
     ]
    }
   ],
   "source": [
    "obj_class3.test_class2()"
   ]
  },
  {
   "cell_type": "code",
   "execution_count": null,
   "id": "83fbe17a-7a12-4a8e-b19f-945374b21a55",
   "metadata": {},
   "outputs": [],
   "source": []
  }
 ],
 "metadata": {
  "kernelspec": {
   "display_name": "Python 3 (ipykernel)",
   "language": "python",
   "name": "python3"
  },
  "language_info": {
   "codemirror_mode": {
    "name": "ipython",
    "version": 3
   },
   "file_extension": ".py",
   "mimetype": "text/x-python",
   "name": "python",
   "nbconvert_exporter": "python",
   "pygments_lexer": "ipython3",
   "version": "3.10.8"
  }
 },
 "nbformat": 4,
 "nbformat_minor": 5
}
