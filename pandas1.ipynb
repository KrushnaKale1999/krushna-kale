{
 "cells": [
  {
   "cell_type": "code",
   "execution_count": 2,
   "id": "0b19a29e-0e6a-4434-b62d-adc8e9489d4a",
   "metadata": {},
   "outputs": [],
   "source": [
    "## List any five functions of the pandas library .\n",
    "import pandas as pd\n",
    "#pd.read_csv()\n",
    "#pd.tail()\n",
    "#pd.DataFrame\n",
    "#pd.descibe()\n",
    "#pd.read_excel()\n",
    "#pd.shape"
   ]
  },
  {
   "cell_type": "code",
   "execution_count": 3,
   "id": "439ea3bf-37c3-4101-9a65-2371d1b2c8df",
   "metadata": {},
   "outputs": [
    {
     "name": "stdout",
     "output_type": "stream",
     "text": [
      "Original DataFrame:\n",
      "   A  B  C\n",
      "0  1  4  7\n",
      "1  2  5  8\n",
      "2  3  6  9\n",
      "\n",
      "Reindexed DataFrame:\n",
      "   A  B  C\n",
      "1  1  4  7\n",
      "3  2  5  8\n",
      "5  3  6  9\n"
     ]
    }
   ],
   "source": [
    "#Given a Pandas DataFrame df with columns 'A', 'B', and 'C', write a Python function to re-index the DataFrame with a new index that starts from 1 and increments by 2 for each row.\n",
    "import pandas as pd\n",
    "\n",
    "def reindex_dataframe(df):\n",
    "    new_index = range(1, 2*len(df) + 1, 2)\n",
    "    df.index = new_index\n",
    "    return df\n",
    "\n",
    "data = {'A': [1, 2, 3], 'B': [4, 5, 6], 'C': [7, 8, 9]}\n",
    "df = pd.DataFrame(data)\n",
    "print(\"Original DataFrame:\")\n",
    "print(df)\n",
    "\n",
    "reindexed_df = reindex_dataframe(df)\n",
    "print(\"\\nReindexed DataFrame:\")\n",
    "print(reindexed_df)\n"
   ]
  },
  {
   "cell_type": "code",
   "execution_count": 4,
   "id": "a4b7a02d-5bd6-4a21-a109-ee85206c487c",
   "metadata": {},
   "outputs": [
    {
     "name": "stdout",
     "output_type": "stream",
     "text": [
      "Sum of the first three values: 60\n"
     ]
    }
   ],
   "source": [
    "##You have a Pandas DataFrame df with a column named 'Values'. Write a Python function that iterates over the DataFrame and calculates the sum of the first three values in the 'Values' column. Thefunction should print the sum to the console.For example, if the 'Values' column of df contains the values [10, 20, 30, 40, 50], your function should\n",
    "#calculate and print the sum of the first three values, which is 60.\n",
    "\n",
    "import pandas as pd\n",
    "\n",
    "def sum_first_three_values(df):\n",
    "    \n",
    "    if len(df['Values']) >= 3:\n",
    "      \n",
    "        sum_values = df['Values'].iloc[:3].sum()\n",
    "    \n",
    "        print(\"Sum of the first three values:\", sum_values)\n",
    "    else:\n",
    "        print(\"The 'Values' column does not have enough data.\")\n",
    "\n",
    "\n",
    "data = {'Values': [10, 20, 30, 40, 50]}\n",
    "df = pd.DataFrame(data)\n",
    "sum_first_three_values(df)\n"
   ]
  },
  {
   "cell_type": "code",
   "execution_count": 5,
   "id": "14f8b581-ad62-48fb-ba66-47807a81a1f8",
   "metadata": {},
   "outputs": [
    {
     "name": "stdout",
     "output_type": "stream",
     "text": [
      "Original DataFrame:\n",
      "                 Text\n",
      "0         Hello world\n",
      "1     Pandas is great\n",
      "2  This is an example\n",
      "\n",
      "DataFrame with Word Count:\n",
      "                 Text  Word_Count\n",
      "0         Hello world           2\n",
      "1     Pandas is great           3\n",
      "2  This is an example           4\n"
     ]
    }
   ],
   "source": [
    "#Given a Pandas DataFrame df with a column 'Text', write a Python function to create a new column 'Word_Count' that contains the number of words in each row of the 'Text' column.\n",
    "\n",
    "import pandas as pd\n",
    "\n",
    "def add_word_count_column(df):\n",
    "  \n",
    "    def count_words(text):\n",
    "        return len(text.split())\n",
    "\n",
    "\n",
    "    df['Word_Count'] = df['Text'].apply(count_words)\n",
    "    return df\n",
    "\n",
    "\n",
    "data = {'Text': [\"Hello world\", \"Pandas is great\", \"This is an example\"]}\n",
    "df = pd.DataFrame(data)\n",
    "print(\"Original DataFrame:\")\n",
    "print(df)\n",
    "\n",
    "df_with_word_count = add_word_count_column(df)\n",
    "print(\"\\nDataFrame with Word Count:\")\n",
    "print(df_with_word_count)\n"
   ]
  },
  {
   "cell_type": "code",
   "execution_count": 6,
   "id": "9d9b655a-6f5c-427a-8f7e-50f7730fb8ea",
   "metadata": {},
   "outputs": [
    {
     "name": "stdout",
     "output_type": "stream",
     "text": [
      "DataFrame size: 9\n",
      "DataFrame shape: (3, 3)\n"
     ]
    }
   ],
   "source": [
    "#### How are DataFrame.size() and DataFrame.shape() different?\n",
    "##Definition: The total number of elements in the DataFrame.\n",
    "data = {'A': [1, 2, 3], 'B': [4, 5, 6], 'C': [7, 8, 9]}\n",
    "df = pd.DataFrame(data)\n",
    "print(\"DataFrame size:\", df.size)\n",
    "\n",
    "##Definition: The dimensions of the DataFrame.\n",
    "data = {'A': [1, 2, 3], 'B': [4, 5, 6], 'C': [7, 8, 9]}\n",
    "df = pd.DataFrame(data)\n",
    "print(\"DataFrame shape:\", df.shape)"
   ]
  },
  {
   "cell_type": "code",
   "execution_count": 8,
   "id": "3ef3c2db-6218-4cb1-a0ff-f5eace8679b5",
   "metadata": {},
   "outputs": [],
   "source": [
    "##  Which function of pandas do we use to read an excel file?\n",
    "## pd.read_excel(\"\")"
   ]
  },
  {
   "cell_type": "code",
   "execution_count": 10,
   "id": "5c9fa8b2-018a-40f2-9a1f-735ab1ddea69",
   "metadata": {},
   "outputs": [
    {
     "name": "stdout",
     "output_type": "stream",
     "text": [
      "                       Email    Username\n",
      "0       john.doe@example.com    john.doe\n",
      "1      jane.smith@domain.com  jane.smith\n",
      "2  user123@anotherdomain.org     user123\n"
     ]
    }
   ],
   "source": [
    "## You have a Pandas DataFrame df that contains a column named 'Email' that contains email addresses in the format 'username@domain.com'. Write a Python function that creates a new column 'Username' in df that contains only the username part of each email address.\n",
    "## The username is the part of the email address that appears before the '@' symbol. For example, if thee mail address is 'john.doe@example.com', the 'Username' column should contain 'john.doe'. Your\n",
    "## function should extract the username from each email address and store it in the new 'Username'column.\n",
    "\n",
    "import pandas as pd\n",
    "\n",
    "def extract_usernames(df):\n",
    "   \n",
    "    df['Username'] = df['Email'].str.split('@').str[0]\n",
    "    return df\n",
    "\n",
    "\n",
    "data = {'Email': ['john.doe@example.com', 'jane.smith@domain.com', 'user123@anotherdomain.org']}\n",
    "df = pd.DataFrame(data)\n",
    "\n",
    "# Call the function to create the 'Username' column\n",
    "df = extract_usernames(df)\n",
    "\n",
    "print(df)\n"
   ]
  },
  {
   "cell_type": "code",
   "execution_count": 12,
   "id": "12906c0d-c554-4640-9ae3-124017d71d87",
   "metadata": {},
   "outputs": [
    {
     "name": "stdout",
     "output_type": "stream",
     "text": [
      "{'mean': 30.0, 'median': 30.0, 'std_dev': 15.811388300841896}\n"
     ]
    }
   ],
   "source": [
    "##Given a Pandas DataFrame df with a column 'Values', write a Python function to calculate the mean, median, and standard deviation of the values in the 'Values' column.\n",
    "\n",
    "def calculate_statistics(df):\n",
    "    return {\n",
    "        'mean': df['Values'].mean(),\n",
    "        'median': df['Values'].median(),\n",
    "        'std_dev': df['Values'].std()\n",
    "    }\n",
    "\n",
    "\n",
    "data = {'Values': [10, 20, 30, 40, 50]}\n",
    "df = pd.DataFrame(data)\n",
    "\n",
    "\n",
    "stats = calculate_statistics(df)\n",
    "\n",
    "print(stats)\n"
   ]
  },
  {
   "cell_type": "markdown",
   "id": "c6cdc5ec-7220-4bed-9897-a0e69f0a22e0",
   "metadata": {},
   "source": [
    "You have a Pandas DataFrame df with a column 'Date'. Write a Python function that creates a new\n",
    "column 'Weekday' in the DataFrame. The 'Weekday' column should contain the weekday name (e.g.\n",
    "Monday, Tuesday) corresponding to each date in the 'Date' column.\n",
    "For example, if df contains the following values:\n",
    "Date\n",
    "0 2023-01-01\n",
    "1 2023-01-02\n",
    "2 2023-01-03\n",
    "3 2023-01-04\n",
    "4 2023-01-05\n",
    "Your function should create the following DataFrame:\n",
    "\n",
    "Date Weekday\n",
    "0 2023-01-01 Sunday\n",
    "1 2023-01-02 Monday\n",
    "2 2023-01-03 Tuesday\n",
    "3 2023-01-04 Wednesday\n",
    "4 2023-01-05 Thursday\n",
    "The function should return the modified DataFrame.\n",
    "\n"
   ]
  },
  {
   "cell_type": "code",
   "execution_count": 13,
   "id": "b5c1ac89-40b8-44d5-9bcc-21162e6034f3",
   "metadata": {},
   "outputs": [
    {
     "name": "stdout",
     "output_type": "stream",
     "text": [
      "        Date    Weekday\n",
      "0 2023-01-01     Sunday\n",
      "1 2023-01-02     Monday\n",
      "2 2023-01-03    Tuesday\n",
      "3 2023-01-04  Wednesday\n",
      "4 2023-01-05   Thursday\n"
     ]
    }
   ],
   "source": [
    "\n",
    "\n",
    "def add_weekday_column(df):\n",
    "\n",
    "    df['Date'] = pd.to_datetime(df['Date'])\n",
    "    \n",
    "    df['Weekday'] = df['Date'].dt.day_name()\n",
    "    \n",
    "    return df\n",
    "\n",
    "\n",
    "data = {'Date': ['2023-01-01', '2023-01-02', '2023-01-03', '2023-01-04', '2023-01-05']}\n",
    "df = pd.DataFrame(data)\n",
    "\n",
    "\n",
    "df = add_weekday_column(df)\n",
    "\n",
    "print(df)\n"
   ]
  },
  {
   "cell_type": "code",
   "execution_count": 14,
   "id": "298b27f1-78c7-4456-860c-fdfc5952d331",
   "metadata": {},
   "outputs": [
    {
     "name": "stdout",
     "output_type": "stream",
     "text": [
      "        Date  Value\n",
      "0 2023-01-01     10\n",
      "1 2023-01-05     20\n",
      "2 2023-01-15     30\n",
      "3 2023-01-20     40\n"
     ]
    }
   ],
   "source": [
    "## Given a Pandas DataFrame df with a column 'Date' that contains timestamps, write a Python function to select all rows where the date is between '2023-01-01' and '2023-01-31'.\n",
    "import pandas as pd\n",
    "\n",
    "def filter_date_range(df):\n",
    "    # Ensure the 'Date' column is in datetime format\n",
    "    df['Date'] = pd.to_datetime(df['Date'])\n",
    "    \n",
    "    # Define the start and end dates\n",
    "    start_date = '2023-01-01'\n",
    "    end_date = '2023-01-31'\n",
    "    \n",
    "    # Filter the DataFrame based on the date range\n",
    "    filtered_df = df[(df['Date'] >= start_date) & (df['Date'] <= end_date)]\n",
    "    \n",
    "    return filtered_df\n",
    "\n",
    "# Example usage:\n",
    "data = {\n",
    "    'Date': [\n",
    "        '2023-01-01', '2023-01-05', '2023-01-15', \n",
    "        '2023-01-20', '2023-02-01', '2022-12-31'\n",
    "    ],\n",
    "    'Value': [10, 20, 30, 40, 50, 60]\n",
    "}\n",
    "df = pd.DataFrame(data)\n",
    "\n",
    "# Call the function to filter the date range\n",
    "filtered_df = filter_date_range(df)\n",
    "\n",
    "print(filtered_df)\n"
   ]
  },
  {
   "cell_type": "code",
   "execution_count": 16,
   "id": "8fc9c033-ac43-4ba1-94f1-1c836e660488",
   "metadata": {},
   "outputs": [],
   "source": [
    "##To use the basic functions of pandas, what is the first and foremost necessary library that needs to be imported?\n",
    "import pandas as pd\n"
   ]
  },
  {
   "cell_type": "code",
   "execution_count": null,
   "id": "efe9d4b1-f6e6-43cb-9fdf-a0794f978d9f",
   "metadata": {},
   "outputs": [],
   "source": []
  }
 ],
 "metadata": {
  "kernelspec": {
   "display_name": "Python 3 (ipykernel)",
   "language": "python",
   "name": "python3"
  },
  "language_info": {
   "codemirror_mode": {
    "name": "ipython",
    "version": 3
   },
   "file_extension": ".py",
   "mimetype": "text/x-python",
   "name": "python",
   "nbconvert_exporter": "python",
   "pygments_lexer": "ipython3",
   "version": "3.10.8"
  }
 },
 "nbformat": 4,
 "nbformat_minor": 5
}
