{
 "cells": [
  {
   "cell_type": "code",
   "execution_count": 2,
   "id": "d86286fc-4ac9-44cf-bab1-c33e1adc4c73",
   "metadata": {},
   "outputs": [],
   "source": [
    "import pandas as pd"
   ]
  },
  {
   "cell_type": "code",
   "execution_count": 3,
   "id": "91d8b9e6-58a1-4091-916e-76676ada5d95",
   "metadata": {},
   "outputs": [
    {
     "name": "stdout",
     "output_type": "stream",
     "text": [
      "Requirement already satisfied: pandas in /opt/conda/lib/python3.10/site-packages (1.5.2)\n",
      "Requirement already satisfied: python-dateutil>=2.8.1 in /opt/conda/lib/python3.10/site-packages (from pandas) (2.8.2)\n",
      "Requirement already satisfied: pytz>=2020.1 in /opt/conda/lib/python3.10/site-packages (from pandas) (2022.6)\n",
      "Requirement already satisfied: numpy>=1.21.0 in /opt/conda/lib/python3.10/site-packages (from pandas) (1.23.5)\n",
      "Requirement already satisfied: six>=1.5 in /opt/conda/lib/python3.10/site-packages (from python-dateutil>=2.8.1->pandas) (1.16.0)\n",
      "Note: you may need to restart the kernel to use updated packages.\n"
     ]
    }
   ],
   "source": [
    "pip install pandas "
   ]
  },
  {
   "cell_type": "code",
   "execution_count": 6,
   "id": "313b6118-8d9d-44ba-b83b-f693c231e7dd",
   "metadata": {},
   "outputs": [],
   "source": [
    "data_series = pd.Series([4,8,15,16,23,42])"
   ]
  },
  {
   "cell_type": "code",
   "execution_count": 7,
   "id": "7b7d5947-9cfb-44e8-8dbd-2594325d6b33",
   "metadata": {},
   "outputs": [
    {
     "data": {
      "text/plain": [
       "0     4\n",
       "1     8\n",
       "2    15\n",
       "3    16\n",
       "4    23\n",
       "5    42\n",
       "dtype: int64"
      ]
     },
     "execution_count": 7,
     "metadata": {},
     "output_type": "execute_result"
    }
   ],
   "source": [
    "data_series"
   ]
  },
  {
   "cell_type": "code",
   "execution_count": 15,
   "id": "5443f10a-416e-4a5c-b39b-76d5946645ca",
   "metadata": {},
   "outputs": [],
   "source": [
    "variable_list = list(range( 1 ,11))"
   ]
  },
  {
   "cell_type": "code",
   "execution_count": 16,
   "id": "24c0b526-c62f-4034-ad9e-f0e6a27adbf9",
   "metadata": {},
   "outputs": [
    {
     "data": {
      "text/plain": [
       "[1, 2, 3, 4, 5, 6, 7, 8, 9, 10]"
      ]
     },
     "execution_count": 16,
     "metadata": {},
     "output_type": "execute_result"
    }
   ],
   "source": [
    "variable_list"
   ]
  },
  {
   "cell_type": "code",
   "execution_count": 19,
   "id": "2d0f0ce8-40a1-4cc0-9eba-a34869cf6347",
   "metadata": {},
   "outputs": [],
   "source": [
    "series_panda = pd.Series(variable_list)"
   ]
  },
  {
   "cell_type": "code",
   "execution_count": 20,
   "id": "f2c5caf5-16d1-46ab-9fe0-fa64a2db5b6c",
   "metadata": {},
   "outputs": [
    {
     "data": {
      "text/plain": [
       "0     1\n",
       "1     2\n",
       "2     3\n",
       "3     4\n",
       "4     5\n",
       "5     6\n",
       "6     7\n",
       "7     8\n",
       "8     9\n",
       "9    10\n",
       "dtype: int64"
      ]
     },
     "execution_count": 20,
     "metadata": {},
     "output_type": "execute_result"
    }
   ],
   "source": [
    "series_panda"
   ]
  },
  {
   "cell_type": "code",
   "execution_count": 25,
   "id": "e724b497-bfd5-4b20-b1ea-46f6424700f7",
   "metadata": {},
   "outputs": [],
   "source": [
    "data = {'Name': ['Alice', 'Bob', 'Claire'],\n",
    "    'Age': [25, 30, 27],\n",
    "    'Gender': ['Female', 'Male', 'Female'] }"
   ]
  },
  {
   "cell_type": "code",
   "execution_count": 26,
   "id": "49c9e42d-daa2-4535-8bce-656cb80f0cd6",
   "metadata": {},
   "outputs": [],
   "source": [
    "data_frame = pd.DataFrame(data)"
   ]
  },
  {
   "cell_type": "code",
   "execution_count": 27,
   "id": "6697b16c-9473-4af7-8bb1-224d169c2e86",
   "metadata": {},
   "outputs": [
    {
     "data": {
      "text/html": [
       "<div>\n",
       "<style scoped>\n",
       "    .dataframe tbody tr th:only-of-type {\n",
       "        vertical-align: middle;\n",
       "    }\n",
       "\n",
       "    .dataframe tbody tr th {\n",
       "        vertical-align: top;\n",
       "    }\n",
       "\n",
       "    .dataframe thead th {\n",
       "        text-align: right;\n",
       "    }\n",
       "</style>\n",
       "<table border=\"1\" class=\"dataframe\">\n",
       "  <thead>\n",
       "    <tr style=\"text-align: right;\">\n",
       "      <th></th>\n",
       "      <th>Name</th>\n",
       "      <th>Age</th>\n",
       "      <th>Gender</th>\n",
       "    </tr>\n",
       "  </thead>\n",
       "  <tbody>\n",
       "    <tr>\n",
       "      <th>0</th>\n",
       "      <td>Alice</td>\n",
       "      <td>25</td>\n",
       "      <td>Female</td>\n",
       "    </tr>\n",
       "    <tr>\n",
       "      <th>1</th>\n",
       "      <td>Bob</td>\n",
       "      <td>30</td>\n",
       "      <td>Male</td>\n",
       "    </tr>\n",
       "    <tr>\n",
       "      <th>2</th>\n",
       "      <td>Claire</td>\n",
       "      <td>27</td>\n",
       "      <td>Female</td>\n",
       "    </tr>\n",
       "  </tbody>\n",
       "</table>\n",
       "</div>"
      ],
      "text/plain": [
       "     Name  Age  Gender\n",
       "0   Alice   25  Female\n",
       "1     Bob   30    Male\n",
       "2  Claire   27  Female"
      ]
     },
     "execution_count": 27,
     "metadata": {},
     "output_type": "execute_result"
    }
   ],
   "source": [
    "data_frame"
   ]
  },
  {
   "cell_type": "code",
   "execution_count": 28,
   "id": "c341491b-b886-42ba-adb6-1ccb4e81a03c",
   "metadata": {},
   "outputs": [],
   "source": [
    "#A DataFrame is a 2D structure that resembles a spreadsheet or SQL table with rows and columns,suitable for representing complex data. A Series is a 1D labeled array, suitable for representing a single column of data. While a DataFrame can be seen as a collection of Series objects that share the same index, a Series is just a single list with index labels.\n"
   ]
  },
  {
   "cell_type": "code",
   "execution_count": 31,
   "id": "bdc468fb-708e-4ae1-adff-5014bf0f164b",
   "metadata": {},
   "outputs": [],
   "source": [
    "data_series = pd.Series([4,8,15,16,23,42])"
   ]
  },
  {
   "cell_type": "code",
   "execution_count": 32,
   "id": "dd046283-7ee5-4a2d-a339-a0e2b0f5178d",
   "metadata": {},
   "outputs": [
    {
     "data": {
      "text/plain": [
       "0     4\n",
       "1     8\n",
       "2    15\n",
       "3    16\n",
       "4    23\n",
       "5    42\n",
       "dtype: int64"
      ]
     },
     "execution_count": 32,
     "metadata": {},
     "output_type": "execute_result"
    }
   ],
   "source": [
    "data_series"
   ]
  },
  {
   "cell_type": "code",
   "execution_count": 35,
   "id": "138e3ada-1ffe-4a09-a041-fae89c9858d6",
   "metadata": {},
   "outputs": [],
   "source": [
    "data_frame= {'Name': ['Alice', 'Bob', 'Claire'],\n",
    "    'Age': [25, 30, 27],\n",
    "    'Gender': ['Female', 'Male', 'Female'] }"
   ]
  },
  {
   "cell_type": "code",
   "execution_count": 37,
   "id": "805ec7cb-6495-42fa-95e9-ea536b6c7c9e",
   "metadata": {},
   "outputs": [
    {
     "data": {
      "text/plain": [
       "{'Name': ['Alice', 'Bob', 'Claire'],\n",
       " 'Age': [25, 30, 27],\n",
       " 'Gender': ['Female', 'Male', 'Female']}"
      ]
     },
     "execution_count": 37,
     "metadata": {},
     "output_type": "execute_result"
    }
   ],
   "source": [
    "data_frame"
   ]
  },
  {
   "cell_type": "code",
   "execution_count": 39,
   "id": "414fb7af-a830-4ae2-a3b2-4061fa81f86f",
   "metadata": {},
   "outputs": [],
   "source": [
    "#head()/tail(): Preview the first/last N rows.\n",
    "#describe(): Get summary statistics.\n",
    "#sort_values(): Sort by column values.\n",
    "#groupby(): Group and aggregate data.\n",
    "#merge()/join()/concat(): Combine DataFrames.\n",
    "#apply(): Apply a function to rows/columns.\n",
    "#drop(): Remove rows/columns.\n",
    "#fillna()/dropna(): Handle missing data.\n",
    "#loc[]/iloc[]: Access subsets of data."
   ]
  },
  {
   "cell_type": "code",
   "execution_count": 40,
   "id": "56663ee9-4de7-4f1b-9b3d-7f0806111be4",
   "metadata": {},
   "outputs": [],
   "source": [
    "#All three Pandas structures—Series, DataFrame, and Panel—are mutable in nature. we can change their contents, size, and data types after they are created. However, it's worth noting that Panel has been deprecated and removed in newer versions of Pandas."
   ]
  },
  {
   "cell_type": "code",
   "execution_count": 48,
   "id": "8ae2c934-bd16-4040-a340-7d1296926b9b",
   "metadata": {},
   "outputs": [],
   "source": [
    "data_seriesnew = { 'A' : [1] , 'B' : [2], 'C' : [3] }"
   ]
  },
  {
   "cell_type": "code",
   "execution_count": 49,
   "id": "bdac3a09-5bc2-4008-8a11-d6fec549f9f3",
   "metadata": {},
   "outputs": [
    {
     "data": {
      "text/plain": [
       "{'A': [1], 'B': [2], 'C': [3]}"
      ]
     },
     "execution_count": 49,
     "metadata": {},
     "output_type": "execute_result"
    }
   ],
   "source": [
    "data_seriesnew"
   ]
  },
  {
   "cell_type": "code",
   "execution_count": 50,
   "id": "814c3deb-7dd9-40a6-813b-09a1eb514ee3",
   "metadata": {},
   "outputs": [],
   "source": [
    "data_framenew = pd.Series(data_seriesnew)"
   ]
  },
  {
   "cell_type": "code",
   "execution_count": 51,
   "id": "74905020-d41b-4d6d-ab2c-1825e786e567",
   "metadata": {},
   "outputs": [
    {
     "data": {
      "text/plain": [
       "A    [1]\n",
       "B    [2]\n",
       "C    [3]\n",
       "dtype: object"
      ]
     },
     "execution_count": 51,
     "metadata": {},
     "output_type": "execute_result"
    }
   ],
   "source": [
    "data_framenew"
   ]
  },
  {
   "cell_type": "code",
   "execution_count": null,
   "id": "d14c0dfa-c20c-40c1-9124-6a57d30c1138",
   "metadata": {},
   "outputs": [],
   "source": []
  }
 ],
 "metadata": {
  "kernelspec": {
   "display_name": "Python 3 (ipykernel)",
   "language": "python",
   "name": "python3"
  },
  "language_info": {
   "codemirror_mode": {
    "name": "ipython",
    "version": 3
   },
   "file_extension": ".py",
   "mimetype": "text/x-python",
   "name": "python",
   "nbconvert_exporter": "python",
   "pygments_lexer": "ipython3",
   "version": "3.10.8"
  }
 },
 "nbformat": 4,
 "nbformat_minor": 5
}
