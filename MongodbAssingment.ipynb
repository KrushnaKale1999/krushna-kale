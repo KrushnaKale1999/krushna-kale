{
 "cells": [
  {
   "cell_type": "code",
   "execution_count": 10,
   "id": "766e0f47-44b1-4917-8dff-613726aa4c85",
   "metadata": {},
   "outputs": [],
   "source": [
    "#@ What is MongoDB? Explain non-relational databases in short. In which scenarios it is preferred to use MongoDB over SQL databases?\n",
    "\n",
    "#MongoDB is an open-source, document-oriented NoSQL database that stores data in JSON-like documents with dynamic schemas, allowing for flexibility and scalability0.\n",
    "#Non-relational (NoSQL) databases manage data without a fixed schema, using various models like document, key-value,  and graph. They are optimized for handling large-scale, unstructured, and evolving data.\n",
    "\n",
    "## Prefered =\n",
    "\n",
    "#Schema Flexibility: Ideal for applications with rapidly changing data structures.\n",
    "#Scalability: Suitable for applications requiring horizontal scaling across many servers.\n",
    "#Big Data and Real-Time Analytics: Effective for processing large volumes of unstructured data and real-time analytics.\n",
    "#Complex Data Structures: Best for applications with nested or hierarchical data.\n",
    "#Geospatial Data: Efficient for location-based applications.\n",
    "#High Write Loads: Handles high insert and update rates well."
   ]
  },
  {
   "cell_type": "code",
   "execution_count": 2,
   "id": "a96ca002-a5f7-40f7-8068-d4763367c57d",
   "metadata": {},
   "outputs": [],
   "source": [
    "#@ State and Explain the features of MongoDB==\n",
    "\n",
    "#Document-Oriented Storage:\n",
    "#Stores data in flexible, JSON-like documents (BSON).\n",
    "\n",
    "#Flexible Schema:\n",
    "#Allows evolving data structures without altering the schema.\n",
    "\n",
    "#High Performance:\n",
    "#Optimized for high throughput and low latency.\n",
    "\n",
    "#Horizontal Scalability:\n",
    "#Supports sharding to distribute data across multiple servers.\n",
    "\n",
    "#Replication:\n",
    "#Provides high availability and data redundancy with replica sets.\n",
    "\n",
    "#Rich Query Language:\n",
    "#Supports complex queries, aggregations, and indexing.\n",
    "\n",
    "#Full-Text Search:\n",
    "#Enables text indexing and search within documents.\n",
    "\n",
    "#Geospatial Indexing:\n",
    "#Supports location-based data storage and queries.\n",
    "\n",
    "#Aggregation Framework:\n",
    "#Allows data processing and transformation within the database.\n",
    "\n",
    "#GridFS:\n",
    "#Stores and retrieves large files in chunks.\n",
    "\n",
    "#ACID Transactions:\n",
    "#Supports multi-document ACID transactions for reliability.\n",
    "\n",
    "#Aggregation Pipeline:\n",
    "#Performs complex data processing tasks in stages.\n",
    "\n",
    "#Ad Hoc Queries:\n",
    "#Enables on-the-fly query creation for flexible data retrieval."
   ]
  },
  {
   "cell_type": "code",
   "execution_count": 6,
   "id": "d823a0a7-98d2-40cf-a27d-2bb0a47c4dce",
   "metadata": {},
   "outputs": [
    {
     "ename": "SyntaxError",
     "evalue": "invalid syntax (3702726605.py, line 3)",
     "output_type": "error",
     "traceback": [
      "\u001b[0;36m  Cell \u001b[0;32mIn[6], line 3\u001b[0;36m\u001b[0m\n\u001b[0;31m    pip install pymongo\u001b[0m\n\u001b[0m        ^\u001b[0m\n\u001b[0;31mSyntaxError\u001b[0m\u001b[0;31m:\u001b[0m invalid syntax\n"
     ]
    }
   ],
   "source": [
    "#@ Write a code to connect MongoDB to Python. Also, create a database and a collection in MongoDB. \n",
    "\n",
    "pip install pymongo\n",
    "from pymongo import MongoClient\n",
    "\n",
    "# Connect to the local MongoDB server\n",
    "client = MongoClient(\"mongodb://localhost:27017/\")\n",
    "\n",
    "# Create a new database called \"mydatabase\"\n",
    "db = client[\"mydatabase\"]\n",
    "\n",
    "# Create a new collection called \"mycollection\"\n",
    "collection = db[\"mycollection\"]\n",
    "\n",
    "# Insert a sample document into the collection\n",
    "sample_document = {\n",
    "    \"name\": \"John Doe\",\n",
    "    \"email\": \"johndoe@example.com\",\n",
    "    \"age\": 30,\n",
    "    \"address\": {\n",
    "        \"street\": \"123 Main St\",\n",
    "        \"city\": \"Anytown\",\n",
    "        \"state\": \"CA\"\n",
    "    }\n",
    "}\n",
    "\n",
    "# Insert the document and get its ID\n",
    "inserted_id = collection.insert_one(sample_document).inserted_id\n",
    "print(f\"Document inserted with ID: {inserted_id}\")\n"
   ]
  },
  {
   "cell_type": "code",
   "execution_count": 7,
   "id": "2f497eb5-8c36-460b-ae93-cbe4bbc68eae",
   "metadata": {},
   "outputs": [
    {
     "ename": "ModuleNotFoundError",
     "evalue": "No module named 'pymongo'",
     "output_type": "error",
     "traceback": [
      "\u001b[0;31m---------------------------------------------------------------------------\u001b[0m",
      "\u001b[0;31mModuleNotFoundError\u001b[0m                       Traceback (most recent call last)",
      "Cell \u001b[0;32mIn[7], line 3\u001b[0m\n\u001b[1;32m      1\u001b[0m \u001b[38;5;66;03m#@  Explain how you can use the find() method to query the MongoDB database. Write a simple code to demonstrate this.\u001b[39;00m\n\u001b[0;32m----> 3\u001b[0m \u001b[38;5;28;01mfrom\u001b[39;00m \u001b[38;5;21;01mpymongo\u001b[39;00m \u001b[38;5;28;01mimport\u001b[39;00m MongoClient\n\u001b[1;32m      5\u001b[0m \u001b[38;5;66;03m# Connect to the local MongoDB server\u001b[39;00m\n\u001b[1;32m      6\u001b[0m client \u001b[38;5;241m=\u001b[39m MongoClient(\u001b[38;5;124m\"\u001b[39m\u001b[38;5;124mmongodb://localhost:27017/\u001b[39m\u001b[38;5;124m\"\u001b[39m)\n",
      "\u001b[0;31mModuleNotFoundError\u001b[0m: No module named 'pymongo'"
     ]
    }
   ],
   "source": [
    "#@  Explain how you can use the find() method to query the MongoDB database. Write a simple code to demonstrate this.\n",
    "\n",
    "from pymongo import MongoClient\n",
    "\n",
    "# Connect to the local MongoDB server\n",
    "client = MongoClient(\"mongodb://localhost:27017/\")\n",
    "\n",
    "# Create database and collection\n",
    "db = client[\"mydatabase\"]\n",
    "collection = db[\"mycollection\"]\n",
    "\n",
    "# Insert sample documents\n",
    "collection.insert_many([\n",
    "    {\"name\": \"Alice\", \"age\": 25, \"city\": \"New York\"},\n",
    "    {\"name\": \"Bob\", \"age\": 30, \"city\": \"Chicago\"},\n",
    "    {\"name\": \"Charlie\", \"age\": 35, \"city\": \"San Francisco\"},\n",
    "    {\"name\": \"David\", \"age\": 28, \"city\": \"New York\"},\n",
    "    {\"name\": \"Eve\", \"age\": 22, \"city\": \"Chicago\"}\n",
    "])\n",
    "\n",
    "# Query: Find documents where age is greater than 25\n",
    "query = {\"age\": {\"$gt\": 25}}\n",
    "results = collection.find(query)\n",
    "print(\"Documents where age is greater than 25:\")\n",
    "for document in results:\n",
    "    print(document)\n",
    "\n",
    "# Query: Find documents where city is New York\n",
    "query = {\"city\": \"New York\"}\n",
    "results = collection.find(query)\n",
    "print(\"Documents where city is New York:\")\n",
    "for document in results:\n",
    "    print(document)\n"
   ]
  },
  {
   "cell_type": "code",
   "execution_count": 8,
   "id": "01b71f1a-924e-41f2-a630-0eded7765593",
   "metadata": {},
   "outputs": [
    {
     "ename": "ModuleNotFoundError",
     "evalue": "No module named 'pymongo'",
     "output_type": "error",
     "traceback": [
      "\u001b[0;31m---------------------------------------------------------------------------\u001b[0m",
      "\u001b[0;31mModuleNotFoundError\u001b[0m                       Traceback (most recent call last)",
      "Cell \u001b[0;32mIn[8], line 3\u001b[0m\n\u001b[1;32m      1\u001b[0m \u001b[38;5;66;03m##@ Explain the sort() method. Give an example to demonstrate sorting in MongoDB.\u001b[39;00m\n\u001b[0;32m----> 3\u001b[0m \u001b[38;5;28;01mfrom\u001b[39;00m \u001b[38;5;21;01mpymongo\u001b[39;00m \u001b[38;5;28;01mimport\u001b[39;00m MongoClient\n\u001b[1;32m      5\u001b[0m \u001b[38;5;66;03m# Connect to the local MongoDB server\u001b[39;00m\n\u001b[1;32m      6\u001b[0m client \u001b[38;5;241m=\u001b[39m MongoClient(\u001b[38;5;124m\"\u001b[39m\u001b[38;5;124mmongodb://localhost:27017/\u001b[39m\u001b[38;5;124m\"\u001b[39m)\n",
      "\u001b[0;31mModuleNotFoundError\u001b[0m: No module named 'pymongo'"
     ]
    }
   ],
   "source": [
    "##@ Explain the sort() method. Give an example to demonstrate sorting in MongoDB.\n",
    "\n",
    "from pymongo import MongoClient\n",
    "\n",
    "# Connect to the local MongoDB server\n",
    "client = MongoClient(\"mongodb://localhost:27017/\")\n",
    "\n",
    "# Create database and collection\n",
    "db = client[\"mydatabase\"]\n",
    "collection = db[\"mycollection\"]\n",
    "\n",
    "# Insert sample documents\n",
    "collection.insert_many([\n",
    "    {\"name\": \"Alice\", \"age\": 25, \"city\": \"New York\"},\n",
    "    {\"name\": \"Bob\", \"age\": 30, \"city\": \"Chicago\"},\n",
    "    {\"name\": \"Charlie\", \"age\": 35, \"city\": \"San Francisco\"},\n",
    "    {\"name\": \"David\", \"age\": 28, \"city\": \"New York\"},\n",
    "    {\"name\": \"Eve\", \"age\": 22, \"city\": \"Chicago\"}\n",
    "])\n",
    "\n",
    "# Sort documents by age in ascending order\n",
    "sorted_results = collection.find().sort(\"age\", 1)  # 1 for ascending, -1 for descending\n",
    "print(\"Documents sorted by age (ascending):\")\n",
    "for document in sorted_results:\n",
    "    print(document)\n",
    "\n",
    "    "
   ]
  },
  {
   "cell_type": "code",
   "execution_count": 9,
   "id": "a5049366-d583-45c0-85a3-da54739e8fe7",
   "metadata": {},
   "outputs": [
    {
     "ename": "SyntaxError",
     "evalue": "illegal target for annotation (3044341464.py, line 3)",
     "output_type": "error",
     "traceback": [
      "\u001b[0;36m  Cell \u001b[0;32mIn[9], line 3\u001b[0;36m\u001b[0m\n\u001b[0;31m    delete_one(): Removes a single document.\u001b[0m\n\u001b[0m    ^\u001b[0m\n\u001b[0;31mSyntaxError\u001b[0m\u001b[0;31m:\u001b[0m illegal target for annotation\n"
     ]
    }
   ],
   "source": [
    "#@ Explain why delete_one(), delete_many(), and drop() is used .\n",
    "\n",
    "#delete_one(): Removes a single document.\n",
    "#delete_many(): Removes multiple documents.\n",
    "#drop(): Deletes an entire collection.\n"
   ]
  },
  {
   "cell_type": "code",
   "execution_count": null,
   "id": "92be7983-020f-4ddb-a5f8-d65e51b69a5f",
   "metadata": {},
   "outputs": [],
   "source": []
  }
 ],
 "metadata": {
  "kernelspec": {
   "display_name": "Python 3 (ipykernel)",
   "language": "python",
   "name": "python3"
  },
  "language_info": {
   "codemirror_mode": {
    "name": "ipython",
    "version": 3
   },
   "file_extension": ".py",
   "mimetype": "text/x-python",
   "name": "python",
   "nbconvert_exporter": "python",
   "pygments_lexer": "ipython3",
   "version": "3.10.8"
  }
 },
 "nbformat": 4,
 "nbformat_minor": 5
}
