{
 "cells": [
  {
   "cell_type": "code",
   "execution_count": 1,
   "id": "edab2c7f-47b5-4362-9738-5ad0718f0d74",
   "metadata": {},
   "outputs": [],
   "source": [
    "\n",
    "### Q1. R-squared in Linear Regression:\n",
    "#- **Definition:** Proportion of variance in dependent variable explained by independent variables.\n",
    "#- **Calculation:** Square of correlation between predicted and observed values.\n",
    "#- **Interpretation:** Ranges from 0 to 1; higher values indicate better fit.\n",
    "\n",
    "### Q2. Adjusted R-squared:\n",
    "#- **Definition:** Adjusts R-squared for number of predictors and sample size.\n",
    "#- **Use:** Compares models with different numbers of predictors; accounts for model complexity.\n",
    "\n",
    "### Q4. RMSE, MSE, and MAE in Regression Analysis:\n",
    "#- **RMSE:** Square root of average squared differences between predicted and observed values.\n",
    "#- **MSE:** Average of squared differences between predicted and observed values.\n",
    "#- **MAE:** Average of absolute differences between predicted and observed values.\n",
    "\n",
    "### Q6. Lasso Regularization:\n",
    "#- **Definition:** Adds penalty term to linear regression cost function based on absolute values of coefficients.\n",
    "#- **Difference from Ridge:** Can shrink coefficients to zero, performing variable selection.\n",
    "#- **Use:** Preferred for feature selection or high-dimensional datasets.\n",
    "\n",
    "### Q7. Preventing Overfitting with Regularized Linear Models:\n",
    "#- Regularized models penalize large coefficients to prevent overfitting.\n",
    "#- Example: Ridge regression controls coefficient magnitudes, leading to smoother models.\n",
    "\n",
    "### Q8. Limitations of Regularized Linear Models:\n",
    "#- Assume linear relationship between predictors and dependent variable.\n",
    "#- Require tuning of regularization parameters.\n",
    "#- May not perform well with multicollinearity among predictors.\n",
    "\n"
   ]
  },
  {
   "cell_type": "code",
   "execution_count": null,
   "id": "88d95f71-703f-4d7a-9999-6ca4b6fba5bc",
   "metadata": {},
   "outputs": [],
   "source": []
  }
 ],
 "metadata": {
  "kernelspec": {
   "display_name": "Python 3 (ipykernel)",
   "language": "python",
   "name": "python3"
  },
  "language_info": {
   "codemirror_mode": {
    "name": "ipython",
    "version": 3
   },
   "file_extension": ".py",
   "mimetype": "text/x-python",
   "name": "python",
   "nbconvert_exporter": "python",
   "pygments_lexer": "ipython3",
   "version": "3.10.8"
  }
 },
 "nbformat": 4,
 "nbformat_minor": 5
}
