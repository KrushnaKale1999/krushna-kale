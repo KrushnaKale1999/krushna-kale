{
 "cells": [
  {
   "cell_type": "code",
   "execution_count": 8,
   "id": "df5e4458-8a9f-4705-833e-92524cd672dc",
   "metadata": {},
   "outputs": [],
   "source": [
    "#@ What is Min-Max scaling ?\n",
    "\n",
    "# Min-Max scaling, also known as normalization, is a data preprocessing technique used in machine learning to scale the features of a dataset to a specific range.\n",
    "#The purpose of Min-Max scaling is to transform the data into a range, usually between 0 and 1."
   ]
  },
  {
   "cell_type": "code",
   "execution_count": 9,
   "id": "958be96e-986f-40b4-a0c7-69ef9df3018e",
   "metadata": {},
   "outputs": [],
   "source": [
    "#@What is the Unit Vector technique in feature scaling?\n",
    "\n",
    "#The Unit Vector technique, also known as vector normalization or unit normalization, is a feature scaling method that scales the values of a feature to have a magnitude of 1. \n",
    "#This technique is particularly useful when the direction of the data points is more important than their magnitude"
   ]
  },
  {
   "cell_type": "code",
   "execution_count": null,
   "id": "0bcfa901-7eb0-40ec-b39d-fde56e8fa26f",
   "metadata": {},
   "outputs": [],
   "source": []
  },
  {
   "cell_type": "code",
   "execution_count": 30,
   "id": "40fc73d8-3d16-49d3-ad5e-a4fb4ff8154d",
   "metadata": {},
   "outputs": [
    {
     "name": "stdout",
     "output_type": "stream",
     "text": [
      "       price    rating  delivery_time\n",
      "0  21.854305  3.370266      26.776756\n",
      "1  47.782144  4.083802      26.114046\n",
      "2  37.939727  4.745892      55.781456\n",
      "3  31.939632  4.464450      26.229579\n",
      "4  12.020839  4.613122      27.237738\n"
     ]
    }
   ],
   "source": [
    "#@@You are working on a project to build a recommendation system for a food delivery service. The dataset\n",
    "#contains features such as price, rating, and delivery time. Explain how you would use Min-Max scaling to\n",
    "#preprocess the data.\n",
    "from sklearn.preprocessing import MinMaxScaler\n",
    "\n",
    "import numpy as np\n",
    "import pandas as pd\n",
    "\n",
    "np.random.seed(42)\n",
    "\n",
    "num_samples = 1000\n",
    "\n",
    "price = np.random.uniform(5, 50, num_samples)\n",
    "\n",
    "rating = np.random.uniform(3, 5, num_samples)\n",
    "\n",
    "delivery_time = np.random.uniform(15, 60, num_samples)\n",
    "\n",
    "df = pd.DataFrame({'price': price, 'rating': rating, 'delivery_time': delivery_time})\n",
    "print(df.head())\n",
    "\n"
   ]
  },
  {
   "cell_type": "code",
   "execution_count": 31,
   "id": "48eb4b71-2277-415b-86c1-4e1d6d08e12f",
   "metadata": {},
   "outputs": [
    {
     "name": "stdout",
     "output_type": "stream",
     "text": [
      "        price    rating  delivery_time\n",
      "0    0.371735  0.182609       0.262269\n",
      "1    0.950755  0.540740       0.247509\n",
      "2    0.730954  0.873049       0.908233\n",
      "3    0.596960  0.731791       0.250082\n",
      "4    0.152134  0.806411       0.272535\n",
      "..        ...       ...            ...\n",
      "995  0.087379  0.656234       0.867184\n",
      "996  0.917189  0.957037       0.157607\n",
      "997  0.132839  0.065991       0.310456\n",
      "998  0.950275  0.054042       0.290671\n",
      "999  0.443554  0.280034       0.873316\n",
      "\n",
      "[1000 rows x 3 columns]\n"
     ]
    }
   ],
   "source": [
    "features_to_scale = ['price', 'rating', 'delivery_time']\n",
    "\n",
    "data_to_scale = df[features_to_scale]\n",
    "\n",
    "scaler = MinMaxScaler()\n",
    "\n",
    "scaled_data = scaler.fit_transform(data_to_scale)\n",
    "\n",
    "scaled_df = pd.DataFrame(scaled_data, columns=features_to_scale)\n",
    "print(scaled_df)\n"
   ]
  },
  {
   "cell_type": "code",
   "execution_count": 2,
   "id": "799e13ac-6707-4ca8-a0db-5484dc9c8b23",
   "metadata": {},
   "outputs": [
    {
     "name": "stdout",
     "output_type": "stream",
     "text": [
      "Original Values: [ 1  5 10 15 20]\n",
      "Min-Max Scaled Values (-1 to 1): [-1.         -0.57894737 -0.05263158  0.47368421  1.        ]\n"
     ]
    }
   ],
   "source": [
    "#@For a dataset containing the following values: [1, 5, 10, 15, 20], perform Min-Max scaling to transform the values to a range of -1 to 1.\n",
    "\n",
    "import numpy as np\n",
    "\n",
    "original_values = np.array([1, 5, 10, 15, 20])\n",
    "\n",
    "# Min-Max scaling\n",
    "new_min = -1\n",
    "new_max = 1\n",
    "\n",
    "min_val = np.min(original_values)\n",
    "max_val = np.max(original_values)\n",
    "\n",
    "scaled_values = ((original_values - min_val) / (max_val - min_val)) * (new_max - new_min) + new_min\n",
    "\n",
    "print(\"Original Values:\", original_values)\n",
    "print(\"Min-Max Scaled Values (-1 to 1):\", scaled_values)\n"
   ]
  },
  {
   "cell_type": "code",
   "execution_count": null,
   "id": "9c250779-45d3-4098-a272-1d94fe450a6c",
   "metadata": {},
   "outputs": [],
   "source": []
  }
 ],
 "metadata": {
  "kernelspec": {
   "display_name": "Python 3 (ipykernel)",
   "language": "python",
   "name": "python3"
  },
  "language_info": {
   "codemirror_mode": {
    "name": "ipython",
    "version": 3
   },
   "file_extension": ".py",
   "mimetype": "text/x-python",
   "name": "python",
   "nbconvert_exporter": "python",
   "pygments_lexer": "ipython3",
   "version": "3.10.8"
  }
 },
 "nbformat": 4,
 "nbformat_minor": 5
}
