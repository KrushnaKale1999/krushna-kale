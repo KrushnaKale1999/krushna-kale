{
 "cells": [
  {
   "cell_type": "code",
   "execution_count": 3,
   "id": "9890c45d-d3b6-4bc1-b4aa-c2717fd4e889",
   "metadata": {},
   "outputs": [],
   "source": [
    "##@ Explain the assumptions required to use ANOVA and provide examples of violations that could impact the validity of the results.\n",
    "#1) Normality of sampling Distribution of mean means the sample distributions are normally distributed.\n",
    "#2) There is absence outlier in data\n",
    "#3) The variance are Homogenets means each population has same variance\n",
    "#4) sample are indipendant and randamly selected\n",
    "#examples - Mode of payment vai Gpay , Phone pay ,Paytm"
   ]
  },
  {
   "cell_type": "code",
   "execution_count": 4,
   "id": "81c59e4e-793a-499a-b0bf-bfb39ac5e361",
   "metadata": {},
   "outputs": [],
   "source": [
    "##@What are the three types of ANOVA ?\n",
    "#1) One way Anova = Example - Factors of medicine 5mg, 10mg ,20 mg \n",
    "#2) Repeated Measure Anova = Example - A man run on  daily basis its depent on men only , day1 = 5km , day2= 7km , day3 = 4km .\n",
    "#3) Factorial Anova = A man run on  daily basis its depent on men only with divide mean ."
   ]
  },
  {
   "cell_type": "code",
   "execution_count": 5,
   "id": "c6386f6d-f55e-4fc1-8400-70c4159ac55e",
   "metadata": {},
   "outputs": [],
   "source": [
    "#@ What is the partitioning of variance in ANOVA -\n",
    "#The partitioning of variance involves breaking down the total variability in the data into components attributed to differences between groups (Between-Group Variability) and differences within groups (Within-Group Variability).\n",
    "#The Understanding the partitioning of variance in ANOVA helps researchers quantify and interpret the contributions of different sources of variability, leading to more informed and accurate conclusions about group differences."
   ]
  },
  {
   "cell_type": "code",
   "execution_count": 9,
   "id": "5174b00c-7081-49c4-bb10-cf2de88e1ce9",
   "metadata": {},
   "outputs": [],
   "source": [
    "#@ How would you calculate the total sum of squares (SST), explained sum of squares (SSE), and residual sum of squares (SSR) in a one-way ANOVA using Python?\n",
    "\n",
    "# 1) Total Sum of Squares (SST)\n",
    "# Calculate the overall mean\n",
    "# mean_all = np.mean(data)\n",
    "# Calculate SST\n",
    "#sst = np.sum((data - mean_all)**2)\n",
    "\n",
    "# 2 ) Explained Sum of Squares (SSE or SSB)\n",
    "# Calculate SSE\n",
    "#sse = np.sum([len(group) * (np.mean(group) - mean_all)**2 for group in groups])\n",
    "\n",
    "# 3) 3. Residual Sum of Squares (SSR or SSW)\n",
    "# Calculate SSR\n",
    "# ssr = sst - sse\n"
   ]
  },
  {
   "cell_type": "code",
   "execution_count": 11,
   "id": "29585c55-428b-4467-b07d-a6744c6e873e",
   "metadata": {},
   "outputs": [],
   "source": [
    "#@ Suppose you conducted a one-way ANOVA and obtained an F-statistic of 5.23 and a p-value of 0.02. What can you conclude about the differences between the groups, and how would you interpret these results?\n",
    "#1) Null Hypothesis (H0): The null hypothesis assumes that there are no significant differences between the group means.\n",
    "\n",
    "#2)Alternative Hypothesis (H1): The alternative hypothesis suggests that there are significant differences between at least two group means.\n",
    "\n",
    "#3)Interpretation:\n",
    "\n",
    "#If the p-value is less than the chosen significance level (commonly 0.05), you would reject the null hypothesis.\n",
    "#If the p-value is greater than the significance level, you would fail to reject the null hypothesis.\n",
    "#In This Case:The p-value of 0.02 is less than 0.05, indicating that the observed differences between group means are statistically significant at the 0.05 significance level.\n",
    "#Therefore, you would reject the null hypothesis.\n",
    "\n",
    "#4)Conclusion:\n",
    "#There is evidence to suggest that at least two of the group means are significantly different from each other.\n",
    "\n",
    "#5) Practical Significance:\n",
    "# While statistical significance is achieved, it's also important to consider the practical significance of the differences. A statistically significant difference does not necessarily imply a large or meaningful difference in real-world terms."
   ]
  },
  {
   "cell_type": "code",
   "execution_count": 12,
   "id": "7c8e31ce-4ef0-428d-b40e-b9063fcad473",
   "metadata": {},
   "outputs": [],
   "source": [
    "#In a repeated measures ANOVA, how would you handle missing data, and what are the potential consequences of using different methods to handle missing data?\n",
    "#Handling missing data in repeated measures ANOVA:\n",
    "\n",
    "#Complete Case Analysis:\n",
    "\n",
    "#Pros: Simple.\n",
    "#Cons: Biased if missingness is related to variables, reduces sample size.\n",
    "\n",
    "#Mean Imputation:\n",
    "#Pros: Simple.\n",
    "#Cons: Underestimates variability, doesn't account for uncertainty, biased if data not missing completely at random.\n",
    "\n",
    "#LOCF/NOCB:\n",
    "#Pros: Simple.\n",
    "#Cons: Assumes stable patterns, can introduce bias.\n",
    "\n",
    "#Interpolation/Extrapolation:\n",
    "#Pros: Can capture non-linear patterns.\n",
    "#Cons: Assumptions about relationships, potential bias.\n",
    "\n",
    "#Multiple Imputation:\n",
    "#Pros: Reflects uncertainty, recommended.\n",
    "#Cons: Requires assumptions, computationally intensive.\n",
    "\n",
    "#Potential Consequences:\n",
    "#Bias: Different methods introduce bias based on assumptions.\n",
    "#Precision: Impacts precision of estimates and standard errors.\n",
    "#Statistical Power: Listwise deletion reduces power.\n",
    "#Validity: Validity of inferences may be compromised.\n",
    "#Sensitivity Analysis: Consider sensitivity analysis to assess robustness.\n"
   ]
  },
  {
   "cell_type": "code",
   "execution_count": 13,
   "id": "1e4512e2-6b58-437f-b312-aed968dfad3f",
   "metadata": {},
   "outputs": [],
   "source": [
    "## What are some common post-hoc tests used after ANOVA, and when would you use each one? Provide an example of a situation where a post-hoc test might be necessary.\n",
    "\n",
    "#Common post-hoc tests after ANOVA:\n",
    "\n",
    "#Tukey HSD:\n",
    "#Use When: Equal group sizes, control overall Type I error.\n",
    "#Example: Comparing teaching methods in a study.\n",
    "\n",
    "#Bonferroni Correction:\n",
    "#Use When: Unequal group sizes, control familywise error rate.\n",
    "#Example: Comparing drug treatments in a medical trial.\n",
    "\n",
    "#Sidak Correction:\n",
    "#Use When: Less conservative than Bonferroni, larger number of comparisons.\n",
    "#Example: Assessing product-region pairs in a marketing study.\n",
    "\n",
    "#Holm's Method:\n",
    "#Use When: Balance between control and power.\n",
    "#Example: Comparing conditions in a psychology experiment.\n",
    "\n",
    "#Dunnett's Test:\n",
    "#Use When: Comparing each treatment group to a control.\n",
    "#Example: Evaluating drug treatments against a placebo.\n",
    "\n",
    "#Games-Howell Test:\n",
    "#Use When: Unequal group sizes, unequal variances.\n",
    "#Example: Comparing student performance in different schools."
   ]
  },
  {
   "cell_type": "code",
   "execution_count": null,
   "id": "61bb9f49-e9e3-4fea-8f98-2103767b896b",
   "metadata": {},
   "outputs": [],
   "source": []
  }
 ],
 "metadata": {
  "kernelspec": {
   "display_name": "Python 3 (ipykernel)",
   "language": "python",
   "name": "python3"
  },
  "language_info": {
   "codemirror_mode": {
    "name": "ipython",
    "version": 3
   },
   "file_extension": ".py",
   "mimetype": "text/x-python",
   "name": "python",
   "nbconvert_exporter": "python",
   "pygments_lexer": "ipython3",
   "version": "3.10.8"
  }
 },
 "nbformat": 4,
 "nbformat_minor": 5
}
