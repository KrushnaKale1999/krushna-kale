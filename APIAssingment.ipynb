{
 "cells": [
  {
   "cell_type": "code",
   "execution_count": 1,
   "id": "7d2a4aae-b87e-45fa-9d8c-231186e3503a",
   "metadata": {},
   "outputs": [],
   "source": [
    "##@ What is an API? Give an example, where an API is used in real life.\n",
    "\n",
    "## API Definition: An API (Application Programming Interface) is a set of rules and protocols that allows different software applications to communicate with each other.\n",
    "\n",
    "##Real-Life Example: The Google Maps API enables developers to integrate mapping and location-based services into their applications. \n",
    "#For instance, a travel planning website uses the Google Maps API to display interactive maps showing hotels, restaurants, and tourist attractions to users.\n"
   ]
  },
  {
   "cell_type": "code",
   "execution_count": 2,
   "id": "6c2e5e6e-d1c9-46e3-b491-23def2c563f4",
   "metadata": {},
   "outputs": [],
   "source": [
    "##@ Give advantages and disadvantages of using API.\n",
    "\n",
    "##Advantages of Using API:\n",
    "\n",
    "#Integration\n",
    "#Efficiency\n",
    "#Scalability\n",
    "#Innovation\n",
    "#Accessibility\n",
    "\n",
    "##Disadvantages of Using API:\n",
    "\n",
    "#Dependency\n",
    "#Security Risks\n",
    "#Performance Impact\n",
    "#Cost\n",
    "#Limited Control\n"
   ]
  },
  {
   "cell_type": "code",
   "execution_count": 3,
   "id": "85a77ae5-8406-4d41-b99c-6e2241d27105",
   "metadata": {},
   "outputs": [],
   "source": [
    "#@ What is a Web API? Differentiate between API and Web API.\n",
    "#A Web API, or Web Application Programming Interface, is an API that allows communication between different software systems over the internet using standard web protocols and technologies such as HTTP, REST, and JSON.\n",
    "#It enables web-based applications to interact with each other and access services or resources provided by remote servers.\n",
    "\n",
    "#API: A general term for interfaces facilitating communication between software components.\n",
    "\n",
    "#Web API: Specifically designed for web-based applications, using standard web protocols like HTTP for communication over the internet."
   ]
  },
  {
   "cell_type": "code",
   "execution_count": 4,
   "id": "386cb2de-aea6-4b9a-803f-989d6254dc81",
   "metadata": {},
   "outputs": [],
   "source": [
    "#@ Explain REST and SOAP Architecture. Mention shortcomings of SOAP.\n",
    "\n",
    "#*REST Architecture:**\n",
    "#- Uses standard HTTP methods for CRUD operations.\n",
    "#- Emphasizes stateless communication and lightweight data formats like JSON.\n",
    "#- Widely used for web services and APIs due to simplicity and scalability.\n",
    "\n",
    "#**SOAP Architecture:**\n",
    "#- Relies on XML for message formatting and includes additional metadata.\n",
    "#- Supports complex operations and security features but can be verbose and complex.\n",
    "#- Less suitable for lightweight web services and client-side applications.\n",
    "\n",
    "#**Shortcomings of SOAP:**\n",
    "#- Complexity and verbosity of XML messages.\n",
    "#- Increased overhead and bandwidth usage.\n",
    "#- Limited browser support and tight coupling between clients and servers.\n",
    "#- Security concerns and complexity of implementing security features."
   ]
  },
  {
   "cell_type": "code",
   "execution_count": null,
   "id": "bd4f4cfd-37e5-4eda-bfd8-b57a78e7590b",
   "metadata": {},
   "outputs": [],
   "source": [
    "#@ Differentiate between REST and SOAP.\n",
    "\n"
   ]
  }
 ],
 "metadata": {
  "kernelspec": {
   "display_name": "Python 3 (ipykernel)",
   "language": "python",
   "name": "python3"
  },
  "language_info": {
   "codemirror_mode": {
    "name": "ipython",
    "version": 3
   },
   "file_extension": ".py",
   "mimetype": "text/x-python",
   "name": "python",
   "nbconvert_exporter": "python",
   "pygments_lexer": "ipython3",
   "version": "3.10.8"
  }
 },
 "nbformat": 4,
 "nbformat_minor": 5
}
