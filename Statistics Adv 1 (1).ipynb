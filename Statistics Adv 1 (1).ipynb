{
 "cells": [
  {
   "cell_type": "code",
   "execution_count": 1,
   "id": "8f69bffa-ee08-4e10-966d-d9ee58b0178d",
   "metadata": {},
   "outputs": [],
   "source": [
    "# Probability density function (PDF)-\n",
    "# The probability density function (PDF) is a mathematical function that describes the probability of a continuous random variable falling within a particular range of values. In short, it gives the probability of different outcomes in a continuous probability distribution."
   ]
  },
  {
   "cell_type": "code",
   "execution_count": 2,
   "id": "63db1b63-3182-49ba-b78d-8c5bb1c5cd0e",
   "metadata": {},
   "outputs": [],
   "source": [
    "#Probability Distributions types -\n",
    "#1.Normal/Gaussian Distribution\n",
    "#2.Bernolli Distribution \n",
    "#3.Uniform Distributiion\n",
    "#4.Poisson Distribution\n",
    "#5.Log normal Distribution\n",
    "#6.Bionominal Distribuution\n"
   ]
  },
  {
   "cell_type": "code",
   "execution_count": 3,
   "id": "adde8faf-725e-437c-8f5c-d557d394b0c4",
   "metadata": {},
   "outputs": [],
   "source": [
    "# Bionominal Distribution-\n",
    "#The binomial distribution is a discrete probability distribution that models the number of successes in a fixed number of independent and identical Bernoulli trials, where each trial has only two possible outcomes (success or failure) and the probability of success is constant.\n",
    "#example -Flipping the coin , Daily Attendace of student in class."
   ]
  },
  {
   "cell_type": "code",
   "execution_count": 5,
   "id": "b7c20be9-d3fc-45d1-aec0-a01ba8524da9",
   "metadata": {},
   "outputs": [],
   "source": [
    "import matplotlib.pyplot as plt"
   ]
  },
  {
   "cell_type": "code",
   "execution_count": 6,
   "id": "1b3c359a-9015-4874-891b-aa0451325576",
   "metadata": {},
   "outputs": [],
   "source": [
    "import numpy as np"
   ]
  },
  {
   "cell_type": "code",
   "execution_count": 7,
   "id": "28c78331-879e-41a8-8df5-617d669bd458",
   "metadata": {},
   "outputs": [],
   "source": [
    "bio_new = np.random.binomial( 1000, 0.4 )"
   ]
  },
  {
   "cell_type": "code",
   "execution_count": 8,
   "id": "b92f5e7a-b1d1-4b99-acd6-ce155d152368",
   "metadata": {},
   "outputs": [
    {
     "data": {
      "image/png": "[encoded data removed]",
      "text/plain": [
       "<Figure size 640x480 with 1 Axes>"
      ]
     },
     "metadata": {},
     "output_type": "display_data"
    }
   ],
   "source": [
    "plt.hist(bio_new, density=True)\n",
    "plt.xlabel(\"Num of successes\")\n",
    "plt.ylabel(\"Probability\")\n",
    "plt.title(\"Histogrom of (n= 1000 , p = 0.4)\")\n",
    "plt.show()"
   ]
  },
  {
   "cell_type": "code",
   "execution_count": 9,
   "id": "e1c2d264-a346-4661-976c-d18ed3a32cd3",
   "metadata": {},
   "outputs": [
    {
     "name": "stdout",
     "output_type": "stream",
     "text": [
      "The cumulative distribution function at 3 for a Poisson distribution with mean 2.5 is: 0.0820849986238988\n"
     ]
    }
   ],
   "source": [
    "##CDF using python\n",
    "import math\n",
    "def poisson_cdf(mean, k):\n",
    "    \n",
    "    if mean < 0 or k < 0:\n",
    "        return ValueError(\"Mean and k must be non-negative.\")\n",
    "\n",
    "    cdf = 0\n",
    "    for i in range(k + 1):\n",
    "        cdf += math.exp(-mean) * (mean ** i) / math.factorial(i)\n",
    "        return cdf\n",
    "\n",
    "mean_value = 2.5\n",
    "point_value = 3\n",
    "result = poisson_cdf(mean_value, point_value)\n",
    "\n",
    "print(f\"The cumulative distribution function at {point_value} for a Poisson distribution with mean {mean_value} is: {result}\")"
   ]
  },
  {
   "cell_type": "code",
   "execution_count": 10,
   "id": "968b8e4a-41b0-4296-bd20-fe588d6e4694",
   "metadata": {},
   "outputs": [],
   "source": [
    "## How Binomial distribution different from Poisson distribution?\n",
    "# Both Distrubutiion are Discrete Random variable\n",
    "# In Binominal every experimrnt output is binary .\n",
    "# In bionominal experimrnt perform for n number of trials.& in Poisson Distrubution number of event is accuring in fixed time internal.\n"
   ]
  },
  {
   "cell_type": "code",
   "execution_count": 12,
   "id": "a5c52f37-4c29-42d2-9f42-514ac15fbc3a",
   "metadata": {},
   "outputs": [],
   "source": [
    "poi_new = np.random.poisson(1000 , 5)"
   ]
  },
  {
   "cell_type": "code",
   "execution_count": 13,
   "id": "2aeb920c-98be-43cd-92c4-9e7c3c0f60c1",
   "metadata": {},
   "outputs": [
    {
     "data": {
      "text/plain": [
       "array([1027, 1001,  976,  951, 1030])"
      ]
     },
     "execution_count": 13,
     "metadata": {},
     "output_type": "execute_result"
    }
   ],
   "source": [
    "poi_new"
   ]
  },
  {
   "cell_type": "code",
   "execution_count": 15,
   "id": "553e8a11-45db-48f0-9948-496bcb9ed220",
   "metadata": {},
   "outputs": [
    {
     "data": {
      "text/plain": [
       "997.0"
      ]
     },
     "execution_count": 15,
     "metadata": {},
     "output_type": "execute_result"
    }
   ],
   "source": [
    "np.mean(poi_new)"
   ]
  },
  {
   "cell_type": "code",
   "execution_count": 16,
   "id": "91ec0a08-06fc-4b62-8c65-d6a454aa2a0c",
   "metadata": {},
   "outputs": [
    {
     "data": {
      "text/plain": [
       "912.4"
      ]
     },
     "execution_count": 16,
     "metadata": {},
     "output_type": "execute_result"
    }
   ],
   "source": [
    "np.var(poi_new)"
   ]
  },
  {
   "cell_type": "code",
   "execution_count": 17,
   "id": "6aba715a-4c73-4da6-ac95-ec80278dc620",
   "metadata": {},
   "outputs": [],
   "source": [
    "##How mean and variance are related in Binomial distribution and Poisson distribution?\n",
    "#For a binomial distribution, the variance is influenced by both the number of trials and the probability of success.\n",
    "#For a Poisson distribution, the mean and variance are equal and are solely determined by the average rate."
   ]
  },
  {
   "cell_type": "code",
   "execution_count": null,
   "id": "c4e91aff-fe49-452f-98f8-49fe95605ed5",
   "metadata": {},
   "outputs": [],
   "source": [
    "#data apper in normal distrubution\n",
    "#The least frequent data points are located in the tails of the distribution\n",
    "# Left Tails & Right Tails"
   ]
  }
 ],
 "metadata": {
  "kernelspec": {
   "display_name": "Python 3 (ipykernel)",
   "language": "python",
   "name": "python3"
  },
  "language_info": {
   "codemirror_mode": {
    "name": "ipython",
    "version": 3
   },
   "file_extension": ".py",
   "mimetype": "text/x-python",
   "name": "python",
   "nbconvert_exporter": "python",
   "pygments_lexer": "ipython3",
   "version": "3.10.8"
  }
 },
 "nbformat": 4,
 "nbformat_minor": 5
}
