{
 "cells": [
  {
   "cell_type": "code",
   "execution_count": 1,
   "id": "c268955e-84f9-4bde-afcb-8434d7eb85ba",
   "metadata": {},
   "outputs": [],
   "source": [
    "#Difference between a t-test and a z-test -\n",
    "# If we don't have population standard deviation  then use t test\n",
    "# Denpends upon sample size if belove 30 then use t-test\n"
   ]
  },
  {
   "cell_type": "code",
   "execution_count": 2,
   "id": "e68f4cb7-4a60-4e10-b51c-dc5124f1832e",
   "metadata": {},
   "outputs": [],
   "source": [
    "# Differentiate between one-tailed and two-tailed tests.-\n",
    "#One tailed tests - \n",
    "#At only one side of the data distribution.\n",
    "#Testing if a new medicine makes people feel better than the old one.\n",
    "#Example: Testing if a new medicine makes people feel better than the old one.\n",
    "## Two-Tailed Test:\n",
    "#Considers both sides of the data distribution.\n",
    "#Used when you're interested in any kind of difference (increase or decrease) without specifying a direction.\n",
    "#Example-Coin is fair"
   ]
  },
  {
   "cell_type": "code",
   "execution_count": 3,
   "id": "383900b2-586f-496f-a028-bb8b4ef8b029",
   "metadata": {},
   "outputs": [],
   "source": [
    "### Explain the concept of Type 1 and Type 2 errors in hypothesis testing\n",
    "#Type 1 Error (False Positive):\n",
    "#Incorrectly claiming an effect or difference when there is not one.\n",
    "#Example: Falsely diagnosing a healthy person with a disease.\n",
    "\n",
    "## Type 2 Error (False Negative):\n",
    "#Incorrectly claiming no effect or difference when there is one.\n",
    "#Example: Failing to detect a disease in a person who actually has it.\n",
    "\n",
    "##In simple terms, Type 1 is a false alarm, and Type 2 is a miss."
   ]
  },
  {
   "cell_type": "code",
   "execution_count": 4,
   "id": "9bf73d07-c135-4309-a4c4-3aaa5222f72d",
   "metadata": {},
   "outputs": [],
   "source": [
    "# Explain Bayes's theorem -\n",
    "\n",
    "#Is an approch to data analysis and parameter estimation based on Baye's theorem..\n",
    "#Bayes's Theorem is particularly useful in situations where you have prior probabilities and new evidence, and you want to update your beliefs based on that evidence.\n",
    "#Examples -Tossing a coin & Rolling a Die."
   ]
  },
  {
   "cell_type": "code",
   "execution_count": 5,
   "id": "6f160ede-bec4-49a9-9afe-4e17aa173367",
   "metadata": {},
   "outputs": [],
   "source": [
    "#What is a confidence interval \n",
    "#A confidence interval (CI) is a range of values used to estimate a population parameter .\n",
    "#C.I = Point Estimate +- Margine of Error \n",
    "# The margin of error depends on the desired level of confidence, the variability in the data, and, in some cases, the sample size."
   ]
  },
  {
   "cell_type": "code",
   "execution_count": 3,
   "id": "d70784d4-f01f-449a-9693-e78f4d05f1af",
   "metadata": {},
   "outputs": [
    {
     "name": "stdout",
     "output_type": "stream",
     "text": [
      "95% Confidence Interval: (48.210805856282846, 51.789194143717154)\n"
     ]
    }
   ],
   "source": [
    "##Calculate the 95% confidence interval for a sample of data with a mean of 50 and a standard deviation of 5. Interpret the results-\n",
    "import scipy.stats as stats\n",
    "\n",
    "def calculate_confidence_interval(sample_mean, sample_std_dev, sample_size, confidence_level=0.95):\n",
    "    margin_of_error = stats.norm.ppf((1 + confidence_level) / 2) * (sample_std_dev / math.sqrt(sample_size))\n",
    "    \n",
    "    confidence_interval = (sample_mean - margin_of_error, sample_mean + margin_of_error)\n",
    "    return confidence_interval\n",
    "\n",
    "sample_mean = 50\n",
    "sample_std_dev = 5\n",
    "sample_size = 30 #Asum\n",
    "\n",
    "confidence_interval = calculate_confidence_interval(sample_mean, sample_std_dev, sample_size)\n",
    "print(f\"95% Confidence Interval: {confidence_interval}\")\n"
   ]
  },
  {
   "cell_type": "code",
   "execution_count": 4,
   "id": "d4b8c651-634d-4d7e-adca-3b3cc8dcff88",
   "metadata": {},
   "outputs": [],
   "source": [
    "## Margine of Error-\n",
    "#The margin of error in a confidence interval represents the range of values above and below the sample estimate within which the true population parameter is likely to fall. It is influenced by the variability of the data and the desired level of confidence.\n",
    "#Example - Estimate the average height of students in a school. If you take a small sample of 10 students, the variability in height within that small group might lead to a wider range of possible average heights. However, if you increase your sample size to 100 students"
   ]
  },
  {
   "cell_type": "code",
   "execution_count": 5,
   "id": "90653ba0-4c08-497f-be89-b8dcfc8cfa2c",
   "metadata": {},
   "outputs": [
    {
     "name": "stdout",
     "output_type": "stream",
     "text": [
      "Z-score: 1.0\n"
     ]
    }
   ],
   "source": [
    "##Calculate the z-score for a data point with a value of 75, a population mean of 70, and a populationstandard deviation of 5.Interpret the results.\n",
    "\n",
    "data_point = 75\n",
    "population_mean = 70\n",
    "population_std_dev = 5\n",
    "\n",
    "z_score = (data_point - population_mean) / population_std_dev\n",
    "print(\"Z-score:\", z_score)"
   ]
  },
  {
   "cell_type": "code",
   "execution_count": 6,
   "id": "86416ff4-6bde-4531-8ef4-461fdd7e3922",
   "metadata": {},
   "outputs": [
    {
     "name": "stdout",
     "output_type": "stream",
     "text": [
      "95% Confidence Interval: (0.608191771144905, 0.6918082288550951)\n"
     ]
    }
   ],
   "source": [
    "##. In a survey of 500 people, 65% reported being satisfied with their current job. Calculate the 95% confidence interval for the true proportion of people who are satisfied with their job.\n",
    "\n",
    "sample_proportion = 0.65\n",
    "sample_size = 500\n",
    "confidence_level = 0.95\n",
    "\n",
    "margin_of_error = 1.96 * math.sqrt((sample_proportion * (1 - sample_proportion)) / sample_size)\n",
    "\n",
    "confidence_interval = (sample_proportion - margin_of_error, sample_proportion + margin_of_error)\n",
    "\n",
    "print(f\"95% Confidence Interval: {confidence_interval}\")\n"
   ]
  },
  {
   "cell_type": "code",
   "execution_count": null,
   "id": "2363ca92-74a9-47d2-9628-41a069bcb55e",
   "metadata": {},
   "outputs": [],
   "source": []
  }
 ],
 "metadata": {
  "kernelspec": {
   "display_name": "Python 3 (ipykernel)",
   "language": "python",
   "name": "python3"
  },
  "language_info": {
   "codemirror_mode": {
    "name": "ipython",
    "version": 3
   },
   "file_extension": ".py",
   "mimetype": "text/x-python",
   "name": "python",
   "nbconvert_exporter": "python",
   "pygments_lexer": "ipython3",
   "version": "3.10.8"
  }
 },
 "nbformat": 4,
 "nbformat_minor": 5
}
