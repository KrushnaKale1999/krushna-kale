{
 "cells": [
  {
   "cell_type": "code",
   "execution_count": 1,
   "id": "74eafe08-ee66-41b9-a081-92f25c89e333",
   "metadata": {},
   "outputs": [
    {
     "ename": "SyntaxError",
     "evalue": "invalid syntax (406347644.py, line 38)",
     "output_type": "error",
     "traceback": [
      "\u001b[0;36m  Cell \u001b[0;32mIn[1], line 38\u001b[0;36m\u001b[0m\n\u001b[0;31m    **Pickle a model**:\u001b[0m\n\u001b[0m    ^\u001b[0m\n\u001b[0;31mSyntaxError\u001b[0m\u001b[0;31m:\u001b[0m invalid syntax\n"
     ]
    }
   ],
   "source": [
    "\n",
    "### Q1. What is Elastic Net Regression and how does it differ from other regression techniques?\n",
    "\n",
    "#**Elastic Net Regression**: Combines L1 (Lasso) and L2 (Ridge) regularization. It can shrink coefficients and perform feature selection like Lasso, \n",
    "#but also deals with multicollinearity better by mixing in Ridge regularization.\n",
    "\n",
    "### Q2. How do you choose the optimal values of the regularization parameters for Elastic Net Regression?\n",
    "\n",
    "#Use cross-validation to select the optimal values of the regularization parameters, lambda (λ) and alpha (α), which control the mix of L1 and L2 penalties.\n",
    "\n",
    "### Q3. What are the advantages and disadvantages of Elastic Net Regression?\n",
    "\n",
    "#**Advantages**: \n",
    "#- Handles multicollinearity.\n",
    "#- Performs automatic feature selection.\n",
    "#- More flexible than Lasso and Ridge alone.\n",
    "\n",
    "#**Disadvantages**: \n",
    "#- Requires tuning of two parameters.\n",
    "#- More computationally intensive.\n",
    "\n",
    "### Q4. What are some common use cases for Elastic Net Regression?\n",
    "\n",
    "#- High-dimensional datasets where feature selection is needed.\n",
    "#- Situations with multicollinearity among predictors.\n",
    "#- Predictive modeling in fields like genomics, finance, and marketing.\n",
    "\n",
    "### Q5. How do you interpret the coefficients in Elastic Net Regression?\n",
    "\n",
    "#Interpret coefficients similarly to OLS, indicating the change in the dependent variable per unit change in the predictor.\n",
    "#Coefficients may be shrunk towards zero or exactly zero if deemed irrelevant.\n",
    "\n",
    "### Q6. How do you handle missing values when using Elastic Net Regression?\n",
    "\n",
    "#Handle missing values by:\n",
    "#- Imputing missing values (mean, median, mode, etc.).\n",
    "#- Using algorithms that can handle missing data.\n",
    "#- Removing rows/columns with missing values if appropriate.\n",
    "\n",
    "### Q7. How do you use Elastic Net Regression for feature selection?\n",
    "\n",
    "#Elastic Net can shrink some coefficients to zero, effectively excluding irrelevant features. This is controlled by the regularization parameters.\n",
    "\n",
    "### Q8. How do you pickle and unpickle a trained Elastic Net Regression model in Python?\n",
    "\n",
    "**Pickle a model**:\n",
    "```python\n",
    "import pickle\n",
    "with open('elastic_net_model.pkl', 'wb') as f:\n",
    "    pickle.dump(model, f)\n",
    "```\n",
    "**Unpickle a model**:\n",
    "```python\n",
    "import pickle\n",
    "with open('elastic_net_model.pkl', 'rb') as f:\n",
    "    model = pickle.load(f)\n",
    "```\n",
    "\n",
    "### Q9. What is the purpose of pickling a model in machine learning?\n",
    "#Pickling a model allows you to save the trained model to disk, enabling you to load and use it later without retraining. \n",
    "#This is useful for deployment and reproducibility."
   ]
  },
  {
   "cell_type": "code",
   "execution_count": null,
   "id": "c694858f-a41a-4c98-9b23-735932be8ba7",
   "metadata": {},
   "outputs": [],
   "source": []
  },
  {
   "cell_type": "code",
   "execution_count": null,
   "id": "4ae4efe8-7726-48dc-81aa-bd2d3590a29a",
   "metadata": {},
   "outputs": [],
   "source": []
  }
 ],
 "metadata": {
  "kernelspec": {
   "display_name": "Python 3 (ipykernel)",
   "language": "python",
   "name": "python3"
  },
  "language_info": {
   "codemirror_mode": {
    "name": "ipython",
    "version": 3
   },
   "file_extension": ".py",
   "mimetype": "text/x-python",
   "name": "python",
   "nbconvert_exporter": "python",
   "pygments_lexer": "ipython3",
   "version": "3.10.8"
  }
 },
 "nbformat": 4,
 "nbformat_minor": 5
}
