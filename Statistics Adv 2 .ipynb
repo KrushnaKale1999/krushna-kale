{
 "cells": [
  {
   "cell_type": "code",
   "execution_count": 1,
   "id": "69f5675c-c780-47ee-ad7c-d5db3fd004ac",
   "metadata": {},
   "outputs": [],
   "source": [
    "#Probability Density Function(PDF)-\n",
    "#The PDF is used for continuous random variables and gives the probability that a variable falls within a particular range.\n",
    "#Example - Height of students in a classroom \n",
    "\n",
    "#Probability Mass Function(PMF) -\n",
    "#The PMF gives the probability of a discrete random variable taking a specific value.\n",
    "#Example - Rolling a diec"
   ]
  },
  {
   "cell_type": "code",
   "execution_count": 2,
   "id": "c344cd0d-1d8e-4206-bb48-207e31027482",
   "metadata": {},
   "outputs": [],
   "source": [
    "## Cumulative Density Function (CFD) - \n",
    "# The Cumulative Density Function (CDF) is a concept in probability theory and statistics that describes the probability that a random variable takes on a value less than or equal to a given point. It provides a cumulative view of the probability distribution.\n",
    "# Why - CDF simplifies the analysis of random variables and facilitates comparisons between different distributions.\n",
    "# Example - Rolling a diec"
   ]
  },
  {
   "cell_type": "code",
   "execution_count": 3,
   "id": "f2b19b64-bacc-4ee0-9efa-d4056d74e969",
   "metadata": {},
   "outputs": [],
   "source": [
    "##The normal distribution, also known as the Gaussian distribution or bell curve, is a commonly used probability distribution in various fields due to its mathematical properties.\n",
    "#Such as Height of Student , IQ score , Financial markets , Weight of student , Test Score\n",
    "## Emperical rule of Normal Distrubution ==  66%-95%-99.7%  Probability "
   ]
  },
  {
   "cell_type": "code",
   "execution_count": 5,
   "id": "bcbf775c-1317-4604-b433-58f078bea851",
   "metadata": {},
   "outputs": [],
   "source": [
    "##Importance of Normal Distribution-\n",
    "#The Normal Distribution is key componant of Central Limit Thearom (CLT) , it is sampling distribution of the mean will alwalys normelly distubutedin large size .\n",
    "#In Polulation studies , In Risk Management of Data , also in educationl testing\n",
    "#Such as Height of Student , IQ score , Financial markets , Weight of student , Test Score"
   ]
  },
  {
   "cell_type": "code",
   "execution_count": 6,
   "id": "90cb11b1-4218-4a91-8757-2cf3ea99af37",
   "metadata": {},
   "outputs": [],
   "source": [
    "## Bernoulli Distribution -\n",
    "# The Bernoulli distribution is a discrete probability distribution representing a random variable that can take on one of two possible outcomes, typically labeled as success (1) or failure (0).\n",
    "# Example - Flipping the coin\n",
    "\n",
    "## Difference between Bernoulli Distribution and Binomial Distribution -\n",
    "\n",
    "## 1) Number of Trials:\n",
    "    \n",
    "#Bernoulli Distribution: Represents a single trial with two possible outcomes (success or failure).\n",
    "#Binomial Distribution: Represents the number of successes in a fixed number of independent and identical Bernoulli trials.\n",
    "\n",
    "## 2) Random Variable:\n",
    "\n",
    "#Bernoulli Distribution: Describes a single binary random variable (0 or 1) representing the outcome of one trial.\n",
    "#Binomial Distribution: Describes the sum of successes in a fixed number of independent Bernoulli trials.\n",
    "\n",
    "## 3) Parameter:\n",
    "\n",
    "#Bernoulli Distribution: Has a single parameter p, the probability of success in a single trial.\n",
    "#Binomial Distribution: Has two parameters, n (number of trials) and p (probability of success in a single trial).\n"
   ]
  },
  {
   "cell_type": "code",
   "execution_count": 7,
   "id": "5ba6574a-bce2-4fa1-90d9-b74cb9d84644",
   "metadata": {},
   "outputs": [],
   "source": [
    "##Given - X =60 , u =50 , 6 =10 \n",
    " #then Z = X-u/6   , 60-50/10 = 1\n",
    "  #From standard normal distribution tables  find that 0.1587\n",
    "   #Therefore, the probability that a randomly selected observation from the given normal distribution is greater than 60 is approximately 0.1587 or 15.87%."
   ]
  },
  {
   "cell_type": "code",
   "execution_count": 9,
   "id": "5ff91ed8-cd28-4954-9faf-c73db3e9631b",
   "metadata": {},
   "outputs": [],
   "source": [
    "## Uniform Distribution - \n",
    "#The uniform distribution is a probability distribution where all outcomes have equal probability. In other words, every value in the distribution has the same likelihood of occurring. The probability density function (PDF) of a continuous uniform distribution is constant within a specified range.\n",
    "\n",
    "#Example of Uniform Distribution:\n",
    "#Descreate -Consider a fair six-sided die. If the die is fair, each outcome (1, 2, 3, 4, 5, 6) has an equal probability of 1/6 . \n",
    "#Continious -Number of Cake sold in a day on shop with max 20 & min 5."
   ]
  },
  {
   "cell_type": "code",
   "execution_count": 1,
   "id": "ddfc34d3-6ad8-4905-9880-8851456612db",
   "metadata": {},
   "outputs": [],
   "source": [
    "## Z score -\n",
    "#The Z-score is a measure that quantifies how many standard deviations a data point is from the mean of a dataset. Its importance lies in standardizing data for comparisons, identifying outliers, calculating probabilities, normalizing data, and making assessments in fields like quality control, finance, education, and more.\n",
    "# Importance of Z Score -\n",
    "#The Z-score is a valuable statistical tool that standardizes data, facilitates comparisons, and provides insights into the relative position of individual data points within a distribution. It is widely used in various fields for analysis, quality control, and decision-making."
   ]
  },
  {
   "cell_type": "code",
   "execution_count": 2,
   "id": "8d01ddf1-8f45-4735-a040-f792a2d55dcf",
   "metadata": {},
   "outputs": [],
   "source": [
    "##Central Limit Therom (CLT)\n",
    "#It is sampling distribution of mean will always be normally distrubuted in a large size whether papulation will be normal.\n",
    "\n",
    "# In Normal Distribution Approximation, Inference for Small Sample Sizes , Hypothesis Testing and Confidence Intervals , Population Parameter Estimation,Statistical Modeling."
   ]
  },
  {
   "cell_type": "code",
   "execution_count": 3,
   "id": "e49d1f9b-e864-40e2-8eea-d4b27773affe",
   "metadata": {},
   "outputs": [],
   "source": [
    "# Assumption Of CLT -\n",
    "#Samples must be independent and identically distributed.\n",
    "#The sample size should be sufficiently large (often considered 30 or more).\n",
    "#The original population should have a defined mean and standard deviation.\n",
    "#The population should have finite variance."
   ]
  },
  {
   "cell_type": "code",
   "execution_count": null,
   "id": "bd533161-635b-455c-b37e-8eb460f82573",
   "metadata": {},
   "outputs": [],
   "source": []
  }
 ],
 "metadata": {
  "kernelspec": {
   "display_name": "Python 3 (ipykernel)",
   "language": "python",
   "name": "python3"
  },
  "language_info": {
   "codemirror_mode": {
    "name": "ipython",
    "version": 3
   },
   "file_extension": ".py",
   "mimetype": "text/x-python",
   "name": "python",
   "nbconvert_exporter": "python",
   "pygments_lexer": "ipython3",
   "version": "3.10.8"
  }
 },
 "nbformat": 4,
 "nbformat_minor": 5
}
