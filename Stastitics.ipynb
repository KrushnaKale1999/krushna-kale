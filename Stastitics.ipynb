{
 "cells": [
  {
   "cell_type": "code",
   "execution_count": 1,
   "id": "5ff85026-1808-4d93-a81b-bf19316c825f",
   "metadata": {},
   "outputs": [],
   "source": [
    "# Statistics - It is science of collecting , organizing and anylyzing the data."
   ]
  },
  {
   "cell_type": "code",
   "execution_count": 2,
   "id": "332bd70e-4b70-4343-8072-23f0e2280106",
   "metadata": {},
   "outputs": [],
   "source": [
    "# Types of stastistic - \n",
    "# 1) Desriptive Statistics - Measure of cetral tendancy(mean,mode,medium) , Measure of Dispresion ( Standard , Variance),Graphs(Histo,pdf,pmf)\n",
    "# 2) Infertional Statistics - Z test , T test ,Hypothetis Test, P value"
   ]
  },
  {
   "cell_type": "code",
   "execution_count": 3,
   "id": "b11aad3b-3691-4f65-9057-209c9152ac48",
   "metadata": {},
   "outputs": [],
   "source": [
    "# Types of Data -\n",
    "# 1) Quantitative - Discreve(whole number ), Continious( any value)\n",
    "# 2) Qualitative - Nominal(gender ,Blood groups are fixed) ,Ordinal ( Customer feedbaks)"
   ]
  },
  {
   "cell_type": "code",
   "execution_count": 4,
   "id": "5d076307-d2e2-4009-ae8c-bcd6a5230625",
   "metadata": {},
   "outputs": [],
   "source": [
    "#(i) Grading in exam: A+, A, B+, B, C+, C, D, E = Qualitative ( Nominal)\n",
    "#(ii) Colour of mangoes: yellow, green, orange, red = Qualitative (Nominal)\n",
    "#(iii) Height data of a class: [178.9, 179, 179.5, 176, 177.2, 178.3, 175.8,...] = Quantitative(Continious)\n",
    "#(iv) Number of mangoes exported by a farm: [500, 600, 478, 672, ...] = Quantitative(Continious)"
   ]
  },
  {
   "cell_type": "code",
   "execution_count": 5,
   "id": "0eaeff09-82ea-49a7-99df-5057d2f8ac82",
   "metadata": {},
   "outputs": [],
   "source": [
    "# Level of measurment-\n",
    "#1) Quantitative - Discreve(whole number ), Continious( any value)\n",
    "# 2) Qualitative - Nominal(gender ,Blood groups are fixed) ,Ordinal ( Customer feedbaks)"
   ]
  },
  {
   "cell_type": "code",
   "execution_count": 6,
   "id": "66cac94f-aa3f-409b-a5bd-cb0f1303f30d",
   "metadata": {},
   "outputs": [],
   "source": [
    "# Discrive - It consist whole number that is total value\n",
    "# Continious - weight , speed  any value\n",
    "# Nominal - Fixed Categorical thais is types of Gender , Blood group , pin code\n",
    "# Ordinal - customer support variable Categorical data"
   ]
  },
  {
   "cell_type": "code",
   "execution_count": 7,
   "id": "6bff194c-48c2-4046-9249-11a6684fb596",
   "metadata": {},
   "outputs": [],
   "source": [
    "# Differancde bet -\n",
    "#Nominal - Fixed Categorical thais is types of Gender , Blood group , pin code\n",
    "# Ordinal - customer support variable Categorical data"
   ]
  },
  {
   "cell_type": "code",
   "execution_count": 8,
   "id": "ed5519cd-ae24-4f00-9791-8efaad531fa8",
   "metadata": {},
   "outputs": [],
   "source": [
    "# 1) Desriptive Statistics\n",
    "# ( for Organize data ) - Measure of cetral tendancy(mean,mode,medium) , Measure of Dispresion ( Standard , Variance),Graphs(Histo,pdf,pmf)\n",
    "# 2) Infertional Statistics - ( Data to find conclusion ) - Z test , T test ,Hypothetis Test, P value "
   ]
  },
  {
   "cell_type": "code",
   "execution_count": 9,
   "id": "4b3f4403-e4b2-475e-bd10-2ed9087e57ba",
   "metadata": {},
   "outputs": [],
   "source": [
    "# common in measure of central tendacy & variability is Average."
   ]
  },
  {
   "cell_type": "code",
   "execution_count": null,
   "id": "75f1d540-7fbc-4d80-a113-53938e760476",
   "metadata": {},
   "outputs": [],
   "source": []
  }
 ],
 "metadata": {
  "kernelspec": {
   "display_name": "Python 3 (ipykernel)",
   "language": "python",
   "name": "python3"
  },
  "language_info": {
   "codemirror_mode": {
    "name": "ipython",
    "version": 3
   },
   "file_extension": ".py",
   "mimetype": "text/x-python",
   "name": "python",
   "nbconvert_exporter": "python",
   "pygments_lexer": "ipython3",
   "version": "3.10.8"
  }
 },
 "nbformat": 4,
 "nbformat_minor": 5
}
