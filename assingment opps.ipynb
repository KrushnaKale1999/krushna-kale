{
 "cells": [
  {
   "cell_type": "code",
   "execution_count": 1,
   "id": "4230960a-37ae-4d00-ae9c-37283e361d50",
   "metadata": {},
   "outputs": [],
   "source": [
    "class parent :\n",
    "    def test_paresnt(self) :\n",
    "        print ( \" this is my parent class\")\n",
    "        "
   ]
  },
  {
   "cell_type": "code",
   "execution_count": 4,
   "id": "469eca5d-aa88-4dec-b0d9-ced60f22e3f9",
   "metadata": {},
   "outputs": [],
   "source": [
    "class child(parent):\n",
    "    pass"
   ]
  },
  {
   "cell_type": "code",
   "execution_count": 5,
   "id": "b1159563-fa00-4825-b960-bc71ceace443",
   "metadata": {},
   "outputs": [],
   "source": [
    "child_obj = child()"
   ]
  },
  {
   "cell_type": "code",
   "execution_count": 6,
   "id": "033ad0ce-0390-4f59-ba6c-b8fe858beed3",
   "metadata": {},
   "outputs": [
    {
     "name": "stdout",
     "output_type": "stream",
     "text": [
      " this is my parent class\n"
     ]
    }
   ],
   "source": [
    "child_obj.test_paresnt()"
   ]
  },
  {
   "cell_type": "code",
   "execution_count": 3,
   "id": "d3fec4f2-11a2-45d4-85eb-b0c6dd455186",
   "metadata": {},
   "outputs": [],
   "source": [
    "class class1 :\n",
    "    def test_class1(self) :\n",
    "        print (\" this is first class\")"
   ]
  },
  {
   "cell_type": "code",
   "execution_count": 4,
   "id": "df61d1b2-f402-4b1d-a00a-68656d002e31",
   "metadata": {},
   "outputs": [],
   "source": [
    "class class2(class1) : \n",
    "    def test_class3(self) :\n",
    "        print ( ' this is class1 class2 ')"
   ]
  },
  {
   "cell_type": "code",
   "execution_count": 5,
   "id": "b793cd1e-106d-4672-ae13-9fb33de7feac",
   "metadata": {},
   "outputs": [],
   "source": [
    "class class3(class2) :\n",
    "    def test_class3(self):\n",
    "        print (\"this is all class\")"
   ]
  },
  {
   "cell_type": "code",
   "execution_count": 6,
   "id": "904ef5c5-3828-4e02-87f3-4a5e04ecaf26",
   "metadata": {},
   "outputs": [],
   "source": [
    "obj_class = class3()"
   ]
  },
  {
   "cell_type": "code",
   "execution_count": 8,
   "id": "f01981a2-25c5-4439-9b8c-4c70a0610aca",
   "metadata": {},
   "outputs": [
    {
     "name": "stdout",
     "output_type": "stream",
     "text": [
      " this is first class\n"
     ]
    }
   ],
   "source": [
    "obj_class.test_class1()"
   ]
  },
  {
   "cell_type": "code",
   "execution_count": 9,
   "id": "f067ee7b-677e-42df-a1cf-5202f1b86c3e",
   "metadata": {},
   "outputs": [
    {
     "name": "stdout",
     "output_type": "stream",
     "text": [
      "this is all class\n"
     ]
    }
   ],
   "source": [
    "obj_class.test_class3()"
   ]
  },
  {
   "cell_type": "code",
   "execution_count": 17,
   "id": "a23de099-2287-4c4a-b3a3-bf0c338b1b6c",
   "metadata": {},
   "outputs": [],
   "source": [
    "import abc\n",
    "class pwskills :\n",
    "    \n",
    "    @abc.abstractmethod\n",
    "    def student_details(self):\n",
    "        pass\n",
    "    @abc.abstractmethod\n",
    "    def student_assingment(self):\n",
    "        pass\n",
    "    @abc.abstractmethod\n",
    "    def student_marks(self):\n",
    "        pass\n",
    "    "
   ]
  },
  {
   "cell_type": "code",
   "execution_count": 18,
   "id": "0056ee5b-3963-49e6-93ff-56362601e836",
   "metadata": {},
   "outputs": [],
   "source": [
    "class web_dev(pwskills):\n",
    "    \n",
    "    def student_details(self):\n",
    "        return \" is this kk \"\n",
    "    "
   ]
  },
  {
   "cell_type": "code",
   "execution_count": 19,
   "id": "b292ca18-77c4-4efa-984f-0d8c02d63b02",
   "metadata": {},
   "outputs": [],
   "source": [
    "class data_science(pwskills):\n",
    "    def student_marks(self):\n",
    "        return \" very good\"\n",
    "    "
   ]
  },
  {
   "cell_type": "code",
   "execution_count": 21,
   "id": "fa5751f2-6d0e-4858-92ab-50243e4ece93",
   "metadata": {},
   "outputs": [],
   "source": [
    "ds = data_science()"
   ]
  },
  {
   "cell_type": "code",
   "execution_count": 22,
   "id": "a5dfacf1-a543-4f7b-af9e-f31b8380a150",
   "metadata": {},
   "outputs": [
    {
     "data": {
      "text/plain": [
       "' very good'"
      ]
     },
     "execution_count": 22,
     "metadata": {},
     "output_type": "execute_result"
    }
   ],
   "source": [
    "ds.student_marks()"
   ]
  },
  {
   "cell_type": "code",
   "execution_count": 24,
   "id": "3413d5a1-00eb-4254-a9c2-6227146a4025",
   "metadata": {},
   "outputs": [],
   "source": [
    "web = web_dev()"
   ]
  },
  {
   "cell_type": "code",
   "execution_count": 25,
   "id": "2f6af19a-4ab9-4a8f-b3b5-3d40a30c9a08",
   "metadata": {},
   "outputs": [
    {
     "data": {
      "text/plain": [
       "' is this kk '"
      ]
     },
     "execution_count": 25,
     "metadata": {},
     "output_type": "execute_result"
    }
   ],
   "source": [
    "web.student_details()"
   ]
  },
  {
   "cell_type": "code",
   "execution_count": 32,
   "id": "7bfc4d38-6245-4dfe-a24a-1be6d1c7722b",
   "metadata": {},
   "outputs": [],
   "source": [
    "class vehicle :\n",
    "    def __init__(self , name_of_vehicle, max_speed, average_of_vehicle ):\n",
    "        self.name_of_vehicle = name_of_vehicle\n",
    "        self.max_speed = max_speed\n",
    "        self.average_of_vehicle = average_of_vehicle\n"
   ]
  },
  {
   "cell_type": "code",
   "execution_count": 33,
   "id": "bcd1ef6a-50cc-4e8a-8c36-cb7f4602bcb6",
   "metadata": {},
   "outputs": [],
   "source": [
    "m= vehicle (\"scarpio\", 200 , 20 )"
   ]
  },
  {
   "cell_type": "code",
   "execution_count": 34,
   "id": "66a9148f-8a2b-4690-827f-556127cec6e9",
   "metadata": {},
   "outputs": [],
   "source": [
    "m.average_of_vehicle= 30"
   ]
  },
  {
   "cell_type": "code",
   "execution_count": 35,
   "id": "a9dcc3f5-4284-4362-b783-c4614d2c0ea0",
   "metadata": {},
   "outputs": [
    {
     "data": {
      "text/plain": [
       "30"
      ]
     },
     "execution_count": 35,
     "metadata": {},
     "output_type": "execute_result"
    }
   ],
   "source": [
    "m.average_of_vehicle"
   ]
  },
  {
   "cell_type": "code",
   "execution_count": 36,
   "id": "62dacf57-43ce-454d-8d6f-082c0e8d1ffa",
   "metadata": {},
   "outputs": [],
   "source": [
    "m.max_speed= 650"
   ]
  },
  {
   "cell_type": "code",
   "execution_count": 37,
   "id": "397c4543-2b8d-4e1d-b99d-fdd51c7682a3",
   "metadata": {},
   "outputs": [
    {
     "data": {
      "text/plain": [
       "650"
      ]
     },
     "execution_count": 37,
     "metadata": {},
     "output_type": "execute_result"
    }
   ],
   "source": [
    "m.max_speed"
   ]
  },
  {
   "cell_type": "code",
   "execution_count": 38,
   "id": "190566da-8c44-463b-b430-f8122ca6ab2a",
   "metadata": {},
   "outputs": [],
   "source": [
    "m.name_of_vehicle= 'tata'"
   ]
  },
  {
   "cell_type": "code",
   "execution_count": 40,
   "id": "47a18564-769a-4145-a60e-48b3417994eb",
   "metadata": {},
   "outputs": [
    {
     "data": {
      "text/plain": [
       "'tata'"
      ]
     },
     "execution_count": 40,
     "metadata": {},
     "output_type": "execute_result"
    }
   ],
   "source": [
    "m.name_of_vehicle"
   ]
  },
  {
   "cell_type": "code",
   "execution_count": 46,
   "id": "c50da696-3d23-445f-a378-1744f68fc24e",
   "metadata": {},
   "outputs": [],
   "source": [
    "class class1 :\n",
    "    def test_class1(self) :\n",
    "        print( \" this is first class \" )\n",
    "        "
   ]
  },
  {
   "cell_type": "code",
   "execution_count": 47,
   "id": "b8e2d329-1256-43fa-bc18-b39618fcdef2",
   "metadata": {},
   "outputs": [],
   "source": [
    "class class2 :\n",
    "    def test_class2(self) :\n",
    "        print( \" this is second class \" )"
   ]
  },
  {
   "cell_type": "code",
   "execution_count": 48,
   "id": "c8076fdf-de9e-4af5-abb1-6e9640b7d9ce",
   "metadata": {},
   "outputs": [],
   "source": [
    "class class3 (class1 , class2 ):\n",
    "    pass"
   ]
  },
  {
   "cell_type": "code",
   "execution_count": 49,
   "id": "a48aeee0-baa2-433f-bacc-e21d96a375b9",
   "metadata": {},
   "outputs": [],
   "source": [
    "obj_class3= class3()"
   ]
  },
  {
   "cell_type": "code",
   "execution_count": 51,
   "id": "ad780c3b-6208-4967-86bc-e191ab54c167",
   "metadata": {},
   "outputs": [
    {
     "name": "stdout",
     "output_type": "stream",
     "text": [
      " this is first class \n"
     ]
    }
   ],
   "source": [
    "obj_class3.test_class1()"
   ]
  },
  {
   "cell_type": "code",
   "execution_count": 52,
   "id": "84fb4cc1-2299-4f8f-ae52-116fb01f53bf",
   "metadata": {},
   "outputs": [
    {
     "name": "stdout",
     "output_type": "stream",
     "text": [
      " this is second class \n"
     ]
    }
   ],
   "source": [
    "obj_class3.test_class2()"
   ]
  },
  {
   "cell_type": "code",
   "execution_count": 53,
   "id": "b990a9ab-c3db-4b99-9d5e-237787eeb04c",
   "metadata": {},
   "outputs": [],
   "source": [
    "class car :\n",
    "    def __init__(self , year , make , model, speed ) : \n",
    "        \n",
    "        self.__year = year \n",
    "        self.__make = make\n",
    "        self.__model = model\n",
    "        self.__speed = 0\n",
    "        \n",
    "    def set_speed(self,speed) : \n",
    "        self.__speed = 0 if speed < 0 else speed\n",
    "        \n",
    "    def get_speed(self)  : \n",
    "        return self.__speed"
   ]
  },
  {
   "cell_type": "code",
   "execution_count": 55,
   "id": "998713d1-761d-479d-b4fb-8184e77f8cb7",
   "metadata": {},
   "outputs": [],
   "source": [
    "m = car(2023 , \" tata \" , \"punch\" , 33)"
   ]
  },
  {
   "cell_type": "code",
   "execution_count": 57,
   "id": "0d185b74-b2f1-4885-b751-fa6db0ae2b1c",
   "metadata": {},
   "outputs": [],
   "source": [
    "m.set_speed(-668)\n"
   ]
  },
  {
   "cell_type": "code",
   "execution_count": 58,
   "id": "0906e276-3058-4086-b19f-1d391b1aab37",
   "metadata": {},
   "outputs": [
    {
     "data": {
      "text/plain": [
       "0"
      ]
     },
     "execution_count": 58,
     "metadata": {},
     "output_type": "execute_result"
    }
   ],
   "source": [
    "m.get_speed()"
   ]
  },
  {
   "cell_type": "code",
   "execution_count": null,
   "id": "3fcf564b-1b56-4c84-9512-5a239db305f6",
   "metadata": {},
   "outputs": [],
   "source": []
  }
 ],
 "metadata": {
  "kernelspec": {
   "display_name": "Python 3 (ipykernel)",
   "language": "python",
   "name": "python3"
  },
  "language_info": {
   "codemirror_mode": {
    "name": "ipython",
    "version": 3
   },
   "file_extension": ".py",
   "mimetype": "text/x-python",
   "name": "python",
   "nbconvert_exporter": "python",
   "pygments_lexer": "ipython3",
   "version": "3.10.8"
  }
 },
 "nbformat": 4,
 "nbformat_minor": 5
}
