{
 "cells": [
  {
   "cell_type": "code",
   "execution_count": 1,
   "id": "ed603c2e-022f-4afe-90dd-22726db5f19c",
   "metadata": {},
   "outputs": [],
   "source": [
    "#Order Significance:\n",
    "\n",
    "#Ordinal Encoding: Assumes a meaningful order or hierarchy among categories and assigns numerical values based on this order.\n",
    "\n",
    "#Label Encoding: Does not assume any specific order; it merely assigns numerical values to different categories.\n",
    "\n",
    "#Applicability:\n",
    "#Ordinal Encoding: Suitable for categorical variables with a clear ordinal relationship, where the order of categories matters (e.g., low, medium, high).\n",
    "\n",
    "#Label Encoding: More general and applicable to both ordinal and nominal categorical variables.\n",
    "\n",
    "##Example:\n",
    "#Scenario: Education Levels\n",
    "\n",
    "#Ordinal Encoding:\n",
    "#Categories: High School, Associate's Degree, Bachelor's Degree, Master's Degree, Ph.D.\n",
    "#Ordinal Encoding: 1, 2, 3, 4, 5\n",
    "\n",
    "#Label Encoding:\n",
    "#Categories: High School, Associate's Degree, Bachelor's Degree, Master's Degree, Ph.D.\n",
    "#Label Encoding: 1, 2, 3, 4, 5\n"
   ]
  },
  {
   "cell_type": "code",
   "execution_count": 3,
   "id": "caf7cd52-811b-4e8c-af6d-d0415bd26205",
   "metadata": {},
   "outputs": [
    {
     "name": "stdout",
     "output_type": "stream",
     "text": [
      "  Education Level  Churn  Education Level Encoded\n",
      "0     High School      1                        2\n",
      "1        Bachelor      0                        1\n",
      "2          Master      1                        3\n",
      "3           Ph.D.      0                        0\n",
      "4        Bachelor      1                        1\n",
      "5     High School      0                        2\n"
     ]
    }
   ],
   "source": [
    "##@ Explain how Target Guided Ordinal Encoding works and provide an example ?\n",
    "#In summary, Target Guided Ordinal Encoding is beneficial when there is an ordinal relationship between categories and the target variable, making it a useful technique for encoding categorical variables in certain machine learning projects.\n",
    "import pandas as pd\n",
    "import numpy as np\n",
    "\n",
    "data = {'Education Level': ['High School', 'Bachelor', 'Master', 'Ph.D.', 'Bachelor', 'High School'],\n",
    "        'Churn': [1, 0, 1, 0, 1, 0]}\n",
    "\n",
    "df = pd.DataFrame(data)\n",
    "\n",
    "education_mean_churn = df.groupby('Education Level')['Churn'].mean().sort_values()\n",
    "\n",
    "ordinal_mapping = {edu: i for i, edu in enumerate(education_mean_churn.index)}\n",
    "\n",
    "df['Education Level Encoded'] = df['Education Level'].map(ordinal_mapping)\n",
    "\n",
    "print(df)\n"
   ]
  },
  {
   "cell_type": "code",
   "execution_count": 4,
   "id": "edd2c961-e992-4684-869d-1816423cae31",
   "metadata": {},
   "outputs": [],
   "source": [
    "##Define covariance and explain why it is important in statistical analysis.?\n",
    "\n",
    "# Covariance is a statistical measure that describes the extent to which two variables change together\n",
    "#Importance in Statistical Analysis:\n",
    "\n",
    "#Direction of Relationship:\n",
    "\n",
    "#Positive Covariance: Indicates that as one variable increases, the other variable tends to increase as well.\n",
    "#Negative Covariance: Suggests that as one variable increases, the other variable tends to decrease.\n",
    "\n",
    "#Strength of Relationship:\n",
    "\n",
    "#The magnitude of covariance gives a sense of the strength of the linear relationship between the variables. Larger absolute values indicate a stronger relationship.\n",
    "\n",
    "#Independence:\n",
    "\n",
    "#If the covariance is close to zero, it suggests that the variables are not strongly related. However, it does not imply independence, as variables can be dependent in nonlinear ways.\n",
    "\n",
    "#Used in Linear Regression:\n",
    "\n",
    "#Covariance is a key component in the calculation of the coefficients in linear regression models."
   ]
  },
  {
   "cell_type": "code",
   "execution_count": 1,
   "id": "d4b7830c-8059-42de-baa8-73468dd72b7f",
   "metadata": {},
   "outputs": [
    {
     "name": "stdout",
     "output_type": "stream",
     "text": [
      "   Color    Size Material  Color_encoded  Size_encoded  Material_encoded\n",
      "0    red   small     wood              2             2                 2\n",
      "1  green  medium    metal              1             1                 0\n",
      "2   blue   large  plastic              0             0                 1\n"
     ]
    }
   ],
   "source": [
    "#@For a dataset with the following categorical variables: Color (red, green, blue), Size (small, medium,large), and Material (wood, metal, plastic), perform label encoding using Python's scikit-learn library. \n",
    "\n",
    "from sklearn.preprocessing import LabelEncoder\n",
    "import pandas as pd\n",
    "\n",
    "# Sample dataset\n",
    "data = {'Color': ['red', 'green', 'blue'],\n",
    "    'Size': ['small', 'medium', 'large' ],\n",
    "    'Material': ['wood', 'metal', 'plastic']}\n",
    "\n",
    "df = pd.DataFrame(data)\n",
    "\n",
    "# Initializing label encoders\n",
    "label_encoder_color = LabelEncoder()\n",
    "label_encoder_size = LabelEncoder()\n",
    "label_encoder_material = LabelEncoder()\n",
    "\n",
    "# Applying label encoding to each column\n",
    "df['Color_encoded'] = label_encoder_color.fit_transform(df['Color'])\n",
    "df['Size_encoded'] = label_encoder_size.fit_transform(df['Size'])\n",
    "df['Material_encoded'] = label_encoder_material.fit_transform(df['Material'])\n",
    "\n",
    "print(df)\n"
   ]
  },
  {
   "cell_type": "code",
   "execution_count": 2,
   "id": "d5135338-625c-4d5c-819a-966e561bb95f",
   "metadata": {},
   "outputs": [
    {
     "data": {
      "text/html": [
       "<div>\n",
       "<style scoped>\n",
       "    .dataframe tbody tr th:only-of-type {\n",
       "        vertical-align: middle;\n",
       "    }\n",
       "\n",
       "    .dataframe tbody tr th {\n",
       "        vertical-align: top;\n",
       "    }\n",
       "\n",
       "    .dataframe thead th {\n",
       "        text-align: right;\n",
       "    }\n",
       "</style>\n",
       "<table border=\"1\" class=\"dataframe\">\n",
       "  <thead>\n",
       "    <tr style=\"text-align: right;\">\n",
       "      <th></th>\n",
       "      <th>Age</th>\n",
       "      <th>Income</th>\n",
       "      <th>Education_Level</th>\n",
       "    </tr>\n",
       "  </thead>\n",
       "  <tbody>\n",
       "    <tr>\n",
       "      <th>Age</th>\n",
       "      <td>62.5</td>\n",
       "      <td>125000.0</td>\n",
       "      <td>25.0</td>\n",
       "    </tr>\n",
       "    <tr>\n",
       "      <th>Income</th>\n",
       "      <td>125000.0</td>\n",
       "      <td>250000000.0</td>\n",
       "      <td>50000.0</td>\n",
       "    </tr>\n",
       "    <tr>\n",
       "      <th>Education_Level</th>\n",
       "      <td>25.0</td>\n",
       "      <td>50000.0</td>\n",
       "      <td>10.0</td>\n",
       "    </tr>\n",
       "  </tbody>\n",
       "</table>\n",
       "</div>"
      ],
      "text/plain": [
       "                      Age       Income  Education_Level\n",
       "Age                  62.5     125000.0             25.0\n",
       "Income           125000.0  250000000.0          50000.0\n",
       "Education_Level      25.0      50000.0             10.0"
      ]
     },
     "execution_count": 2,
     "metadata": {},
     "output_type": "execute_result"
    }
   ],
   "source": [
    " #@ Calculate the covariance matrix for the following variables in a dataset: Age, Income, and Educationlevel. ?\n",
    "\n",
    "    \n",
    "import pandas as pd\n",
    "import numpy as np\n",
    "\n",
    "data = { 'Age': [25, 30, 35, 40, 45],\n",
    "    'Income': [50000, 60000, 70000, 80000, 90000],\n",
    "    'Education_Level': [12, 14, 16, 18, 20]}\n",
    "\n",
    "df=pd.DataFrame(data)\n",
    "\n",
    "df.cov()\n"
   ]
  },
  {
   "cell_type": "code",
   "execution_count": 4,
   "id": "c44e8107-24a8-416d-ba52-bec2281a5fb8",
   "metadata": {},
   "outputs": [
    {
     "name": "stdout",
     "output_type": "stream",
     "text": [
      "   Gender Education Level Employment Status  Gender_encoded  \\\n",
      "0    Male     High School        Unemployed               0   \n",
      "1  Female        Bachelor         Part-Time               1   \n",
      "2    Male          Master         Full-Time               0   \n",
      "3  Female             PhD         Part-Time               1   \n",
      "4    Male        Bachelor         Full-Time               0   \n",
      "\n",
      "   Education_Level_encoded  Employment_Status_Full-Time  \\\n",
      "0                      0.0                            0   \n",
      "1                      1.0                            0   \n",
      "2                      2.0                            1   \n",
      "3                      3.0                            0   \n",
      "4                      1.0                            1   \n",
      "\n",
      "   Employment_Status_Part-Time  Employment_Status_Unemployed  \n",
      "0                            0                             1  \n",
      "1                            1                             0  \n",
      "2                            0                             0  \n",
      "3                            1                             0  \n",
      "4                            0                             0  \n"
     ]
    }
   ],
   "source": [
    "#@working on a machine learning project with a dataset containing several categorical\n",
    "#variables, including \"Gender\" (Male/Female), \"Education Level\" (High School/Bachelor's/Master's/PhD),\n",
    "#and \"Employment Status\" (Unemployed/Part-Time/Full-Time).\n",
    "\n",
    "import pandas as pd\n",
    "from sklearn.preprocessing import OrdinalEncoder, OneHotEncoder\n",
    "\n",
    "data = {'Gender': ['Male', 'Female', 'Male', 'Female', 'Male'],\n",
    "    'Education Level': ['High School', 'Bachelor', 'Master', 'PhD', 'Bachelor'],\n",
    "    'Employment Status': ['Unemployed', 'Part-Time', 'Full-Time', 'Part-Time', 'Full-Time']}\n",
    "\n",
    "df = pd.DataFrame(data)\n",
    "\n",
    "# Binary encoding for Gender\n",
    "df['Gender_encoded'] = df['Gender'].map({'Male': 0, 'Female': 1})\n",
    "\n",
    "# Ordinal encoding for Education Level\n",
    "education_encoder = OrdinalEncoder(categories=[['High School', 'Bachelor', 'Master', 'PhD']])\n",
    "df['Education_Level_encoded'] = education_encoder.fit_transform(df[['Education Level']])\n",
    "\n",
    "# One-hot encoding for Employment Status\n",
    "employment_status_encoded = pd.get_dummies(df['Employment Status'], prefix='Employment_Status')\n",
    "df = pd.concat([df, employment_status_encoded], axis=1)\n",
    "\n",
    "print(df)\n"
   ]
  },
  {
   "cell_type": "code",
   "execution_count": null,
   "id": "1d6a95fc-e70a-422b-9791-53305bc7b9f3",
   "metadata": {},
   "outputs": [],
   "source": [
    "#@You are analyzing a dataset with two continuous variables, \"Temperature\" and \"Humidity\", and two\n",
    "#categorical variables, \"Weather Condition\" (Sunny/Cloudy/Rainy) and \"Wind Direction\" (North/South/\n",
    "#East/West). Calculate the covariance between each pair of variables and interpret the results.\n",
    "\n",
    "data = {\n",
    "    'Temperature': [25.0, 28.0, 22.0, 26.0, 30.0],\n",
    "    'Humidity': [60, 65, 70, 55, 75],\n",
    "    'Weather Condition': ['Sunny', 'Cloudy', 'Rainy', 'Sunny', 'Cloudy'],\n",
    "    'Wind Direction': ['North', 'South', 'East', 'West', 'North']\n",
    "}\n",
    "\n",
    "df2=pd.DataFrame(data)\n",
    "\n",
    "df2.co"
   ]
  }
 ],
 "metadata": {
  "kernelspec": {
   "display_name": "Python 3 (ipykernel)",
   "language": "python",
   "name": "python3"
  },
  "language_info": {
   "codemirror_mode": {
    "name": "ipython",
    "version": 3
   },
   "file_extension": ".py",
   "mimetype": "text/x-python",
   "name": "python",
   "nbconvert_exporter": "python",
   "pygments_lexer": "ipython3",
   "version": "3.10.8"
  }
 },
 "nbformat": 4,
 "nbformat_minor": 5
}
