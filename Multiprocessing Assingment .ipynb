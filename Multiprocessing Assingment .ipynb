{
 "cells": [
  {
   "cell_type": "code",
   "execution_count": 1,
   "id": "061154ab-1118-4730-ad59-bbc4f0c8fb7e",
   "metadata": {},
   "outputs": [],
   "source": [
    "#Multiprocessing in Python:\n",
    "\n",
    "#Enables concurrent execution of multiple processes.\n",
    "#Each process runs independently with its own memory space.\n",
    "#Bypasses the Global Interpreter Lock (GIL) for true parallelism.\n",
    "#Utilizes multiple CPU cores for improved performance.\n",
    "#Ideal for CPU-bound tasks and achieving better CPU utilization.\n",
    "#Requires explicit mechanisms for interprocess communication and data sharing.\n",
    "#Offers scalability and easier debugging but consumes more system resources."
   ]
  },
  {
   "cell_type": "code",
   "execution_count": 3,
   "id": "f5bc38d9-53e0-4af6-84d8-4b85f8292620",
   "metadata": {},
   "outputs": [],
   "source": [
    "#Multiprocessing:\n",
    "\n",
    "#Involves multiple processes, each with its own memory space.\n",
    "#Utilizes multiple CPU cores for true parallelism.\n",
    "#Isolation between processes ensures stability.\n",
    "#Requires explicit IPC mechanisms for communication.\n",
    "#Suitable for CPU-bound tasks and intensive computations.\n",
    "#Consumes more system resources.\n",
    "\n",
    "#Multithreading:\n",
    "\n",
    "#Involves multiple threads within the same process, sharing the same memory space.\n",
    "#Restricted by the Global Interpreter Lock (GIL) in Python for single-core execution.\n",
    "#Threads can impact each other's stability due to shared memory.\n",
    "#Shares data easily without explicit communication mechanisms.\n",
    "#Suitable for I/O-bound tasks and asynchronous operations.\n",
    "#Consumes fewer system resources compared to multiprocessing.\n"
   ]
  },
  {
   "cell_type": "code",
   "execution_count": 2,
   "id": "e184bfd6-8c66-4195-8f32-3e6bbbcb03ff",
   "metadata": {},
   "outputs": [
    {
     "name": "stdout",
     "output_type": "stream",
     "text": [
      "this is main progrm\n",
      "It is first Program \n"
     ]
    }
   ],
   "source": [
    "import multiprocessing\n",
    "def test():\n",
    "    print(\"It is first Program \")\n",
    "\n",
    "if __name__ == '__main__':\n",
    "    m = multiprocessing.Process(target=test)\n",
    "    print(\"this is main progrm\")\n",
    "    m.start()\n",
    "    m.join()"
   ]
  },
  {
   "cell_type": "code",
   "execution_count": 9,
   "id": "e8ceefeb-29a8-4a5d-aa61-58f8b5976fb8",
   "metadata": {},
   "outputs": [
    {
     "name": "stdout",
     "output_type": "stream",
     "text": [
      "[4, 9, 16, 25, 36, 49, 64]\n"
     ]
    }
   ],
   "source": [
    "def square(n):\n",
    "    return n**2 \n",
    "if __name__ == '__main__':\n",
    "    with multiprocessing.Pool(processes=2) as pool :\n",
    "        output = pool.map(square , [ 2,3,4,5,6,7,8])\n",
    "        print(output)"
   ]
  },
  {
   "cell_type": "code",
   "execution_count": 6,
   "id": "cb5c3ea5-48ef-44c6-96ea-d12e4beff653",
   "metadata": {},
   "outputs": [
    {
     "name": "stdout",
     "output_type": "stream",
     "text": [
      "[1, 4, 9, 16]\n"
     ]
    }
   ],
   "source": [
    "def worker(n):\n",
    "    return n*2 \n",
    "if __name__ == '__main__':\n",
    "    with multiprocessing.Pool(processes=2) as pool :\n",
    "        num_wor= pool.map(square , [ 1,2,3,4])\n",
    "        print(num_wor)"
   ]
  },
  {
   "cell_type": "code",
   "execution_count": 10,
   "id": "750dbc76-d224-4369-81e3-09f673b412dc",
   "metadata": {},
   "outputs": [
    {
     "name": "stdout",
     "output_type": "stream",
     "text": [
      "Process <Process name='Process-20' parent=1441 started>\n",
      "Process <Process name='Process-21' parent=1441 started>\n",
      "Process <Process name='Process-22' parent=1441 started>\n",
      "Process <Process name='Process-23' parent=1441 started>\n",
      "All processes have finished.\n"
     ]
    }
   ],
   "source": [
    "import multiprocessing\n",
    "\n",
    "def print_number(number):\n",
    "    print(\"Process\", multiprocessing.current_process())\n",
    "\n",
    "if __name__ == \"__main__\":\n",
    "    processes = []\n",
    "\n",
    "    for i in range(1, 5):\n",
    "        process = multiprocessing.Process(target=print_number, args=(i,))\n",
    "        processes.append(process)\n",
    "        process.start()\n",
    "        process.join()\n",
    "\n",
    "    print(\"All processes have finished.\")\n"
   ]
  },
  {
   "cell_type": "code",
   "execution_count": null,
   "id": "f9d421da-3249-4d28-a501-78e44d49fe38",
   "metadata": {},
   "outputs": [],
   "source": []
  }
 ],
 "metadata": {
  "kernelspec": {
   "display_name": "Python 3 (ipykernel)",
   "language": "python",
   "name": "python3"
  },
  "language_info": {
   "codemirror_mode": {
    "name": "ipython",
    "version": 3
   },
   "file_extension": ".py",
   "mimetype": "text/x-python",
   "name": "python",
   "nbconvert_exporter": "python",
   "pygments_lexer": "ipython3",
   "version": "3.10.8"
  }
 },
 "nbformat": 4,
 "nbformat_minor": 5
}
