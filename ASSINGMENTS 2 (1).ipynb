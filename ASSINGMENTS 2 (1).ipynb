{
 "cells": [
  {
   "cell_type": "code",
   "execution_count": 1,
   "id": "29c643c6-e3cf-49e1-893f-ff4e01f13046",
   "metadata": {},
   "outputs": [],
   "source": [
    "# is use as comment"
   ]
  },
  {
   "cell_type": "code",
   "execution_count": 2,
   "id": "d7d91cda-5450-4e98-a1e8-c76540b460ff",
   "metadata": {},
   "outputs": [],
   "source": [
    "a = 1"
   ]
  },
  {
   "cell_type": "code",
   "execution_count": 4,
   "id": "91d75f5f-cabb-4be5-87c2-5036ebad939a",
   "metadata": {},
   "outputs": [
    {
     "data": {
      "text/plain": [
       "1"
      ]
     },
     "execution_count": 4,
     "metadata": {},
     "output_type": "execute_result"
    }
   ],
   "source": [
    "a"
   ]
  },
  {
   "cell_type": "code",
   "execution_count": 5,
   "id": "e28fb004-2cf4-4bd4-9a1f-cfa96b6d6dac",
   "metadata": {},
   "outputs": [],
   "source": [
    "# a is variable"
   ]
  },
  {
   "cell_type": "code",
   "execution_count": 6,
   "id": "15b86e16-12ba-4ca7-94a8-dc55ce67a561",
   "metadata": {},
   "outputs": [],
   "source": [
    "a = ( 5,6,8 )"
   ]
  },
  {
   "cell_type": "code",
   "execution_count": 10,
   "id": "e4a4344b-6613-4a5b-acd7-a0eed575b232",
   "metadata": {},
   "outputs": [
    {
     "data": {
      "text/plain": [
       "tuple"
      ]
     },
     "execution_count": 10,
     "metadata": {},
     "output_type": "execute_result"
    }
   ],
   "source": [
    "type(a)"
   ]
  },
  {
   "cell_type": "code",
   "execution_count": 11,
   "id": "5437b1c3-022f-46d5-8ec0-d51847898756",
   "metadata": {},
   "outputs": [],
   "source": [
    "a = { 5,6,8 }"
   ]
  },
  {
   "cell_type": "code",
   "execution_count": 12,
   "id": "916e1db7-eaa9-4a47-9449-6a338df5c49a",
   "metadata": {},
   "outputs": [
    {
     "data": {
      "text/plain": [
       "set"
      ]
     },
     "execution_count": 12,
     "metadata": {},
     "output_type": "execute_result"
    }
   ],
   "source": [
    "type(a)"
   ]
  },
  {
   "cell_type": "code",
   "execution_count": 2,
   "id": "04235e01-e58f-4db2-9230-d9a8e5772c20",
   "metadata": {},
   "outputs": [],
   "source": [
    " # python script.py"
   ]
  },
  {
   "cell_type": "code",
   "execution_count": 3,
   "id": "5284945c-ae70-4f00-b5ff-e582fbbf3133",
   "metadata": {},
   "outputs": [
    {
     "name": "stdout",
     "output_type": "stream",
     "text": [
      "[2, 3]\n"
     ]
    }
   ],
   "source": [
    "my_list = [1, 2, 3, 4, 5]\n",
    "sub_list = my_list[1:3]\n",
    "print(sub_list)\n"
   ]
  },
  {
   "cell_type": "code",
   "execution_count": 7,
   "id": "a3e5e6e6-94f6-40b2-9db3-dfb533075da9",
   "metadata": {},
   "outputs": [
    {
     "data": {
      "text/plain": [
       "6.0"
      ]
     },
     "execution_count": 7,
     "metadata": {},
     "output_type": "execute_result"
    }
   ],
   "source": [
    "a= 6 + 2j  # complex number\n",
    "a.real"
   ]
  },
  {
   "cell_type": "code",
   "execution_count": 6,
   "id": "ebd35569-ba93-4114-99c2-81491d5b8182",
   "metadata": {},
   "outputs": [
    {
     "data": {
      "text/plain": [
       "2.0"
      ]
     },
     "execution_count": 6,
     "metadata": {},
     "output_type": "execute_result"
    }
   ],
   "source": [
    "a.imag"
   ]
  },
  {
   "cell_type": "code",
   "execution_count": 8,
   "id": "118d77c4-8ce2-41a1-ab42-fc8574cd1978",
   "metadata": {},
   "outputs": [],
   "source": [
    "age = 25"
   ]
  },
  {
   "cell_type": "code",
   "execution_count": 10,
   "id": "c354ed7c-3667-4070-a209-40b919b5a15d",
   "metadata": {},
   "outputs": [
    {
     "data": {
      "text/plain": [
       "25"
      ]
     },
     "execution_count": 10,
     "metadata": {},
     "output_type": "execute_result"
    }
   ],
   "source": [
    "age"
   ]
  },
  {
   "cell_type": "code",
   "execution_count": 11,
   "id": "dac5d507-bf80-4861-a334-a5c26646fc0e",
   "metadata": {},
   "outputs": [],
   "source": [
    "price = 9.99"
   ]
  },
  {
   "cell_type": "code",
   "execution_count": 12,
   "id": "8b0f7ffe-0feb-437a-aaeb-51f0d328df42",
   "metadata": {},
   "outputs": [
    {
     "data": {
      "text/plain": [
       "float"
      ]
     },
     "execution_count": 12,
     "metadata": {},
     "output_type": "execute_result"
    }
   ],
   "source": [
    "type(price)"
   ]
  },
  {
   "cell_type": "code",
   "execution_count": 13,
   "id": "ecde5710-f440-424f-bbf6-21bd30c2e325",
   "metadata": {},
   "outputs": [],
   "source": [
    "name = \" krushna genu kale \""
   ]
  },
  {
   "cell_type": "code",
   "execution_count": 14,
   "id": "1ba43808-96ac-4715-bdcc-a7f062086fdc",
   "metadata": {},
   "outputs": [
    {
     "name": "stdout",
     "output_type": "stream",
     "text": [
      " krushna genu kale \n"
     ]
    }
   ],
   "source": [
    "print(name)"
   ]
  },
  {
   "cell_type": "code",
   "execution_count": 18,
   "id": "85afc9a0-19c3-4df6-8def-28931f04a652",
   "metadata": {},
   "outputs": [
    {
     "name": "stdout",
     "output_type": "stream",
     "text": [
      "World\n"
     ]
    }
   ],
   "source": [
    "string = \"Hello, World!\"\n",
    "substring = string[7:12]\n",
    "print(substring)\n"
   ]
  },
  {
   "cell_type": "code",
   "execution_count": 19,
   "id": "f264b15b-2c26-4967-8e95-721b7e18d8ca",
   "metadata": {},
   "outputs": [],
   "source": [
    "is_student = True"
   ]
  },
  {
   "cell_type": "code",
   "execution_count": null,
   "id": "23aaaba1-6a22-4a57-a10a-5d7b23af4238",
   "metadata": {},
   "outputs": [],
   "source": [
    "is_student = False "
   ]
  }
 ],
 "metadata": {
  "kernelspec": {
   "display_name": "Python 3 (ipykernel)",
   "language": "python",
   "name": "python3"
  },
  "language_info": {
   "codemirror_mode": {
    "name": "ipython",
    "version": 3
   },
   "file_extension": ".py",
   "mimetype": "text/x-python",
   "name": "python",
   "nbconvert_exporter": "python",
   "pygments_lexer": "ipython3",
   "version": "3.10.8"
  }
 },
 "nbformat": 4,
 "nbformat_minor": 5
}
