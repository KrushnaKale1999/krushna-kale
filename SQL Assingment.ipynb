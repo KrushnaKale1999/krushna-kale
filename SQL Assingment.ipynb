{
 "cells": [
  {
   "cell_type": "code",
   "execution_count": 2,
   "id": "4e66feff-0132-4e69-b149-c82878254be4",
   "metadata": {},
   "outputs": [],
   "source": [
    "##What is a database? Differentiate between SQL and NoSQL databases.\n",
    "\n",
    "####SQL Databases (Relational):\n",
    "\n",
    "#Structured Query Language (SQL) is used.\n",
    "#Have a fixed schema.\n",
    "#Enforce data integrity with constraints.\n",
    "#Support ACID transactions.\n",
    "#Examples: MySQL, PostgreSQL, SQL Server.\n",
    "\n",
    "#### NoSQL Databases (Non-Relational):\n",
    "\n",
    "#Use various query languages or APIs.\n",
    "#Have a flexible schema.\n",
    "#Designed for horizontal scalability.\n",
    "#Types include document-oriented, key-value, column-family, and graph databases.\n",
    "#Examples: MongoDB, Redis, Neo4j."
   ]
  },
  {
   "cell_type": "code",
   "execution_count": 3,
   "id": "fcdb9e5a-4ede-46a5-b437-6450d669bc7c",
   "metadata": {},
   "outputs": [],
   "source": [
    "## What is DDL? Explain why CREATE, DROP, ALTER, and TRUNCATE are used with an example.\n",
    "\n",
    "\n",
    "#DDL stands for Data Definition Language. It is a subset of SQL (Structured Query Language) used for defining, modifying, and dropping database objects such as tables, indexes, and constraints. \n",
    "#DDL statements are used to manage the structure or schema of the database.\n",
    "\n",
    "\n",
    "#CREATE: Used to create new database objects like tables, indexes, or views.\n",
    "#DROP: Deletes existing database objects like tables or indexes.\n",
    "#ALTER: Modifies the structure of existing database objects.\n",
    "#TRUNCATE: Removes all rows from a table while keeping the table structure intact.\n"
   ]
  },
  {
   "cell_type": "code",
   "execution_count": 6,
   "id": "abeb397e-ae00-439f-b031-2985f13185e9",
   "metadata": {},
   "outputs": [],
   "source": [
    "## What is DML? Explain INSERT, UPDATE, and DELETE with an example.\n",
    "\n",
    "# INSERT INTO employees (id, name, department) VALUES (1, 'John Doe', 'IT');\n",
    "\n",
    "#UPDATE employees SET department = 'HR' WHERE id = 1;\n",
    "\n",
    "#DELETE FROM employees WHERE id = 1;\n"
   ]
  },
  {
   "cell_type": "code",
   "execution_count": 7,
   "id": "dff22b6c-91e5-4feb-baba-958b36760885",
   "metadata": {},
   "outputs": [],
   "source": [
    "## What is DQL? Explain SELECT with an example.\n",
    "#DQL stands for Data Query Language. It is a subset of SQL (Structured Query Language) used for querying and retrieving data from a database. #DQL statements primarily consist of the SELECT statement,\n",
    "#which is used to retrieve data from one or more tables in a database.\n",
    "\n",
    "#SELECT * FROM employees WHERE department = 'IT';\n",
    "#SELET * FROM employees ;"
   ]
  },
  {
   "cell_type": "code",
   "execution_count": 8,
   "id": "ec00004d-417b-47c6-ae66-26f7f4d3beb4",
   "metadata": {},
   "outputs": [],
   "source": [
    "#### Explain Primary Key and Foreign Key.\n",
    "\n",
    "#Primary Key: A primary key is a column or a set of columns in a table that uniquely identifies each record in the table.\n",
    "#It must contain unique values and cannot contain NULL values. It enforces entity integrity and ensures data integrity within the table.\n",
    "\n",
    "#Foreign Key: A foreign key is a column or a set of columns in a table that establishes a relationship with a primary key or a unique key in another table. It ensures referential integrity by enforcing a link between the data in two related tables. \n",
    "#The values in the foreign key column must match the values in the referenced primary key column.\n"
   ]
  },
  {
   "cell_type": "code",
   "execution_count": null,
   "id": "122f672f-64b9-4963-9ffb-27bc4c27501c",
   "metadata": {},
   "outputs": [],
   "source": []
  }
 ],
 "metadata": {
  "kernelspec": {
   "display_name": "Python 3 (ipykernel)",
   "language": "python",
   "name": "python3"
  },
  "language_info": {
   "codemirror_mode": {
    "name": "ipython",
    "version": 3
   },
   "file_extension": ".py",
   "mimetype": "text/x-python",
   "name": "python",
   "nbconvert_exporter": "python",
   "pygments_lexer": "ipython3",
   "version": "3.10.8"
  }
 },
 "nbformat": 4,
 "nbformat_minor": 5
}
