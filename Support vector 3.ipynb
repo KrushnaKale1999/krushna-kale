{
 "cells": [
  {
   "cell_type": "code",
   "execution_count": null,
   "id": "b632fedd-dcbc-4a38-a32e-ce3446fdc170",
   "metadata": {},
   "outputs": [],
   "source": [
    "### Q1. Choosing Between MSE and R-squared for House Price Prediction\n",
    "\n",
    "#**MSE (Mean Squared Error):**\n",
    "#- Measures the average squared difference between predicted and actual values.\n",
    "#- Directly reflects the prediction accuracy in terms of the actual price.\n",
    "\n",
    "#**R-squared:**\n",
    "#- Measures the proportion of variance in the dependent variable that is predictable from the independent variables.\n",
    "#- Provides an understanding of how well the model explains the variability of the target variable.\n",
    "\n",
    "#**Most Appropriate Metric:**\n",
    "#If your goal is to predict the actual price of a house as accurately as possible, **MSE** would be more appropriate because it gives a direct measure of prediction accuracy in terms of the units of the target variable (price).\n",
    "\n",
    "### Q3. Appropriate Metric for a Dataset with Significant Outliers\n",
    "\n",
    "#**Metrics:**\n",
    "#- **MSE** and **RMSE** are sensitive to outliers because they square the errors, which can disproportionately increase the metric value due to large errors.\n",
    "#- **MAE (Mean Absolute Error)** is less sensitive to outliers as it takes the absolute value of errors, without squaring them.\n",
    "\n",
    "#**Most Appropriate Metric:**\n",
    "#For a dataset with a significant number of outliers, **MAE** would be the most appropriate metric because it is less sensitive to outliers compared to MSE or RMSE.\n",
    "\n",
    "### Q4. Choosing Between MSE and RMSE When Values Are Very Close\n",
    "\n",
    "#**MSE (Mean Squared Error):**\n",
    "#- Represents the average of the squared errors.\n",
    "#- Has the same units as the square of the target variable.\n",
    "\n",
    "#**RMSE (Root Mean Squared Error):**\n",
    "#- Represents the square root of the average squared errors.\n",
    "#- Has the same units as the target variable, making it easier to interpret.\n",
    "\n",
    "#**Metric Choice:**\n",
    "#When MSE and RMSE values are very close, **RMSE** is generally preferred because it is easier to interpret since it is in the same units as the target variable.\n",
    "\n",
    "### Q5. Evaluating How Well the Model Explains Variance\n",
    "\n",
    "#**Metrics:**\n",
    "#- **R-squared (Coefficient of Determination):** Measures how well the model explains the variance in the target variable. Values range from 0 to 1, with higher values indicating better model performance.\n",
    "\n",
    "#**Most Appropriate Metric:**\n",
    "#If your goal is to measure how well the model explains the variance in the target variable, **R-squared** is the most appropriate metric. It provides a direct measure of the explanatory power of the model.\n",
    "\n"
   ]
  }
 ],
 "metadata": {
  "kernelspec": {
   "display_name": "Python 3 (ipykernel)",
   "language": "python",
   "name": "python3"
  },
  "language_info": {
   "codemirror_mode": {
    "name": "ipython",
    "version": 3
   },
   "file_extension": ".py",
   "mimetype": "text/x-python",
   "name": "python",
   "nbconvert_exporter": "python",
   "pygments_lexer": "ipython3",
   "version": "3.10.8"
  }
 },
 "nbformat": 4,
 "nbformat_minor": 5
}
