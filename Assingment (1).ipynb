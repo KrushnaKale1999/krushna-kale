{
 "cells": [
  {
   "cell_type": "code",
   "execution_count": 12,
   "id": "baa9c892-f302-456f-a3ce-bc42d4a9d352",
   "metadata": {},
   "outputs": [],
   "source": [
    "a = \"krushna\""
   ]
  },
  {
   "cell_type": "code",
   "execution_count": 13,
   "id": "e237d181-ff5d-4661-a02e-66d5d32cada5",
   "metadata": {},
   "outputs": [
    {
     "data": {
      "text/plain": [
       "str"
      ]
     },
     "execution_count": 13,
     "metadata": {},
     "output_type": "execute_result"
    }
   ],
   "source": [
    "type(a)"
   ]
  },
  {
   "cell_type": "code",
   "execution_count": 14,
   "id": "7f8bc974-407b-4ba5-9097-4b20a9e1a8b3",
   "metadata": {},
   "outputs": [],
   "source": [
    "b = [ 2,3,55,663.2,5+6j,True ]"
   ]
  },
  {
   "cell_type": "code",
   "execution_count": 15,
   "id": "529715ed-a298-4b86-9007-fbf3b9ea93a1",
   "metadata": {},
   "outputs": [
    {
     "data": {
      "text/plain": [
       "list"
      ]
     },
     "execution_count": 15,
     "metadata": {},
     "output_type": "execute_result"
    }
   ],
   "source": [
    "type(b)"
   ]
  },
  {
   "cell_type": "code",
   "execution_count": 16,
   "id": "0831ee13-ad88-40a0-ade3-92ff72f014cc",
   "metadata": {},
   "outputs": [],
   "source": [
    "c=8872.25"
   ]
  },
  {
   "cell_type": "code",
   "execution_count": 17,
   "id": "c12157b8-7e58-4d9e-949b-672fbe60f2cd",
   "metadata": {},
   "outputs": [
    {
     "data": {
      "text/plain": [
       "float"
      ]
     },
     "execution_count": 17,
     "metadata": {},
     "output_type": "execute_result"
    }
   ],
   "source": [
    "type (c)"
   ]
  },
  {
   "cell_type": "code",
   "execution_count": 18,
   "id": "99202879-d423-4ea3-b86a-6096267b65af",
   "metadata": {},
   "outputs": [],
   "source": [
    "d = ( 2.2,556,\"kk\")"
   ]
  },
  {
   "cell_type": "code",
   "execution_count": 19,
   "id": "59c71cbe-f0ff-453a-8bbd-e084fc02c865",
   "metadata": {},
   "outputs": [
    {
     "data": {
      "text/plain": [
       "tuple"
      ]
     },
     "execution_count": 19,
     "metadata": {},
     "output_type": "execute_result"
    }
   ],
   "source": [
    "type (d)"
   ]
  },
  {
   "cell_type": "code",
   "execution_count": 40,
   "id": "31797da5-c0e5-4429-8b17-bf2e8b8b92f9",
   "metadata": {},
   "outputs": [],
   "source": [
    "var1 ='kk'"
   ]
  },
  {
   "cell_type": "code",
   "execution_count": 42,
   "id": "3534403b-55e2-4011-ba73-9b725bf31596",
   "metadata": {},
   "outputs": [
    {
     "data": {
      "text/plain": [
       "str"
      ]
     },
     "execution_count": 42,
     "metadata": {},
     "output_type": "execute_result"
    }
   ],
   "source": [
    "type(var1)"
   ]
  },
  {
   "cell_type": "code",
   "execution_count": 26,
   "id": "dd25b9f3-53e3-4e66-b914-6b4fe210ab21",
   "metadata": {},
   "outputs": [],
   "source": [
    "var2 = [ 'DS' , 'ML' , 'Python']"
   ]
  },
  {
   "cell_type": "code",
   "execution_count": 29,
   "id": "1f2d088d-96a1-4f94-a3d4-39164f2a2016",
   "metadata": {},
   "outputs": [
    {
     "data": {
      "text/plain": [
       "list"
      ]
     },
     "execution_count": 29,
     "metadata": {},
     "output_type": "execute_result"
    }
   ],
   "source": [
    "type (var2)"
   ]
  },
  {
   "cell_type": "code",
   "execution_count": 31,
   "id": "7a77ea3c-e8d0-4ec7-9f78-60dd8f0e40a4",
   "metadata": {},
   "outputs": [],
   "source": [
    "var3 = [ 'DS','ML','PYTHON' ]"
   ]
  },
  {
   "cell_type": "code",
   "execution_count": 32,
   "id": "07283419-00c1-432c-a63a-884b03c72677",
   "metadata": {},
   "outputs": [
    {
     "data": {
      "text/plain": [
       "list"
      ]
     },
     "execution_count": 32,
     "metadata": {},
     "output_type": "execute_result"
    }
   ],
   "source": [
    "type(var3)"
   ]
  },
  {
   "cell_type": "code",
   "execution_count": 37,
   "id": "15153d0c-7333-4a4e-89a1-10e50380c59d",
   "metadata": {},
   "outputs": [],
   "source": [
    "var4 = 1."
   ]
  },
  {
   "cell_type": "code",
   "execution_count": 38,
   "id": "94077d68-c2a8-4e30-892b-2dfad188a3f1",
   "metadata": {},
   "outputs": [
    {
     "data": {
      "text/plain": [
       "float"
      ]
     },
     "execution_count": 38,
     "metadata": {},
     "output_type": "execute_result"
    }
   ],
   "source": [
    "type(var4)"
   ]
  },
  {
   "cell_type": "code",
   "execution_count": 10,
   "id": "23404071-3a36-46a8-8e23-5c0044878c3b",
   "metadata": {},
   "outputs": [
    {
     "name": "stdout",
     "output_type": "stream",
     "text": [
      "<class 'int'>\n",
      "<class 'float'>\n",
      "<class 'str'>\n",
      "<class 'bool'>\n",
      "<class 'complex'>\n",
      "<class 'float'>\n",
      "<class 'int'>\n",
      "<class 'str'>\n",
      "<class 'str'>\n",
      "<class 'complex'>\n"
     ]
    }
   ],
   "source": [
    "mylist = [ 5,68.9,\"k\",True,7+9j , 66.8,66,'hal', \" False \",9-5j ]\n",
    "for mylist in mylist :\n",
    "    print (type(mylist))"
   ]
  },
  {
   "cell_type": "code",
   "execution_count": 13,
   "id": "8ffb3480-3669-4047-8147-32187879e7e4",
   "metadata": {},
   "outputs": [
    {
     "name": "stdin",
     "output_type": "stream",
     "text": [
      "Enter the value of A  8\n",
      "Enter the value of B  2\n"
     ]
    },
    {
     "name": "stdout",
     "output_type": "stream",
     "text": [
      "A is divisible by B, and it can be divided 3 times.\n"
     ]
    }
   ],
   "source": [
    "A = int(input(\"Enter the value of A \"))\n",
    "B = int(input(\"Enter the value of B \"))\n",
    "times = 0\n",
    "while A >= B and A % B == 0:\n",
    "    A = A / B\n",
    "    times += 1\n",
    "if times > 0:\n",
    "    print(f\"A is divisible by B, and it can be divided {times} times.\")\n",
    "else:\n",
    "    print(\"A is not divisible by B.\")"
   ]
  },
  {
   "cell_type": "code",
   "execution_count": 30,
   "id": "1f0b00e9-6dac-43f5-b280-36eb9d1cf603",
   "metadata": {},
   "outputs": [
    {
     "name": "stdout",
     "output_type": "stream",
     "text": [
      "(a) is divisible by 3\n",
      "(a) is not divisible by 3\n",
      "(a) is divisible by 3\n",
      "(a) is divisible by 3\n",
      "(a) is not divisible by 3\n",
      "(a) is divisible by 3\n",
      "(a) is divisible by 3\n",
      "(a) is not divisible by 3\n",
      "(a) is divisible by 3\n",
      "(a) is not divisible by 3\n",
      "(a) is divisible by 3\n",
      "(a) is not divisible by 3\n",
      "(a) is divisible by 3\n",
      "(a) is not divisible by 3\n",
      "(a) is divisible by 3\n",
      "(a) is not divisible by 3\n",
      "(a) is not divisible by 3\n",
      "(a) is not divisible by 3\n",
      "(a) is divisible by 3\n",
      "(a) is not divisible by 3\n",
      "(a) is divisible by 3\n",
      "(a) is not divisible by 3\n",
      "(a) is not divisible by 3\n",
      "(a) is not divisible by 3\n",
      "(a) is not divisible by 3\n"
     ]
    }
   ],
   "source": [
    "a = [12, 5, 18, 9, 7, 30, 21, 16, 33, 22, 6, 11, 27, 14, 3, 25, 8, 19, 36, 4, 15, 20, 10, 13, 31]\n",
    "\n",
    "for a in a :\n",
    "    if a % 3 == 0:\n",
    "        print(\"(a) is divisible by 3\")\n",
    "    else:\n",
    "        print(\"(a) is not divisible by 3\")"
   ]
  },
  {
   "cell_type": "code",
   "execution_count": 31,
   "id": "cad8bd15-cee2-4213-aaf9-8c50ac48cf5c",
   "metadata": {},
   "outputs": [],
   "source": [
    "a = [ 56.6,8,'kk' ]\n",
    "a[2]= ' True '"
   ]
  },
  {
   "cell_type": "code",
   "execution_count": 32,
   "id": "e74efa99-295b-4f05-bd63-15d68c7de9ef",
   "metadata": {},
   "outputs": [
    {
     "data": {
      "text/plain": [
       "[56.6, 8, ' True ']"
      ]
     },
     "execution_count": 32,
     "metadata": {},
     "output_type": "execute_result"
    }
   ],
   "source": [
    "a"
   ]
  },
  {
   "cell_type": "code",
   "execution_count": null,
   "id": "3f6ac705-43db-4ed4-b9a9-f7bf5237cbe2",
   "metadata": {},
   "outputs": [],
   "source": []
  }
 ],
 "metadata": {
  "kernelspec": {
   "display_name": "Python 3 (ipykernel)",
   "language": "python",
   "name": "python3"
  },
  "language_info": {
   "codemirror_mode": {
    "name": "ipython",
    "version": 3
   },
   "file_extension": ".py",
   "mimetype": "text/x-python",
   "name": "python",
   "nbconvert_exporter": "python",
   "pygments_lexer": "ipython3",
   "version": "3.10.8"
  }
 },
 "nbformat": 4,
 "nbformat_minor": 5
}
