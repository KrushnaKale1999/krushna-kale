{
 "cells": [
  {
   "cell_type": "code",
   "execution_count": 1,
   "id": "3117225c-7622-450a-b042-93259f7549b8",
   "metadata": {},
   "outputs": [],
   "source": [
    "#@ Explain the following term -\n",
    "\n",
    "# 1) Artificial Intelligence - A.I is a smart application that can perform it task without any human intervation. Example - Self Driving Car , Alexa\n",
    "\n",
    "# 2) Machine Learning - It provide stat tools to analyze , vizualize , predictive model  & forecasting . Example - Amazon , Netflix like Recomndation system\n",
    "\n",
    "# 3) Deep Learning - It is subset of machine learning that aim  mimic the Human Brain (learning to machine) . Example - Image Recognization , Chat Bot .\n"
   ]
  },
  {
   "cell_type": "code",
   "execution_count": 3,
   "id": "f8702138-a4e4-4b67-9847-fb1c9654bc68",
   "metadata": {},
   "outputs": [],
   "source": [
    "#@ What is supervised learning ?\n",
    "## Supervised learning is a type of machine learning where an algorithm is trained on a labeled dataset, which means the input data is paired with corresponding output labels.\n",
    " # Classification learning -  It is assinged input to generate Catagorical output ( T or F ) Example -  Result of Student in a class with input study time & Plyed time . \n",
    " # Regreasion learning - In this Output are continious value . Example - Price of House With respective size of house ."
   ]
  },
  {
   "cell_type": "code",
   "execution_count": 4,
   "id": "71f13ab4-2075-4880-9c70-a893302414c0",
   "metadata": {},
   "outputs": [],
   "source": [
    "#@ What is the Unsupervised learning ?\n",
    "## Unsupervised learning is a type of machine learning where the algorithm is given unlabeled data and must find patterns, relationships, or structures within the data without explicit guidance on what to look for.\n",
    "# Examples - Customer Segementation ."
   ]
  },
  {
   "cell_type": "code",
   "execution_count": 5,
   "id": "17e50e1b-f0b1-4957-aeea-19a45e503955",
   "metadata": {},
   "outputs": [],
   "source": [
    "#@ Differanance Between AI , ML , DL , DS -\n",
    "#AI is the overarching field that aims to create intelligent machines.\n",
    "#ML is a subset of AI, focusing on algorithms and models that allow machines to learn from data.\n",
    "#DL is a specialized form of ML that involves deep neural networks, capable of learning intricate representations.\n",
    "#DS is a broader field that involves extracting insights and knowledge from data, utilizing techniques from statistics and machine learning."
   ]
  },
  {
   "cell_type": "code",
   "execution_count": 6,
   "id": "35d2496b-5b1d-49b9-bf91-4c0ba22fc5d9",
   "metadata": {},
   "outputs": [],
   "source": [
    "## Diff. Between =\n",
    "#Supervised learning involves labeled data, where the algorithm learns from examples with known outputs.\n",
    "#Unsupervised learning deals with unlabeled data and aims to discover patterns or structures or clusters within the data.\n",
    "#Semi-supervised learning uses a combination of labeled and unlabeled data for training means combination of Supervised And Unsupervised."
   ]
  },
  {
   "cell_type": "code",
   "execution_count": 8,
   "id": "026832f5-f2c4-4aac-bf90-006cc6810272",
   "metadata": {},
   "outputs": [],
   "source": [
    "#@ What is the Training , Valiation & Test Dataset -\n",
    "# Training data is used to train the model.\n",
    "# Validation data is used during training to fine-tune the model and prevent overfitting.\n",
    "# Test data is reserved for evaluating the model's performance on unseen examples."
   ]
  },
  {
   "cell_type": "code",
   "execution_count": null,
   "id": "971f9cf6-bba4-4bd3-9dcf-9e4006bd7949",
   "metadata": {},
   "outputs": [],
   "source": [
    "List o\n",
    "#Supervised Learning Algorithms:\n",
    "\n",
    "#Linear Regression\n",
    "#Logistic Regression\n",
    "#Decision Trees\n",
    "#Random Forest\n",
    "#Support Vector Machines (SVM)\n",
    "#K-Nearest Neighbors (KNN)\n",
    "#Naive Bayes\n",
    "#Neural Networks\n",
    "\n",
    "##Unsupervised Learning Algorithms:\n",
    "\n",
    "#K-Means Clustering\n",
    "#Hierarchical Clustering\n",
    "#Principal Component Analysis (PCA)\n",
    "#Independent Component Analysis (ICA)\n",
    "#Association Rule Learning (Apriori Algorithm)\n",
    "#t-Distributed Stochastic Neighbor Embedding (t-SNE)\n",
    "#DBSCAN (Density-Based Spatial Clustering of Applications with Noise)\n",
    "#Autoencoders\n",
    "\n",
    "\n",
    "\n",
    "\n",
    "\n"
   ]
  }
 ],
 "metadata": {
  "kernelspec": {
   "display_name": "Python 3 (ipykernel)",
   "language": "python",
   "name": "python3"
  },
  "language_info": {
   "codemirror_mode": {
    "name": "ipython",
    "version": 3
   },
   "file_extension": ".py",
   "mimetype": "text/x-python",
   "name": "python",
   "nbconvert_exporter": "python",
   "pygments_lexer": "ipython3",
   "version": "3.10.8"
  }
 },
 "nbformat": 4,
 "nbformat_minor": 5
}
