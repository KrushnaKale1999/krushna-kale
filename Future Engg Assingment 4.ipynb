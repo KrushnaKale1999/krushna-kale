{
 "cells": [
  {
   "cell_type": "code",
   "execution_count": 1,
   "id": "7700e6bd-cbcd-4374-bd46-8c7cf8555e0f",
   "metadata": {},
   "outputs": [],
   "source": [
    "#@ What is data encoding?\n",
    "\n",
    "#@Data Encoding aim is to convert catagorical data into the numerical data.\n",
    "#Data encoding is the process of converting data into a different format. In data science, it is crucial for tasks like preparing data for machine learning models.\n",
    "#Different encoding methods, such as numeric encoding, one-hot encoding, and binary encoding, help represent and process diverse types of data, ensuring compatibility with algorithms and improving overall model performance."
   ]
  },
  {
   "cell_type": "code",
   "execution_count": 3,
   "id": "8e8379d2-2910-4850-a142-9a14ea0540c2",
   "metadata": {},
   "outputs": [],
   "source": [
    "#@What is nominal encoding?\n",
    "#That have insentric order in the binary numerical value.\n",
    "#Nominal encoding is a type of categorical data encoding that assigns unique integers to different categories or labels without imposing any ordinal relationship between them. \n",
    "#In nominal encoding, the numerical representation is arbitrary and is only used to distinguish between different categories."
   ]
  },
  {
   "cell_type": "code",
   "execution_count": 5,
   "id": "1b95917d-bf8d-40ed-b1c1-9cc42a639484",
   "metadata": {},
   "outputs": [],
   "source": [
    "#@ In what situations is nominal encoding preferred over one-hot encoding?\n",
    "\n",
    "##Reducing Dimensionality: Nominal encoding helps in reducing the dimensionality of the dataset when dealing with categorical variables, compared to one-hot encoding.\n",
    "          ##If the number of unique categories is large, using one-hot encoding would lead to a high-dimensional dataset, which may pose challenges in terms of computational efficiency and model interpretability.\n",
    "    \n",
    "##Preventing Multicollinearity: One-hot encoding introduces multicollinearity, where the presence of one variable can be predicted with the help of the others. \n",
    "          ##In cases where multicollinearity is a concern, nominal encoding provides a compact representation without duplicating information.\n",
    "    \n",
    "##Interpretability: Nominal encoding results in a single numeric column, making it easier to interpret and analyze. \n",
    "          ##This is particularly useful when the order of categories is not meaningful, and you want a straightforward representation in statistical analyses or machine learning models.\n",
    "    "
   ]
  },
  {
   "cell_type": "code",
   "execution_count": 6,
   "id": "1735a022-481d-495e-92f9-9cded8052fe8",
   "metadata": {},
   "outputs": [],
   "source": [
    "##@ Suppose you have a dataset containing categorical data with 5 unique values. Which encoding technique would you use to transform this data into a format suitable for machine learning algorithms?\n",
    "#The choice of encoding technique depends on the nature of the categorical data and the requirements of the machine learning algorithm. \n",
    "#Here are two common encoding techniques and when you might choose each one:\n",
    "\n",
    "#1)Nominal\n",
    "#2)Ordinal\n",
    "\n",
    "#If the categorical data has 5 unique values and there is no inherent order or hierarchy among them, I would lean towards using Nominal Encoding. \n",
    "##This is because nominal encoding assigns unique numerical values to each category without implying any order, providing a compact and interpretable representation."
   ]
  },
  {
   "cell_type": "code",
   "execution_count": 7,
   "id": "bbbffd2f-3b12-482d-88ac-881e460c3442",
   "metadata": {},
   "outputs": [],
   "source": [
    "#@ In a machine learning project, you have a dataset with 1000 rows and 5 columns. Two of the columns\n",
    "#are categorical, and the remaining three columns are numerical. If you were to use nominal encoding to transform the categorical data, how many new columns would be created?\n",
    "\n",
    "##Ans-If we use nominal encoding on two categorical columns with 4 and 3 unique categories,\n",
    "      ###respectively, you would create a total of 7 new columns in your dataset."
   ]
  },
  {
   "cell_type": "code",
   "execution_count": 8,
   "id": "78a11665-1aef-40e8-b026-fedaa7431c68",
   "metadata": {},
   "outputs": [],
   "source": [
    "##@You are working with a dataset containing information about different types of animals, including their species, habitat, and diet. \n",
    "   ##Which encoding technique would you use to transform the categorical data into a format suitable for machine learning algorithms?\n",
    "#Ans-    \n",
    "#For the categorical features describing animal species, habitat, and diet, one-hot encoding is recommended. \n",
    "#This technique ensures compatibility with machine learning algorithms by representing each category with binary columns, suitable for non-ordinal categorical variables."
   ]
  },
  {
   "cell_type": "code",
   "execution_count": null,
   "id": "d056836d-b667-4c9c-9e74-ef6b5729c132",
   "metadata": {},
   "outputs": [],
   "source": []
  }
 ],
 "metadata": {
  "kernelspec": {
   "display_name": "Python 3 (ipykernel)",
   "language": "python",
   "name": "python3"
  },
  "language_info": {
   "codemirror_mode": {
    "name": "ipython",
    "version": 3
   },
   "file_extension": ".py",
   "mimetype": "text/x-python",
   "name": "python",
   "nbconvert_exporter": "python",
   "pygments_lexer": "ipython3",
   "version": "3.10.8"
  }
 },
 "nbformat": 4,
 "nbformat_minor": 5
}
