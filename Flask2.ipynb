{
 "cells": [
  {
   "cell_type": "code",
   "execution_count": 6,
   "id": "d89d8993-faa4-4e85-b89c-51618c569c1b",
   "metadata": {},
   "outputs": [],
   "source": [
    "#@ Explain GET and POST methods.-\n",
    "\n",
    "#- **GET Method**: Used to request data from a server. Data is sent in the URL. Typically used for data retrieval, bookmarkable, and less secure for sensitive information.\n",
    "#- **POST Method**: Used to submit data to a server. Data is sent in the body of the request. Typically used for data submission, not bookmarkable, and more secure for sensitive information."
   ]
  },
  {
   "cell_type": "code",
   "execution_count": 7,
   "id": "3f3f3ff5-9079-4d0c-a30a-9b72ed8f147d",
   "metadata": {},
   "outputs": [],
   "source": [
    "#@ Why is request used in Flask?\n",
    "\n",
    "#The request object in Flask is used to access and handle incoming data from client requests. \n",
    "#It provides convenient methods and attributes to work with form data, query parameters, cookies, headers, file uploads, and request methods. It's essential for building dynamic web applications that respond to user input.\n",
    "\n"
   ]
  },
  {
   "cell_type": "code",
   "execution_count": 8,
   "id": "4d648906-5c2f-4b1f-b975-9b2e42a7f175",
   "metadata": {},
   "outputs": [],
   "source": [
    "#@ Why is redirect() used in Flask? \n",
    "\n",
    "# redirect() in Flask is used to send users to a different URL. \n",
    "# It's commonly used after form submissions, for URL clean-up, handling authentication, error handling, and redirecting to external URLs."
   ]
  },
  {
   "cell_type": "code",
   "execution_count": 9,
   "id": "2009af92-c259-4668-804f-4e15b7f66d02",
   "metadata": {},
   "outputs": [],
   "source": [
    "#@ What are templates in Flask? Why is the render_template() function used?\n",
    "\n",
    "#The `render_template()` function is used to inject dynamic data into these templates before sending them as responses to client requests. \n",
    "#It facilitates the separation of concerns, promotes code reusability, ensures consistency in layout, and simplifies development by combining static templates with dynamic data."
   ]
  },
  {
   "cell_type": "code",
   "execution_count": 10,
   "id": "3b4e98c6-334b-4c59-b445-caf5e0b6609d",
   "metadata": {},
   "outputs": [
    {
     "name": "stdout",
     "output_type": "stream",
     "text": [
      " * Serving Flask app '__main__'\n",
      " * Debug mode: on\n"
     ]
    },
    {
     "name": "stderr",
     "output_type": "stream",
     "text": [
      "WARNING: This is a development server. Do not use it in a production deployment. Use a production WSGI server instead.\n",
      " * Running on http://127.0.0.1:5000\n",
      "Press CTRL+C to quit\n",
      " * Restarting with stat\n",
      "Traceback (most recent call last):\n",
      "  File \"/opt/conda/lib/python3.10/runpy.py\", line 196, in _run_module_as_main\n",
      "    return _run_code(code, main_globals, None,\n",
      "  File \"/opt/conda/lib/python3.10/runpy.py\", line 86, in _run_code\n",
      "    exec(code, run_globals)\n",
      "  File \"/opt/conda/lib/python3.10/site-packages/ipykernel_launcher.py\", line 17, in <module>\n",
      "    app.launch_new_instance()\n",
      "  File \"/opt/conda/lib/python3.10/site-packages/traitlets/config/application.py\", line 991, in launch_instance\n",
      "    app.initialize(argv)\n",
      "  File \"/opt/conda/lib/python3.10/site-packages/traitlets/config/application.py\", line 113, in inner\n",
      "    return method(app, *args, **kwargs)\n",
      "  File \"/opt/conda/lib/python3.10/site-packages/ipykernel/kernelapp.py\", line 665, in initialize\n",
      "    self.init_sockets()\n",
      "  File \"/opt/conda/lib/python3.10/site-packages/ipykernel/kernelapp.py\", line 309, in init_sockets\n",
      "    self.shell_port = self._bind_socket(self.shell_socket, self.shell_port)\n",
      "  File \"/opt/conda/lib/python3.10/site-packages/ipykernel/kernelapp.py\", line 246, in _bind_socket\n",
      "    return self._try_bind_socket(s, port)\n",
      "  File \"/opt/conda/lib/python3.10/site-packages/ipykernel/kernelapp.py\", line 222, in _try_bind_socket\n",
      "    s.bind(\"tcp://%s:%i\" % (self.ip, port))\n",
      "  File \"/opt/conda/lib/python3.10/site-packages/zmq/sugar/socket.py\", line 232, in bind\n",
      "    super().bind(addr)\n",
      "  File \"zmq/backend/cython/socket.pyx\", line 568, in zmq.backend.cython.socket.Socket.bind\n",
      "  File \"zmq/backend/cython/checkrc.pxd\", line 28, in zmq.backend.cython.checkrc._check_rc\n",
      "zmq.error.ZMQError: Address already in use\n"
     ]
    },
    {
     "ename": "SystemExit",
     "evalue": "1",
     "output_type": "error",
     "traceback": [
      "An exception has occurred, use %tb to see the full traceback.\n",
      "\u001b[0;31mSystemExit\u001b[0m\u001b[0;31m:\u001b[0m 1\n"
     ]
    }
   ],
   "source": [
    "#@ Create a simple API. Use Postman to test it. Attach the screenshot of the output in the Jupyter Notebook.\n",
    "\n",
    "from flask import Flask, jsonify, request\n",
    "\n",
    "app = Flask(__name__)\n",
    "\n",
    "# Simple API endpoint to double a number\n",
    "@app.route('/api/double', methods=['POST'])\n",
    "def double():\n",
    "    # Extracting the number from the request JSON\n",
    "    data = request.json\n",
    "    number = data['number']\n",
    "\n",
    "    # Doubling the number\n",
    "    doubled_number = number * 2\n",
    "\n",
    "    # Returning the result as JSON\n",
    "    return jsonify({'result': doubled_number})\n",
    "\n",
    "if __name__ == '__main__':\n",
    "    app.run(debug=True)\n"
   ]
  },
  {
   "cell_type": "code",
   "execution_count": null,
   "id": "a8dd2300-a934-4dae-a1ea-90af937e7f0f",
   "metadata": {},
   "outputs": [],
   "source": []
  }
 ],
 "metadata": {
  "kernelspec": {
   "display_name": "Python 3 (ipykernel)",
   "language": "python",
   "name": "python3"
  },
  "language_info": {
   "codemirror_mode": {
    "name": "ipython",
    "version": 3
   },
   "file_extension": ".py",
   "mimetype": "text/x-python",
   "name": "python",
   "nbconvert_exporter": "python",
   "pygments_lexer": "ipython3",
   "version": "3.10.8"
  }
 },
 "nbformat": 4,
 "nbformat_minor": 5
}
