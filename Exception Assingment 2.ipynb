{
 "cells": [
  {
   "cell_type": "code",
   "execution_count": 1,
   "id": "3fe298f0-43ec-4d92-823a-a1feb900152c",
   "metadata": {},
   "outputs": [],
   "source": [
    "# Using the Exception class as the base class for a custom exception in Python is recommended because it provides inheritance, consistency with standard exceptions, better exception handling, and allows creating a hierarchy of custom exceptions. It ensures that the custom exception behaves like a standard exception and integrates well with Python's exception handling mechanisms."
   ]
  },
  {
   "cell_type": "code",
   "execution_count": 5,
   "id": "855492e9-5127-478f-8b16-7ac37ac28167",
   "metadata": {},
   "outputs": [],
   "source": [
    "# zerodivisionError"
   ]
  },
  {
   "cell_type": "code",
   "execution_count": 3,
   "id": "c8094c8b-9981-4ca3-a8c5-c974a9a49ca5",
   "metadata": {},
   "outputs": [
    {
     "name": "stdout",
     "output_type": "stream",
     "text": [
      "division by zero\n"
     ]
    }
   ],
   "source": [
    "try :     \n",
    "    a = 10/0\n",
    "except ZeroDivisionError as e :\n",
    "    print(e)\n",
    "    \n",
    "    "
   ]
  },
  {
   "cell_type": "code",
   "execution_count": 6,
   "id": "742d1144-280a-4c42-96c9-90ddeb08e841",
   "metadata": {},
   "outputs": [],
   "source": [
    "# IndexError"
   ]
  },
  {
   "cell_type": "code",
   "execution_count": 4,
   "id": "2d2f3411-184d-4ade-800b-2db9cd797728",
   "metadata": {},
   "outputs": [
    {
     "name": "stdout",
     "output_type": "stream",
     "text": [
      "list index out of range\n"
     ]
    }
   ],
   "source": [
    "try :\n",
    "    l = [ 1,2,3,4,5]\n",
    "    print(l[6])\n",
    "except IndexError as e:\n",
    "    print(e)"
   ]
  },
  {
   "cell_type": "code",
   "execution_count": 9,
   "id": "d2864bcc-2a0c-427f-a045-4fa553509626",
   "metadata": {},
   "outputs": [
    {
     "name": "stdout",
     "output_type": "stream",
     "text": [
      "'key2'\n"
     ]
    }
   ],
   "source": [
    "try :\n",
    "    a = { \"KK\" : \"KRISH\" , 55 : [2,3,5]}\n",
    "    print (a[\"key2\"])\n",
    "except KeyError as e :\n",
    "    print (e)"
   ]
  },
  {
   "cell_type": "code",
   "execution_count": 10,
   "id": "f1348809-2c34-406e-967a-d805ea12a250",
   "metadata": {},
   "outputs": [
    {
     "name": "stdout",
     "output_type": "stream",
     "text": [
      "Error: No module named 'nonexistent_module'\n"
     ]
    }
   ],
   "source": [
    "try:\n",
    "    import nonexistent_module\n",
    "except ModuleNotFoundError as e:\n",
    "    print(\"Error:\", e)"
   ]
  },
  {
   "cell_type": "code",
   "execution_count": 13,
   "id": "bcce58b1-bb2d-4783-b05b-acb05c7961b1",
   "metadata": {},
   "outputs": [
    {
     "name": "stdout",
     "output_type": "stream",
     "text": [
      "this is try only one time \n"
     ]
    }
   ],
   "source": [
    "try :\n",
    "    f = open(\"test.txt\" ,\"w\")\n",
    "    f.write(\"my name is kk\")\n",
    "except Exception as i :\n",
    "    print (\" this is my exception block\")\n",
    "else :\n",
    "    f.close()\n",
    "    print(\"this is try only one time \")"
   ]
  },
  {
   "cell_type": "code",
   "execution_count": null,
   "id": "9e98fcd3-8f4b-4e3b-8a44-49f6634d1fa7",
   "metadata": {},
   "outputs": [],
   "source": []
  }
 ],
 "metadata": {
  "kernelspec": {
   "display_name": "Python 3 (ipykernel)",
   "language": "python",
   "name": "python3"
  },
  "language_info": {
   "codemirror_mode": {
    "name": "ipython",
    "version": 3
   },
   "file_extension": ".py",
   "mimetype": "text/x-python",
   "name": "python",
   "nbconvert_exporter": "python",
   "pygments_lexer": "ipython3",
   "version": "3.10.8"
  }
 },
 "nbformat": 4,
 "nbformat_minor": 5
}
