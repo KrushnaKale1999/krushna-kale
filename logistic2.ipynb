{
 "cells": [
  {
   "cell_type": "code",
   "execution_count": null,
   "id": "6de08f5e-b91b-49b4-87d3-5464b37b3027",
   "metadata": {},
   "outputs": [],
   "source": [
    "### Q1. Purpose of Grid Search CV\n",
    "#**Purpose**: To find the best hyperparameters for a machine learning model by exhaustively searching through a specified parameter grid.\n",
    "#**How it Works**: Splits the dataset into training and validation sets, evaluates all combinations of hyperparameters, and selects the best based on performance metrics.\n",
    "\n",
    "### Q2. Grid Search CV vs. Randomized Search CV\n",
    "#**Grid Search CV**: Searches exhaustively over all possible combinations of hyperparameters. **Pros**: Thorough. **Cons**: Time-consuming.\n",
    "#**Randomized Search CV**: Randomly samples a specified number of hyperparameter combinations. **Pros**: Faster, more efficient for large search spaces. **Cons**: Less thorough.\n",
    "\n",
    "### Q3. Data Leakage\n",
    "#**Definition**: Occurs when information from outside the training dataset leaks into the model, leading to overly optimistic performance estimates.\n",
    "#**Example**: Including future information in the training set, like using future sales data to predict current sales.\n",
    "\n",
    "### Q4. Preventing Data Leakage\n",
    "#- **Proper Splitting**: Ensure training, validation, and test sets are correctly separated.\n",
    "#- **Pipeline Use**: Apply transformations within cross-validation using pipelines to prevent future data from leaking into the training process.\n",
    "\n",
    "### Q5. Confusion Matrix\n",
    "#**Definition**: A table showing the performance of a classification model. It includes:\n",
    "#- **True Positives (TP)**: Correctly predicted positive instances.\n",
    "#- **False Positives (FP)**: Incorrectly predicted positive instances.\n",
    "#- **True Negatives (TN)**: Correctly predicted negative instances.\n",
    "#- **False Negatives (FN)**: Incorrectly predicted negative instances.\n",
    "\n",
    "### Q6. Precision vs. Recall\n",
    "#- **Precision**: \\( \\frac{TP}{TP + FP} \\) - Proportion of correctly predicted positive instances out of all predicted positives.\n",
    "#- **Recall**: \\( \\frac{TP}{TP + FN} \\) - Proportion of correctly predicted positive instances out of all actual positives.\n",
    "\n",
    "### Q7. Interpreting a Confusion Matrix\n",
    "#- **High FP**: Model is prone to false alarms.\n",
    "#- **High FN**: Model is missing actual positives.\n",
    "#- **Balance**: Indicates the types of errors (FP or FN) the model is more likely to make.\n",
    "\n",
    "### Q8. Common Metrics from a Confusion Matrix\n",
    "#- **Accuracy**: \\( \\frac{TP + TN}{TP + TN + FP + FN} \\).\n",
    "#- **Precision**: \\( \\frac{TP}{TP + FP} \\).\n",
    "#- **Recall**: \\( \\frac{TP}{TP + FN} \\).\n",
    "#- **F1 Score**: \\( 2 \\times \\frac{Precision \\times Recall}{Precision + Recall} \\).\n",
    "\n",
    "### Q9. Accuracy and Confusion Matrix\n",
    "#**Relationship**: Accuracy is the ratio of correctly predicted instances (TP + TN) to the total instances. It provides a general sense of model performance but can be misleading with imbalanced datasets.\n",
    "\n",
    "### Q10. Using Confusion Matrix for Bias Identification\n",
    "#- **Imbalanced Errors**: Indicates if the model favors one class over another (e.g., high FP vs. FN).\n",
    "#- **Error Patterns**: Identifies systematic errors suggesting model bias or limitations in handling certain types of data."
   ]
  }
 ],
 "metadata": {
  "kernelspec": {
   "display_name": "Python 3 (ipykernel)",
   "language": "python",
   "name": "python3"
  },
  "language_info": {
   "codemirror_mode": {
    "name": "ipython",
    "version": 3
   },
   "file_extension": ".py",
   "mimetype": "text/x-python",
   "name": "python",
   "nbconvert_exporter": "python",
   "pygments_lexer": "ipython3",
   "version": "3.10.8"
  }
 },
 "nbformat": 4,
 "nbformat_minor": 5
}
